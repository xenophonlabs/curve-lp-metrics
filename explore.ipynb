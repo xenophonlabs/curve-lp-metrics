{
 "cells": [
  {
   "cell_type": "code",
   "execution_count": 1,
   "metadata": {},
   "outputs": [],
   "source": [
    "%load_ext autoreload\n",
    "%autoreload 2"
   ]
  },
  {
   "cell_type": "code",
   "execution_count": 10,
   "metadata": {},
   "outputs": [],
   "source": [
    "from curvemetrics.datafetcher import DataFetcher\n",
    "import timeit\n",
    "from datetime import datetime\n",
    "import pandas as pd\n",
    "import web3\n",
    "import matplotlib.pyplot as plt\n",
    "from curvemetrics.datahandler import RawDataHandler\n",
    "import json\n",
    "from curvemetrics.queries import queries\n",
    "import ccxt"
   ]
  },
  {
   "cell_type": "code",
   "execution_count": 45,
   "metadata": {},
   "outputs": [
    {
     "name": "stdout",
     "output_type": "stream",
     "text": [
      "binance, failed.\n",
      "binancecoinm, failed.\n",
      "binanceusdm, failed.\n",
      "bitflyer, failed.\n",
      "bittrex, USDN/BTC\n",
      "bittrex, USDN/USDT\n",
      "coinbase, failed.\n",
      "gate, USDN/USDT\n",
      "gateio, USDN/USDT\n",
      "hitbtc, USDN/USDT\n",
      "hitbtc3, USDN/USDT\n",
      "kuna, failed.\n",
      "mexc, USDN/USDT\n",
      "mexc3, USDN/USDT\n",
      "okcoin, failed.\n",
      "tidex, failed.\n",
      "tokocrypto, failed.\n"
     ]
    }
   ],
   "source": [
    "for exchange_id in ccxt.exchanges:\n",
    "    exchange = getattr(ccxt, exchange_id)()\n",
    "    try:\n",
    "        exchange.load_markets()\n",
    "        for market in exchange.markets.keys():\n",
    "            if \"USDN\" in market:\n",
    "                print(f'{exchange_id}, {market}')\n",
    "    except Exception as e:\n",
    "        print(f'{exchange_id}, failed.')"
   ]
  },
  {
   "cell_type": "code",
   "execution_count": 3,
   "metadata": {},
   "outputs": [],
   "source": [
    "datahandler = RawDataHandler()\n",
    "token_metadata = datahandler.get_token_metadata()\n",
    "pool_metadata = datahandler.get_pool_metadata()"
   ]
  },
  {
   "cell_type": "code",
   "execution_count": 9,
   "metadata": {},
   "outputs": [
    {
     "data": {
      "text/plain": [
       "dict_keys(['0x853d955acef822db058eb8505911ed77f175b99e', '0x5e8422345238f34275888049021821e8e08caa1f', '0xa0b86991c6218b36c1d19d4a2e9eb0ce3606eb48', '0x99d8a9c45b2eca8864373a26d1459e3dff1e17f3', '0xa693b19d2931d498c5b318df961919bb4aee87a5', '0xbe9895146f7af43049ca1c1ae358b0541ea49704', '0x62b9c7356a2dc64a1969e19c23e4f579f9810aa7', '0x57ab1ec28d129707052df4df418d58a2d46d5f51', '0xeeeeeeeeeeeeeeeeeeeeeeeeeeeeeeeeeeeeeeee', '0xdac17f958d2ee523a2206206994597c13d831ec7', '0xc02aaa39b223fe8d0a0e5c4f27ead9083c756cc2', '0xd533a949740bb3306d119cc777fa900ba034cd52', '0xae7ab96520de3a18e5e111b5eaab095312d7fe84', '0x4fabb145d64652a948d72533023f6e7a623c7c53', '0x6c3f90f043a72fa612cbac8115ee7e52bde6e490', '0x6b175474e89094c44da98b954eedeac495271d0f', '0x5f98805a4e8be255a32880fdec7f6728c6568ba0', '0x674c6ad92fd080e4004b2312b45f796a192d27a0'])"
      ]
     },
     "execution_count": 9,
     "metadata": {},
     "output_type": "execute_result"
    }
   ],
   "source": [
    "token_metadata.keys()"
   ]
  },
  {
   "cell_type": "code",
   "execution_count": 4,
   "metadata": {},
   "outputs": [],
   "source": [
    "STEP_SIZE = 10 # NOTE: increasing this risks losing txs, 10 is probably safe\n",
    "start = datetime(2023, 3, 10)\n",
    "start_timestamp, start_block = DataFetcher.get_block(start)\n",
    "end = datetime(2023, 3, 10, 1)\n",
    "end_timestamp, end_block = DataFetcher.get_block(end)\n",
    "\n",
    "datafetcher = DataFetcher(token_metadata=token_metadata)\n",
    "\n",
    "pool = '0xceaf7747579696a2f0bb206a14210e3c9e6fb269'\n",
    "token = '0xa0b86991c6218b36c1d19d4a2e9eb0ce3606eb48'"
   ]
  },
  {
   "cell_type": "code",
   "execution_count": 100,
   "metadata": {},
   "outputs": [
    {
     "name": "stderr",
     "output_type": "stream",
     "text": [
      "Fetching OHLCV for USDC/USD using Binance US...\n",
      "Fetching OHLCV for USDC/USD using Binance US...\n"
     ]
    }
   ],
   "source": [
    "token_data = datafetcher.get_ohlcv(start_timestamp, end_timestamp, token)\n",
    "pool_data = datafetcher.get_pool_data(start_block, end_block, pool, step_size=1)\n",
    "swaps_data = datafetcher.get_swaps_data(start_block, end_block, pool, step_size=STEP_SIZE)\n",
    "lp_data = datafetcher.get_lp_data(start_block, end_block, pool, step_size=STEP_SIZE)"
   ]
  },
  {
   "cell_type": "code",
   "execution_count": 80,
   "metadata": {},
   "outputs": [],
   "source": [
    "token_data_df = RawDataHandler.format_token_data(token_data)\n",
    "pool_df = RawDataHandler.format_pool_data(pool_data, datafetcher.start_timestamp, datafetcher.end_timestamp)\n",
    "swaps_df = RawDataHandler.format_swaps_data(swaps_data)\n",
    "lp_df = RawDataHandler.format_lp_data(lp_data)"
   ]
  },
  {
   "attachments": {},
   "cell_type": "markdown",
   "metadata": {},
   "source": [
    "# Missing Txs\n",
    "We show that if you increase the step_size between block_gte and block_lt you start losing transactions because theGraph has a rate limit of 100 rows per response."
   ]
  },
  {
   "cell_type": "code",
   "execution_count": null,
   "metadata": {},
   "outputs": [],
   "source": [
    "start = datetime(2023, 3, 11)\n",
    "end = datetime(2023, 3, 13)\n",
    "datafetcher = DataFetcher(start, end)\n",
    "_3pool = '0xbebc44782c7db0a1a60cb6fe97d0b483032ff1c7'"
   ]
  },
  {
   "cell_type": "code",
   "execution_count": null,
   "metadata": {},
   "outputs": [],
   "source": [
    "swaps_data_1 = datafetcher.get_swaps_data('3pool', step_size=1)\n",
    "swaps_data_10 = datafetcher.get_swaps_data('3pool', step_size=10)\n",
    "swaps_data_50 = datafetcher.get_swaps_data('3pool', step_size=50)\n",
    "swaps_data_100 = datafetcher.get_swaps_data('3pool', step_size=100)\n",
    "\n",
    "swaps_df_1 = RawDataHandler.format_swaps_data(swaps_data_1)\n",
    "swaps_df_10 = RawDataHandler.format_swaps_data(swaps_data_10)\n",
    "swaps_df_50 = RawDataHandler.format_swaps_data(swaps_data_50)\n",
    "swaps_df_100 = RawDataHandler.format_swaps_data(swaps_data_100)\n",
    "\n",
    "print(swaps_df_1.shape)\n",
    "print(swaps_df_10.shape)\n",
    "print(swaps_df_50.shape)\n",
    "print(swaps_df_100.shape)"
   ]
  },
  {
   "cell_type": "code",
   "execution_count": 59,
   "metadata": {},
   "outputs": [
    {
     "data": {
      "text/html": [
       "<div>\n",
       "<style scoped>\n",
       "    .dataframe tbody tr th:only-of-type {\n",
       "        vertical-align: middle;\n",
       "    }\n",
       "\n",
       "    .dataframe tbody tr th {\n",
       "        vertical-align: top;\n",
       "    }\n",
       "\n",
       "    .dataframe thead th {\n",
       "        text-align: right;\n",
       "    }\n",
       "</style>\n",
       "<table border=\"1\" class=\"dataframe\">\n",
       "  <thead>\n",
       "    <tr style=\"text-align: right;\">\n",
       "      <th></th>\n",
       "      <th>id</th>\n",
       "      <th>amountBought</th>\n",
       "      <th>amountSold</th>\n",
       "      <th>block</th>\n",
       "      <th>buyer</th>\n",
       "      <th>gasLimit</th>\n",
       "      <th>gasUsed</th>\n",
       "      <th>isUnderlying</th>\n",
       "      <th>timestamp</th>\n",
       "      <th>tokenBought</th>\n",
       "      <th>tokenSold</th>\n",
       "      <th>tx</th>\n",
       "      <th>pool_id</th>\n",
       "      <th>block_gte</th>\n",
       "      <th>block_lt</th>\n",
       "    </tr>\n",
       "  </thead>\n",
       "  <tbody>\n",
       "    <tr>\n",
       "      <th>16058</th>\n",
       "      <td>0xdc50a0d779d4c5792f32e1a9a5ba2914f58aa654bb79...</td>\n",
       "      <td>340929.942491</td>\n",
       "      <td>331341.859263</td>\n",
       "      <td>16804730</td>\n",
       "      <td>0xdecf04ca46d287b3cb99692ad512e568ba276140</td>\n",
       "      <td>601141</td>\n",
       "      <td>360441</td>\n",
       "      <td>0</td>\n",
       "      <td>1678536347</td>\n",
       "      <td>0xa0b86991c6218b36c1d19d4a2e9eb0ce3606eb48</td>\n",
       "      <td>0x6b175474e89094c44da98b954eedeac495271d0f</td>\n",
       "      <td>0xdc50a0d779d4c5792f32e1a9a5ba2914f58aa654bb79...</td>\n",
       "      <td>0xbebc44782c7db0a1a60cb6fe97d0b483032ff1c7</td>\n",
       "      <td>16804724</td>\n",
       "      <td>16804734</td>\n",
       "    </tr>\n",
       "  </tbody>\n",
       "</table>\n",
       "</div>"
      ],
      "text/plain": [
       "                                                      id   amountBought   \n",
       "16058  0xdc50a0d779d4c5792f32e1a9a5ba2914f58aa654bb79...  340929.942491  \\\n",
       "\n",
       "          amountSold     block                                       buyer   \n",
       "16058  331341.859263  16804730  0xdecf04ca46d287b3cb99692ad512e568ba276140  \\\n",
       "\n",
       "       gasLimit  gasUsed  isUnderlying   timestamp   \n",
       "16058    601141   360441             0  1678536347  \\\n",
       "\n",
       "                                      tokenBought   \n",
       "16058  0xa0b86991c6218b36c1d19d4a2e9eb0ce3606eb48  \\\n",
       "\n",
       "                                        tokenSold   \n",
       "16058  0x6b175474e89094c44da98b954eedeac495271d0f  \\\n",
       "\n",
       "                                                      tx   \n",
       "16058  0xdc50a0d779d4c5792f32e1a9a5ba2914f58aa654bb79...  \\\n",
       "\n",
       "                                          pool_id  block_gte  block_lt  \n",
       "16058  0xbebc44782c7db0a1a60cb6fe97d0b483032ff1c7   16804724  16804734  "
      ]
     },
     "execution_count": 59,
     "metadata": {},
     "output_type": "execute_result"
    }
   ],
   "source": [
    "missing = set(swaps_df_10['id']) - set(swaps_df_100['id'])\n",
    "missing_eg = missing.pop()\n",
    "swaps_df_10[swaps_df_10['id']==missing_eg]"
   ]
  },
  {
   "cell_type": "code",
   "execution_count": 78,
   "metadata": {},
   "outputs": [
    {
     "name": "stdout",
     "output_type": "stream",
     "text": [
      "89\n"
     ]
    }
   ],
   "source": [
    "CURVE_SUBGRAPH_URL_CVX = 'https://api.thegraph.com/subgraphs/name/convex-community/curve-mainnet'\n",
    "block = 16804725\n",
    "query = queries['swapEvents']\n",
    "kwargs = {'pool_id':'0xbebc44782c7db0a1a60cb6fe97d0b483032ff1c7', 'block_gte':block, 'block_lt':block+40}\n",
    "out = await datafetcher.execute_query_async(query, 'swapEvents', CURVE_SUBGRAPH_URL_CVX, **kwargs)\n",
    "out_df = RawDataHandler.format_swaps_data([out])\n",
    "print(len(out_df))\n",
    "# out_df[out_df['id'] == '0xdc50a0d779d4c5792f32e1a9a5ba2914f58aa654bb79ad59d0daf319692bac5b-340929.942491-131']"
   ]
  },
  {
   "cell_type": "code",
   "execution_count": 45,
   "metadata": {},
   "outputs": [
    {
     "data": {
      "text/html": [
       "<div>\n",
       "<style scoped>\n",
       "    .dataframe tbody tr th:only-of-type {\n",
       "        vertical-align: middle;\n",
       "    }\n",
       "\n",
       "    .dataframe tbody tr th {\n",
       "        vertical-align: top;\n",
       "    }\n",
       "\n",
       "    .dataframe thead th {\n",
       "        text-align: right;\n",
       "    }\n",
       "</style>\n",
       "<table border=\"1\" class=\"dataframe\">\n",
       "  <thead>\n",
       "    <tr style=\"text-align: right;\">\n",
       "      <th></th>\n",
       "      <th>id</th>\n",
       "      <th>amountBought</th>\n",
       "      <th>amountSold</th>\n",
       "      <th>block</th>\n",
       "      <th>buyer</th>\n",
       "      <th>gasLimit</th>\n",
       "      <th>gasUsed</th>\n",
       "      <th>isUnderlying</th>\n",
       "      <th>timestamp</th>\n",
       "      <th>tokenBought</th>\n",
       "      <th>tokenSold</th>\n",
       "      <th>tx</th>\n",
       "      <th>pool_id</th>\n",
       "      <th>block_gte</th>\n",
       "      <th>block_lt</th>\n",
       "    </tr>\n",
       "  </thead>\n",
       "  <tbody>\n",
       "  </tbody>\n",
       "</table>\n",
       "</div>"
      ],
      "text/plain": [
       "Empty DataFrame\n",
       "Columns: [id, amountBought, amountSold, block, buyer, gasLimit, gasUsed, isUnderlying, timestamp, tokenBought, tokenSold, tx, pool_id, block_gte, block_lt]\n",
       "Index: []"
      ]
     },
     "execution_count": 45,
     "metadata": {},
     "output_type": "execute_result"
    }
   ],
   "source": [
    "CURVE_SUBGRAPH_URL_CVX = 'https://api.thegraph.com/subgraphs/name/convex-community/curve-mainnet'\n",
    "query = queries['swapEvents']\n",
    "kwargs = {'pool_id':'0xbebc44782c7db0a1a60cb6fe97d0b483032ff1c7', 'block_gte':16804686, 'block_lt':16804735}\n",
    "out = await datafetcher.execute_query_async(query, 'swapEvents', CURVE_SUBGRAPH_URL_CVX, **kwargs)\n",
    "out_df = RawDataHandler.format_swaps_data([out])\n",
    "out_df[out_df['id'] == '0xdc50a0d779d4c5792f32e1a9a5ba2914f58aa654bb79ad59d0daf319692bac5b-340929.942491-131']"
   ]
  }
 ],
 "metadata": {
  "kernelspec": {
   "display_name": "venv",
   "language": "python",
   "name": "python3"
  },
  "language_info": {
   "codemirror_mode": {
    "name": "ipython",
    "version": 3
   },
   "file_extension": ".py",
   "mimetype": "text/x-python",
   "name": "python",
   "nbconvert_exporter": "python",
   "pygments_lexer": "ipython3",
   "version": "3.10.6"
  },
  "orig_nbformat": 4
 },
 "nbformat": 4,
 "nbformat_minor": 2
}
