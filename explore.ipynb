{
 "cells": [
  {
   "cell_type": "code",
   "execution_count": 1,
   "metadata": {},
   "outputs": [],
   "source": [
    "%load_ext autoreload\n",
    "%autoreload 2"
   ]
  },
  {
   "cell_type": "code",
   "execution_count": 2,
   "metadata": {},
   "outputs": [],
   "source": [
    "from curvemetrics.datafetcher import DataFetcher\n",
    "import timeit\n",
    "from datetime import datetime\n",
    "import pandas as pd\n",
    "import web3\n",
    "import matplotlib.pyplot as plt\n",
    "from curvemetrics.datahelper import RawDatabaseHelper\n",
    "import json"
   ]
  },
  {
   "cell_type": "code",
   "execution_count": 13,
   "metadata": {},
   "outputs": [],
   "source": [
    "# DataFetcher.cache_pool_metadata()"
   ]
  },
  {
   "cell_type": "code",
   "execution_count": 14,
   "metadata": {},
   "outputs": [],
   "source": [
    "with open('./curvemetrics/tokens.json', 'r') as f:\n",
    "    tokens = json.load(f)\n",
    "\n",
    "with open('./curvemetrics/pools.json', 'r') as f:\n",
    "    pools = json.load(f)"
   ]
  },
  {
   "cell_type": "code",
   "execution_count": 15,
   "metadata": {},
   "outputs": [],
   "source": [
    "start = datetime(2023, 3, 1)\n",
    "end = datetime(2023, 4, 1)\n",
    "datafetcher = DataFetcher(start, end)"
   ]
  },
  {
   "cell_type": "code",
   "execution_count": 18,
   "metadata": {},
   "outputs": [
    {
     "ename": "",
     "evalue": "",
     "output_type": "error",
     "traceback": [
      "\u001b[1;31mCanceled future for execute_request message before replies were done"
     ]
    },
    {
     "ename": "",
     "evalue": "",
     "output_type": "error",
     "traceback": [
      "\u001b[1;31mThe Kernel crashed while executing code in the the current cell or a previous cell. Please review the code in the cell(s) to identify a possible cause of the failure. Click <a href='https://aka.ms/vscodeJupyterKernelCrash'>here</a> for more info. View Jupyter <a href='command:jupyter.viewOutput'>log</a> for further details."
     ]
    }
   ],
   "source": [
    "pool_data = datafetcher.get_pool_data('3pool', step_size=1)"
   ]
  },
  {
   "cell_type": "code",
   "execution_count": null,
   "metadata": {},
   "outputs": [
    {
     "ename": "Exception",
     "evalue": "Pool 3pool not found in pools.json. 'pool_id'",
     "output_type": "error",
     "traceback": [
      "\u001b[0;31m---------------------------------------------------------------------------\u001b[0m",
      "\u001b[0;31mKeyError\u001b[0m                                  Traceback (most recent call last)",
      "File \u001b[0;32m~/curve-lp-metrics/curvemetrics/datafetcher.py:275\u001b[0m, in \u001b[0;36mDataFetcher.get_pool_id\u001b[0;34m(name)\u001b[0m\n\u001b[1;32m    274\u001b[0m         pools \u001b[39m=\u001b[39m json\u001b[39m.\u001b[39mload(f)\n\u001b[0;32m--> 275\u001b[0m         \u001b[39mreturn\u001b[39;00m pools[name][\u001b[39m'\u001b[39;49m\u001b[39mpool_id\u001b[39;49m\u001b[39m'\u001b[39;49m]\n\u001b[1;32m    276\u001b[0m \u001b[39mexcept\u001b[39;00m \u001b[39mException\u001b[39;00m \u001b[39mas\u001b[39;00m e: \n",
      "\u001b[0;31mKeyError\u001b[0m: 'pool_id'",
      "\nDuring handling of the above exception, another exception occurred:\n",
      "\u001b[0;31mException\u001b[0m                                 Traceback (most recent call last)",
      "Cell \u001b[0;32mIn[17], line 1\u001b[0m\n\u001b[0;32m----> 1\u001b[0m lp_data \u001b[39m=\u001b[39m datafetcher\u001b[39m.\u001b[39;49mget_lp_data(\u001b[39m'\u001b[39;49m\u001b[39m3pool\u001b[39;49m\u001b[39m'\u001b[39;49m, step_size\u001b[39m=\u001b[39;49m\u001b[39m100\u001b[39;49m)\n",
      "File \u001b[0;32m~/curve-lp-metrics/curvemetrics/datafetcher.py:198\u001b[0m, in \u001b[0;36mDataFetcher.get_lp_data\u001b[0;34m(self, pool_name, step_size)\u001b[0m\n\u001b[1;32m    190\u001b[0m \u001b[39mdef\u001b[39;00m \u001b[39mget_lp_data\u001b[39m(\n\u001b[1;32m    191\u001b[0m     \u001b[39mself\u001b[39m,\n\u001b[1;32m    192\u001b[0m     pool_name: \u001b[39mstr\u001b[39m,\n\u001b[1;32m    193\u001b[0m     step_size: \u001b[39mint\u001b[39m \u001b[39m=\u001b[39m \u001b[39m100\u001b[39m\n\u001b[1;32m    194\u001b[0m ) \u001b[39m-\u001b[39m\u001b[39m>\u001b[39m Any:\n\u001b[1;32m    195\u001b[0m \u001b[39m    \u001b[39m\u001b[39m\"\"\"\u001b[39;00m\n\u001b[1;32m    196\u001b[0m \u001b[39m    Get lp deposits and withdrawals data from Convex-community subgraph.\u001b[39;00m\n\u001b[1;32m    197\u001b[0m \u001b[39m    \"\"\"\u001b[39;00m\n\u001b[0;32m--> 198\u001b[0m     \u001b[39mreturn\u001b[39;00m \u001b[39mself\u001b[39;49m\u001b[39m.\u001b[39;49mexecute_queries(pool_name, \u001b[39m'\u001b[39;49m\u001b[39mcvx\u001b[39;49m\u001b[39m'\u001b[39;49m, \u001b[39m'\u001b[39;49m\u001b[39mliquidityEvents\u001b[39;49m\u001b[39m'\u001b[39;49m, step_size, \u001b[39mTrue\u001b[39;49;00m)\n",
      "File \u001b[0;32m~/curve-lp-metrics/curvemetrics/datafetcher.py:166\u001b[0m, in \u001b[0;36mDataFetcher.execute_queries\u001b[0;34m(self, pool_name, source, key, step_size, full)\u001b[0m\n\u001b[1;32m    164\u001b[0m query \u001b[39m=\u001b[39m queries[key]\n\u001b[1;32m    165\u001b[0m url \u001b[39m=\u001b[39m DataFetcher\u001b[39m.\u001b[39mget_url(source)\n\u001b[0;32m--> 166\u001b[0m pool_id \u001b[39m=\u001b[39m DataFetcher\u001b[39m.\u001b[39;49mget_pool_id(pool_name)\n\u001b[1;32m    167\u001b[0m data \u001b[39m=\u001b[39m asyncio\u001b[39m.\u001b[39mrun(\u001b[39mself\u001b[39m\u001b[39m.\u001b[39mexecute_queries_async(query, key, url, step_size, full, pool_id\u001b[39m=\u001b[39mpool_id))\n\u001b[1;32m    168\u001b[0m \u001b[39mreturn\u001b[39;00m data\n",
      "File \u001b[0;32m~/curve-lp-metrics/curvemetrics/datafetcher.py:277\u001b[0m, in \u001b[0;36mDataFetcher.get_pool_id\u001b[0;34m(name)\u001b[0m\n\u001b[1;32m    275\u001b[0m         \u001b[39mreturn\u001b[39;00m pools[name][\u001b[39m'\u001b[39m\u001b[39mpool_id\u001b[39m\u001b[39m'\u001b[39m]\n\u001b[1;32m    276\u001b[0m \u001b[39mexcept\u001b[39;00m \u001b[39mException\u001b[39;00m \u001b[39mas\u001b[39;00m e: \n\u001b[0;32m--> 277\u001b[0m     \u001b[39mraise\u001b[39;00m \u001b[39mException\u001b[39;00m(\u001b[39mf\u001b[39m\u001b[39m'\u001b[39m\u001b[39mPool \u001b[39m\u001b[39m{\u001b[39;00mname\u001b[39m}\u001b[39;00m\u001b[39m not found in pools.json. \u001b[39m\u001b[39m{\u001b[39;00me\u001b[39m}\u001b[39;00m\u001b[39m'\u001b[39m)\n",
      "\u001b[0;31mException\u001b[0m: Pool 3pool not found in pools.json. 'pool_id'"
     ]
    }
   ],
   "source": [
    "lp_data = datafetcher.get_lp_data('3pool', step_size=100)"
   ]
  },
  {
   "cell_type": "code",
   "execution_count": null,
   "metadata": {},
   "outputs": [],
   "source": [
    "swaps_data = datafetcher.get_swaps_data('3pool', step_size=100)"
   ]
  },
  {
   "cell_type": "code",
   "execution_count": null,
   "metadata": {},
   "outputs": [],
   "source": [
    "# def populate_token_data(tokens):\n",
    "#         \"\"\"\n",
    "#         Checks that we have the name and symbol of all token addresses\n",
    "#         \"\"\"\n",
    "#         missing_addresses = set(tokens) - set(self.tokens)\n",
    "#         if len(missing_addresses) > 0:\n",
    "#             for addy in missing_addresses:\n",
    "#                 _addy = web3.to_checksum_address(addy)\n",
    "#                 contract = self.web3.eth.contract(address=_addy, abi=self.erc20_abi)\n",
    "#                 name = contract.functions.name().call()\n",
    "#                 symbol = contract.functions.symbol().call()\n",
    "#                 decimals = contract.functions.decimals().call()\n",
    "#                 self.tokens[addy] = {'name': name, 'symbol': symbol, 'decimals': decimals}\n",
    "\n",
    "#             with open('tokens.json', 'w') as f:\n",
    "#                 json.dump(self.tokens, f)"
   ]
  },
  {
   "cell_type": "code",
   "execution_count": 182,
   "metadata": {},
   "outputs": [
    {
     "data": {
      "text/plain": [
       "block                 int64\n",
       "liquidityProvider    object\n",
       "removal                bool\n",
       "timestamp             int64\n",
       "tokenAmounts         object\n",
       "totalSupply          object\n",
       "tx                   object\n",
       "pool                 object\n",
       "pool_id              object\n",
       "block_gte             int64\n",
       "block_lt              int64\n",
       "dtype: object"
      ]
     },
     "execution_count": 182,
     "metadata": {},
     "output_type": "execute_result"
    }
   ],
   "source": [
    "lp_df = RawDatabaseHelper.format_lp_data(lp_data)\n",
    "lp_df.dtypes"
   ]
  },
  {
   "cell_type": "code",
   "execution_count": 185,
   "metadata": {},
   "outputs": [
    {
     "data": {
      "text/plain": [
       "['0', '0', '5037379433']"
      ]
     },
     "execution_count": 185,
     "metadata": {},
     "output_type": "execute_result"
    }
   ],
   "source": [
    "lp_data[0][0]['tokenAmounts']"
   ]
  },
  {
   "cell_type": "code",
   "execution_count": 170,
   "metadata": {},
   "outputs": [],
   "source": [
    "lp_df = format_lp_data(lp_data)"
   ]
  },
  {
   "cell_type": "code",
   "execution_count": 178,
   "metadata": {},
   "outputs": [
    {
     "data": {
      "text/plain": [
       "block                 int64\n",
       "liquidityProvider    object\n",
       "removal                bool\n",
       "timestamp             int64\n",
       "tokenAmounts         object\n",
       "totalSupply          object\n",
       "tx                   object\n",
       "pool                 object\n",
       "pool_id              object\n",
       "block_gte             int64\n",
       "block_lt              int64\n",
       "dtype: object"
      ]
     },
     "execution_count": 178,
     "metadata": {},
     "output_type": "execute_result"
    }
   ],
   "source": [
    "lp_df.dtypes"
   ]
  },
  {
   "cell_type": "code",
   "execution_count": 175,
   "metadata": {},
   "outputs": [],
   "source": [
    "swaps_df = format_swaps_data(swaps_data)"
   ]
  },
  {
   "cell_type": "code",
   "execution_count": 176,
   "metadata": {},
   "outputs": [
    {
     "data": {
      "text/html": [
       "<div>\n",
       "<style scoped>\n",
       "    .dataframe tbody tr th:only-of-type {\n",
       "        vertical-align: middle;\n",
       "    }\n",
       "\n",
       "    .dataframe tbody tr th {\n",
       "        vertical-align: top;\n",
       "    }\n",
       "\n",
       "    .dataframe thead th {\n",
       "        text-align: right;\n",
       "    }\n",
       "</style>\n",
       "<table border=\"1\" class=\"dataframe\">\n",
       "  <thead>\n",
       "    <tr style=\"text-align: right;\">\n",
       "      <th></th>\n",
       "      <th>amountBought</th>\n",
       "      <th>amountSold</th>\n",
       "      <th>block</th>\n",
       "      <th>buyer</th>\n",
       "      <th>gasLimit</th>\n",
       "      <th>gasUsed</th>\n",
       "      <th>isUnderlying</th>\n",
       "      <th>timestamp</th>\n",
       "      <th>tokenBought</th>\n",
       "      <th>tokenSold</th>\n",
       "      <th>tx</th>\n",
       "      <th>pool_id</th>\n",
       "      <th>block_gte</th>\n",
       "      <th>block_lt</th>\n",
       "    </tr>\n",
       "  </thead>\n",
       "  <tbody>\n",
       "    <tr>\n",
       "      <th>0</th>\n",
       "      <td>237349.724962</td>\n",
       "      <td>237332.314453</td>\n",
       "      <td>16734042</td>\n",
       "      <td>0xa57bd00134b2850b2a1c55860c9e9ea100fdd6cf</td>\n",
       "      <td>439696</td>\n",
       "      <td>177248</td>\n",
       "      <td>0</td>\n",
       "      <td>1677676991</td>\n",
       "      <td>0xa0b86991c6218b36c1d19d4a2e9eb0ce3606eb48</td>\n",
       "      <td>0xdac17f958d2ee523a2206206994597c13d831ec7</td>\n",
       "      <td>0x39cbc81af8a6a982833dc3375ba349e0f531df613253...</td>\n",
       "      <td>0xbebc44782c7db0a1a60cb6fe97d0b483032ff1c7</td>\n",
       "      <td>16733972</td>\n",
       "      <td>16734072</td>\n",
       "    </tr>\n",
       "    <tr>\n",
       "      <th>1</th>\n",
       "      <td>9460.305080</td>\n",
       "      <td>9460.827122</td>\n",
       "      <td>16734026</td>\n",
       "      <td>0x7122db0ebe4eb9b434a9f2ffe6760bc03bfbd0e0</td>\n",
       "      <td>1507757</td>\n",
       "      <td>1206206</td>\n",
       "      <td>0</td>\n",
       "      <td>1677676799</td>\n",
       "      <td>0xa0b86991c6218b36c1d19d4a2e9eb0ce3606eb48</td>\n",
       "      <td>0x6b175474e89094c44da98b954eedeac495271d0f</td>\n",
       "      <td>0x4f71c32d9c71befc4719113f24b6e9d7ebb8a2cf13f1...</td>\n",
       "      <td>0xbebc44782c7db0a1a60cb6fe97d0b483032ff1c7</td>\n",
       "      <td>16733972</td>\n",
       "      <td>16734072</td>\n",
       "    </tr>\n",
       "    <tr>\n",
       "      <th>2</th>\n",
       "      <td>10497.121407</td>\n",
       "      <td>10500.000000</td>\n",
       "      <td>16734003</td>\n",
       "      <td>0x99a58482bd75cbab83b27ec03ca68ff489b5788f</td>\n",
       "      <td>979089</td>\n",
       "      <td>633746</td>\n",
       "      <td>0</td>\n",
       "      <td>1677676523</td>\n",
       "      <td>0xdac17f958d2ee523a2206206994597c13d831ec7</td>\n",
       "      <td>0xa0b86991c6218b36c1d19d4a2e9eb0ce3606eb48</td>\n",
       "      <td>0x6a0613d559886c8b92f99aaa0a23098ae9ced5668948...</td>\n",
       "      <td>0xbebc44782c7db0a1a60cb6fe97d0b483032ff1c7</td>\n",
       "      <td>16733972</td>\n",
       "      <td>16734072</td>\n",
       "    </tr>\n",
       "    <tr>\n",
       "      <th>3</th>\n",
       "      <td>8835.783521</td>\n",
       "      <td>8835.128463</td>\n",
       "      <td>16733978</td>\n",
       "      <td>0x99a58482bd75cbab83b27ec03ca68ff489b5788f</td>\n",
       "      <td>1041067</td>\n",
       "      <td>694048</td>\n",
       "      <td>0</td>\n",
       "      <td>1677676223</td>\n",
       "      <td>0xa0b86991c6218b36c1d19d4a2e9eb0ce3606eb48</td>\n",
       "      <td>0xdac17f958d2ee523a2206206994597c13d831ec7</td>\n",
       "      <td>0x9027cfd2474d7bb7cd61242b228a9dfc2fb6b0fd6eb0...</td>\n",
       "      <td>0xbebc44782c7db0a1a60cb6fe97d0b483032ff1c7</td>\n",
       "      <td>16733972</td>\n",
       "      <td>16734072</td>\n",
       "    </tr>\n",
       "    <tr>\n",
       "      <th>4</th>\n",
       "      <td>500.863480</td>\n",
       "      <td>501.000000</td>\n",
       "      <td>16734060</td>\n",
       "      <td>0x99a58482bd75cbab83b27ec03ca68ff489b5788f</td>\n",
       "      <td>322263</td>\n",
       "      <td>198316</td>\n",
       "      <td>0</td>\n",
       "      <td>1677677207</td>\n",
       "      <td>0xdac17f958d2ee523a2206206994597c13d831ec7</td>\n",
       "      <td>0xa0b86991c6218b36c1d19d4a2e9eb0ce3606eb48</td>\n",
       "      <td>0xba5f30e931e22e53c367a074b333abe727a54d9a93d3...</td>\n",
       "      <td>0xbebc44782c7db0a1a60cb6fe97d0b483032ff1c7</td>\n",
       "      <td>16733972</td>\n",
       "      <td>16734072</td>\n",
       "    </tr>\n",
       "  </tbody>\n",
       "</table>\n",
       "</div>"
      ],
      "text/plain": [
       "    amountBought     amountSold     block   \n",
       "0  237349.724962  237332.314453  16734042  \\\n",
       "1    9460.305080    9460.827122  16734026   \n",
       "2   10497.121407   10500.000000  16734003   \n",
       "3    8835.783521    8835.128463  16733978   \n",
       "4     500.863480     501.000000  16734060   \n",
       "\n",
       "                                        buyer  gasLimit  gasUsed   \n",
       "0  0xa57bd00134b2850b2a1c55860c9e9ea100fdd6cf    439696   177248  \\\n",
       "1  0x7122db0ebe4eb9b434a9f2ffe6760bc03bfbd0e0   1507757  1206206   \n",
       "2  0x99a58482bd75cbab83b27ec03ca68ff489b5788f    979089   633746   \n",
       "3  0x99a58482bd75cbab83b27ec03ca68ff489b5788f   1041067   694048   \n",
       "4  0x99a58482bd75cbab83b27ec03ca68ff489b5788f    322263   198316   \n",
       "\n",
       "   isUnderlying   timestamp                                 tokenBought   \n",
       "0             0  1677676991  0xa0b86991c6218b36c1d19d4a2e9eb0ce3606eb48  \\\n",
       "1             0  1677676799  0xa0b86991c6218b36c1d19d4a2e9eb0ce3606eb48   \n",
       "2             0  1677676523  0xdac17f958d2ee523a2206206994597c13d831ec7   \n",
       "3             0  1677676223  0xa0b86991c6218b36c1d19d4a2e9eb0ce3606eb48   \n",
       "4             0  1677677207  0xdac17f958d2ee523a2206206994597c13d831ec7   \n",
       "\n",
       "                                    tokenSold   \n",
       "0  0xdac17f958d2ee523a2206206994597c13d831ec7  \\\n",
       "1  0x6b175474e89094c44da98b954eedeac495271d0f   \n",
       "2  0xa0b86991c6218b36c1d19d4a2e9eb0ce3606eb48   \n",
       "3  0xdac17f958d2ee523a2206206994597c13d831ec7   \n",
       "4  0xa0b86991c6218b36c1d19d4a2e9eb0ce3606eb48   \n",
       "\n",
       "                                                  tx   \n",
       "0  0x39cbc81af8a6a982833dc3375ba349e0f531df613253...  \\\n",
       "1  0x4f71c32d9c71befc4719113f24b6e9d7ebb8a2cf13f1...   \n",
       "2  0x6a0613d559886c8b92f99aaa0a23098ae9ced5668948...   \n",
       "3  0x9027cfd2474d7bb7cd61242b228a9dfc2fb6b0fd6eb0...   \n",
       "4  0xba5f30e931e22e53c367a074b333abe727a54d9a93d3...   \n",
       "\n",
       "                                      pool_id  block_gte  block_lt  \n",
       "0  0xbebc44782c7db0a1a60cb6fe97d0b483032ff1c7   16733972  16734072  \n",
       "1  0xbebc44782c7db0a1a60cb6fe97d0b483032ff1c7   16733972  16734072  \n",
       "2  0xbebc44782c7db0a1a60cb6fe97d0b483032ff1c7   16733972  16734072  \n",
       "3  0xbebc44782c7db0a1a60cb6fe97d0b483032ff1c7   16733972  16734072  \n",
       "4  0xbebc44782c7db0a1a60cb6fe97d0b483032ff1c7   16733972  16734072  "
      ]
     },
     "execution_count": 176,
     "metadata": {},
     "output_type": "execute_result"
    }
   ],
   "source": [
    "swaps_df.head()"
   ]
  },
  {
   "cell_type": "code",
   "execution_count": 177,
   "metadata": {},
   "outputs": [
    {
     "data": {
      "text/plain": [
       "amountBought    float64\n",
       "amountSold      float64\n",
       "block             int64\n",
       "buyer            object\n",
       "gasLimit          int64\n",
       "gasUsed           int64\n",
       "isUnderlying      int64\n",
       "timestamp         int64\n",
       "tokenBought      object\n",
       "tokenSold        object\n",
       "tx               object\n",
       "pool_id          object\n",
       "block_gte         int64\n",
       "block_lt          int64\n",
       "dtype: object"
      ]
     },
     "execution_count": 177,
     "metadata": {},
     "output_type": "execute_result"
    }
   ],
   "source": [
    "swaps_df.dtypes"
   ]
  },
  {
   "cell_type": "code",
   "execution_count": null,
   "metadata": {},
   "outputs": [],
   "source": []
  }
 ],
 "metadata": {
  "kernelspec": {
   "display_name": "venv",
   "language": "python",
   "name": "python3"
  },
  "language_info": {
   "codemirror_mode": {
    "name": "ipython",
    "version": 3
   },
   "file_extension": ".py",
   "mimetype": "text/x-python",
   "name": "python",
   "nbconvert_exporter": "python",
   "pygments_lexer": "ipython3",
   "version": "3.10.6"
  },
  "orig_nbformat": 4
 },
 "nbformat": 4,
 "nbformat_minor": 2
}
