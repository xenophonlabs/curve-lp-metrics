{
 "cells": [
  {
   "cell_type": "code",
   "execution_count": 1,
   "metadata": {},
   "outputs": [],
   "source": [
    "%load_ext autoreload\n",
    "%autoreload 2"
   ]
  },
  {
   "cell_type": "code",
   "execution_count": 2,
   "metadata": {},
   "outputs": [],
   "source": [
    "from curvemetrics.datafetcher import DataFetcher\n",
    "import timeit\n",
    "from datetime import datetime\n",
    "import pandas as pd\n",
    "import web3\n",
    "import matplotlib.pyplot as plt\n",
    "from curvemetrics.datahandler import RawDataHandler\n",
    "import json\n",
    "from curvemetrics.queries import queries"
   ]
  },
  {
   "cell_type": "code",
   "execution_count": 3,
   "metadata": {},
   "outputs": [],
   "source": [
    "with open('./curvemetrics/tokens.json', 'r') as f:\n",
    "    tokens = json.load(f)\n",
    "\n",
    "with open('./curvemetrics/pools.json', 'r') as f:\n",
    "    pools = json.load(f)"
   ]
  },
  {
   "cell_type": "code",
   "execution_count": 4,
   "metadata": {},
   "outputs": [],
   "source": [
    "STEP_SIZE = 10 # NOTE: increasing this risks losing txs, 10 is probably safe\n",
    "start = datetime(2023, 3, 11)\n",
    "end = datetime(2023, 3, 13)\n",
    "datafetcher = DataFetcher(start, end)\n",
    "_3pool = '0xbebc44782c7db0a1a60cb6fe97d0b483032ff1c7'"
   ]
  },
  {
   "cell_type": "code",
   "execution_count": 54,
   "metadata": {},
   "outputs": [],
   "source": [
    "pool_metadata = DataFetcher.get_pools_metadata()\n",
    "token_metadata = DataFetcher.get_tokens_metadata(pool_metadata)\n",
    "token_data = datafetcher.get_ohlcv('0xa0b86991c6218b36c1d19d4a2e9eb0ce3606eb48')\n",
    "pool_data = datafetcher.get_pool_data(_3pool, step_size=1)\n",
    "swaps_data = datafetcher.get_swaps_data(_3pool, step_size=STEP_SIZE)\n",
    "lp_data = datafetcher.get_lp_data(_3pool, step_size=STEP_SIZE)"
   ]
  },
  {
   "cell_type": "code",
   "execution_count": 64,
   "metadata": {},
   "outputs": [],
   "source": [
    "pool_metadata_df = RawDataHandler.format_pool_metadata(pool_metadata)\n",
    "token_metadata_df = RawDataHandler.format_token_metadata(token_metadata)\n",
    "token_data_df = RawDataHandler.format_token_data(token_data)\n",
    "pool_df = RawDataHandler.format_pool_data(pool_data, datafetcher.start_timestamp, datafetcher.end_timestamp)\n",
    "swaps_df = RawDataHandler.format_swaps_data(swaps_data)\n",
    "lp_df = RawDataHandler.format_lp_data(lp_data)"
   ]
  },
  {
   "attachments": {},
   "cell_type": "markdown",
   "metadata": {},
   "source": [
    "# Missing Txs\n",
    "We show that if you increase the step_size between block_gte and block_lt you start losing transactions because theGraph has a rate limit of 100 rows per response."
   ]
  },
  {
   "cell_type": "code",
   "execution_count": null,
   "metadata": {},
   "outputs": [],
   "source": [
    "start = datetime(2023, 3, 11)\n",
    "end = datetime(2023, 3, 13)\n",
    "datafetcher = DataFetcher(start, end)\n",
    "_3pool = '0xbebc44782c7db0a1a60cb6fe97d0b483032ff1c7'"
   ]
  },
  {
   "cell_type": "code",
   "execution_count": null,
   "metadata": {},
   "outputs": [],
   "source": [
    "swaps_data_1 = datafetcher.get_swaps_data('3pool', step_size=1)\n",
    "swaps_data_10 = datafetcher.get_swaps_data('3pool', step_size=10)\n",
    "swaps_data_50 = datafetcher.get_swaps_data('3pool', step_size=50)\n",
    "swaps_data_100 = datafetcher.get_swaps_data('3pool', step_size=100)\n",
    "\n",
    "swaps_df_1 = RawDataHandler.format_swaps_data(swaps_data_1)\n",
    "swaps_df_10 = RawDataHandler.format_swaps_data(swaps_data_10)\n",
    "swaps_df_50 = RawDataHandler.format_swaps_data(swaps_data_50)\n",
    "swaps_df_100 = RawDataHandler.format_swaps_data(swaps_data_100)\n",
    "\n",
    "print(swaps_df_1.shape)\n",
    "print(swaps_df_10.shape)\n",
    "print(swaps_df_50.shape)\n",
    "print(swaps_df_100.shape)"
   ]
  },
  {
   "cell_type": "code",
   "execution_count": 59,
   "metadata": {},
   "outputs": [
    {
     "data": {
      "text/html": [
       "<div>\n",
       "<style scoped>\n",
       "    .dataframe tbody tr th:only-of-type {\n",
       "        vertical-align: middle;\n",
       "    }\n",
       "\n",
       "    .dataframe tbody tr th {\n",
       "        vertical-align: top;\n",
       "    }\n",
       "\n",
       "    .dataframe thead th {\n",
       "        text-align: right;\n",
       "    }\n",
       "</style>\n",
       "<table border=\"1\" class=\"dataframe\">\n",
       "  <thead>\n",
       "    <tr style=\"text-align: right;\">\n",
       "      <th></th>\n",
       "      <th>id</th>\n",
       "      <th>amountBought</th>\n",
       "      <th>amountSold</th>\n",
       "      <th>block</th>\n",
       "      <th>buyer</th>\n",
       "      <th>gasLimit</th>\n",
       "      <th>gasUsed</th>\n",
       "      <th>isUnderlying</th>\n",
       "      <th>timestamp</th>\n",
       "      <th>tokenBought</th>\n",
       "      <th>tokenSold</th>\n",
       "      <th>tx</th>\n",
       "      <th>pool_id</th>\n",
       "      <th>block_gte</th>\n",
       "      <th>block_lt</th>\n",
       "    </tr>\n",
       "  </thead>\n",
       "  <tbody>\n",
       "    <tr>\n",
       "      <th>16058</th>\n",
       "      <td>0xdc50a0d779d4c5792f32e1a9a5ba2914f58aa654bb79...</td>\n",
       "      <td>340929.942491</td>\n",
       "      <td>331341.859263</td>\n",
       "      <td>16804730</td>\n",
       "      <td>0xdecf04ca46d287b3cb99692ad512e568ba276140</td>\n",
       "      <td>601141</td>\n",
       "      <td>360441</td>\n",
       "      <td>0</td>\n",
       "      <td>1678536347</td>\n",
       "      <td>0xa0b86991c6218b36c1d19d4a2e9eb0ce3606eb48</td>\n",
       "      <td>0x6b175474e89094c44da98b954eedeac495271d0f</td>\n",
       "      <td>0xdc50a0d779d4c5792f32e1a9a5ba2914f58aa654bb79...</td>\n",
       "      <td>0xbebc44782c7db0a1a60cb6fe97d0b483032ff1c7</td>\n",
       "      <td>16804724</td>\n",
       "      <td>16804734</td>\n",
       "    </tr>\n",
       "  </tbody>\n",
       "</table>\n",
       "</div>"
      ],
      "text/plain": [
       "                                                      id   amountBought   \n",
       "16058  0xdc50a0d779d4c5792f32e1a9a5ba2914f58aa654bb79...  340929.942491  \\\n",
       "\n",
       "          amountSold     block                                       buyer   \n",
       "16058  331341.859263  16804730  0xdecf04ca46d287b3cb99692ad512e568ba276140  \\\n",
       "\n",
       "       gasLimit  gasUsed  isUnderlying   timestamp   \n",
       "16058    601141   360441             0  1678536347  \\\n",
       "\n",
       "                                      tokenBought   \n",
       "16058  0xa0b86991c6218b36c1d19d4a2e9eb0ce3606eb48  \\\n",
       "\n",
       "                                        tokenSold   \n",
       "16058  0x6b175474e89094c44da98b954eedeac495271d0f  \\\n",
       "\n",
       "                                                      tx   \n",
       "16058  0xdc50a0d779d4c5792f32e1a9a5ba2914f58aa654bb79...  \\\n",
       "\n",
       "                                          pool_id  block_gte  block_lt  \n",
       "16058  0xbebc44782c7db0a1a60cb6fe97d0b483032ff1c7   16804724  16804734  "
      ]
     },
     "execution_count": 59,
     "metadata": {},
     "output_type": "execute_result"
    }
   ],
   "source": [
    "missing = set(swaps_df_10['id']) - set(swaps_df_100['id'])\n",
    "missing_eg = missing.pop()\n",
    "swaps_df_10[swaps_df_10['id']==missing_eg]"
   ]
  },
  {
   "cell_type": "code",
   "execution_count": 78,
   "metadata": {},
   "outputs": [
    {
     "name": "stdout",
     "output_type": "stream",
     "text": [
      "89\n"
     ]
    }
   ],
   "source": [
    "CURVE_SUBGRAPH_URL_CVX = 'https://api.thegraph.com/subgraphs/name/convex-community/curve-mainnet'\n",
    "block = 16804725\n",
    "query = queries['swapEvents']\n",
    "kwargs = {'pool_id':'0xbebc44782c7db0a1a60cb6fe97d0b483032ff1c7', 'block_gte':block, 'block_lt':block+40}\n",
    "out = await datafetcher.execute_query_async(query, 'swapEvents', CURVE_SUBGRAPH_URL_CVX, **kwargs)\n",
    "out_df = RawDataHandler.format_swaps_data([out])\n",
    "print(len(out_df))\n",
    "# out_df[out_df['id'] == '0xdc50a0d779d4c5792f32e1a9a5ba2914f58aa654bb79ad59d0daf319692bac5b-340929.942491-131']"
   ]
  },
  {
   "cell_type": "code",
   "execution_count": 45,
   "metadata": {},
   "outputs": [
    {
     "data": {
      "text/html": [
       "<div>\n",
       "<style scoped>\n",
       "    .dataframe tbody tr th:only-of-type {\n",
       "        vertical-align: middle;\n",
       "    }\n",
       "\n",
       "    .dataframe tbody tr th {\n",
       "        vertical-align: top;\n",
       "    }\n",
       "\n",
       "    .dataframe thead th {\n",
       "        text-align: right;\n",
       "    }\n",
       "</style>\n",
       "<table border=\"1\" class=\"dataframe\">\n",
       "  <thead>\n",
       "    <tr style=\"text-align: right;\">\n",
       "      <th></th>\n",
       "      <th>id</th>\n",
       "      <th>amountBought</th>\n",
       "      <th>amountSold</th>\n",
       "      <th>block</th>\n",
       "      <th>buyer</th>\n",
       "      <th>gasLimit</th>\n",
       "      <th>gasUsed</th>\n",
       "      <th>isUnderlying</th>\n",
       "      <th>timestamp</th>\n",
       "      <th>tokenBought</th>\n",
       "      <th>tokenSold</th>\n",
       "      <th>tx</th>\n",
       "      <th>pool_id</th>\n",
       "      <th>block_gte</th>\n",
       "      <th>block_lt</th>\n",
       "    </tr>\n",
       "  </thead>\n",
       "  <tbody>\n",
       "  </tbody>\n",
       "</table>\n",
       "</div>"
      ],
      "text/plain": [
       "Empty DataFrame\n",
       "Columns: [id, amountBought, amountSold, block, buyer, gasLimit, gasUsed, isUnderlying, timestamp, tokenBought, tokenSold, tx, pool_id, block_gte, block_lt]\n",
       "Index: []"
      ]
     },
     "execution_count": 45,
     "metadata": {},
     "output_type": "execute_result"
    }
   ],
   "source": [
    "CURVE_SUBGRAPH_URL_CVX = 'https://api.thegraph.com/subgraphs/name/convex-community/curve-mainnet'\n",
    "query = queries['swapEvents']\n",
    "kwargs = {'pool_id':'0xbebc44782c7db0a1a60cb6fe97d0b483032ff1c7', 'block_gte':16804686, 'block_lt':16804735}\n",
    "out = await datafetcher.execute_query_async(query, 'swapEvents', CURVE_SUBGRAPH_URL_CVX, **kwargs)\n",
    "out_df = RawDataHandler.format_swaps_data([out])\n",
    "out_df[out_df['id'] == '0xdc50a0d779d4c5792f32e1a9a5ba2914f58aa654bb79ad59d0daf319692bac5b-340929.942491-131']"
   ]
  }
 ],
 "metadata": {
  "kernelspec": {
   "display_name": "venv",
   "language": "python",
   "name": "python3"
  },
  "language_info": {
   "codemirror_mode": {
    "name": "ipython",
    "version": 3
   },
   "file_extension": ".py",
   "mimetype": "text/x-python",
   "name": "python",
   "nbconvert_exporter": "python",
   "pygments_lexer": "ipython3",
   "version": "3.10.6"
  },
  "orig_nbformat": 4
 },
 "nbformat": 4,
 "nbformat_minor": 2
}
