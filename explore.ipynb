{
 "cells": [
  {
   "cell_type": "code",
   "execution_count": 2,
   "metadata": {},
   "outputs": [
    {
     "name": "stdout",
     "output_type": "stream",
     "text": [
      "The autoreload extension is already loaded. To reload it, use:\n",
      "  %reload_ext autoreload\n"
     ]
    }
   ],
   "source": [
    "%load_ext autoreload\n",
    "%autoreload 2"
   ]
  },
  {
   "cell_type": "code",
   "execution_count": 3,
   "metadata": {},
   "outputs": [],
   "source": [
    "from curvemetrics.datafetcher import DataFetcher\n",
    "from curvemetrics.metricsprocessor import MetricsProcessor\n",
    "import timeit\n",
    "from datetime import datetime, timedelta\n",
    "import pandas as pd\n",
    "import numpy as np\n",
    "from web3 import Web3\n",
    "import matplotlib.pyplot as plt\n",
    "from curvemetrics.datahandler import DataHandler\n",
    "import json\n",
    "from curvemetrics.queries import queries\n",
    "import ccxt\n",
    "from dotenv import load_dotenv\n",
    "import os"
   ]
  },
  {
   "cell_type": "code",
   "execution_count": 4,
   "metadata": {},
   "outputs": [],
   "source": [
    "def load_config():\n",
    "    # Load the configuration\n",
    "    with open(os.path.join(os.path.abspath('config.json')), \"r\") as config_file:\n",
    "        config = json.load(config_file)\n",
    "    return config\n",
    "\n",
    "INFURA_KEY = os.getenv(\"INFURA_KEY\")\n",
    "config = load_config()"
   ]
  },
  {
   "cell_type": "code",
   "execution_count": 5,
   "metadata": {},
   "outputs": [
    {
     "name": "stderr",
     "output_type": "stream",
     "text": [
      "Executing: SELECT * FROM tokens...\n",
      "Executing: SELECT * FROM pools...\n"
     ]
    }
   ],
   "source": [
    "datahandler = DataHandler()\n",
    "token_metadata = datahandler.get_token_metadata()\n",
    "pool_metadata = datahandler.get_pool_metadata()\n",
    "metricsprocessor = MetricsProcessor(pool_metadata, token_metadata)"
   ]
  },
  {
   "cell_type": "code",
   "execution_count": 6,
   "metadata": {},
   "outputs": [],
   "source": [
    "pool = \"0xbebc44782c7db0a1a60cb6fe97d0b483032ff1c7\" # 3pool\n",
    "# ust = \"0xa693b19d2931d498c5b318df961919bb4aee87a5\"\n",
    "usdc = \"0xa0b86991c6218b36c1d19d4a2e9eb0ce3606eb48\"\n",
    "start = datetime.timestamp(datetime(2022, 3, 1))\n",
    "end = datetime.timestamp(datetime(2022, 3, 20))"
   ]
  },
  {
   "cell_type": "code",
   "execution_count": 7,
   "metadata": {},
   "outputs": [
    {
     "name": "stderr",
     "output_type": "stream",
     "text": [
      "Executing: SELECT * FROM pool_data WHERE pool_id=? AND approxTimestamp >= ? AND approxTimestamp <= ? ORDER BY approxTimestamp ASC...\n",
      "Executing: SELECT * FROM swaps WHERE pool_id=? AND timestamp >= ? AND timestamp <= ? ORDER BY timestamp ASC...\n",
      "Executing: SELECT * FROM lp_events WHERE pool_id=? AND timestamp >= ? AND timestamp <= ? ORDER BY timestamp ASC...\n"
     ]
    }
   ],
   "source": [
    "pool_data = datahandler.get_pool_data(pool, start, end)\n",
    "swaps_data = datahandler.get_swaps_data(pool, start, end)\n",
    "lp_data = datahandler.get_lp_data(pool, start, end)\n",
    "# token_ohlcv = datahandler.get_ohlcv_data(ust, start, end)"
   ]
  },
  {
   "cell_type": "code",
   "execution_count": 8,
   "metadata": {},
   "outputs": [
    {
     "data": {
      "text/html": [
       "<div>\n",
       "<style scoped>\n",
       "    .dataframe tbody tr th:only-of-type {\n",
       "        vertical-align: middle;\n",
       "    }\n",
       "\n",
       "    .dataframe tbody tr th {\n",
       "        vertical-align: top;\n",
       "    }\n",
       "\n",
       "    .dataframe thead th {\n",
       "        text-align: right;\n",
       "    }\n",
       "</style>\n",
       "<table border=\"1\" class=\"dataframe\">\n",
       "  <thead>\n",
       "    <tr style=\"text-align: right;\">\n",
       "      <th></th>\n",
       "      <th>giniCoefficient</th>\n",
       "      <th>shannonsEntropy</th>\n",
       "      <th>DAI.netSwapFlow</th>\n",
       "      <th>DAI.netLPFlow</th>\n",
       "      <th>USDC.netSwapFlow</th>\n",
       "      <th>USDC.netLPFlow</th>\n",
       "      <th>USDT.netSwapFlow</th>\n",
       "      <th>USDT.netLPFlow</th>\n",
       "    </tr>\n",
       "  </thead>\n",
       "  <tbody>\n",
       "    <tr>\n",
       "      <th>2022-03-01 00:00:00</th>\n",
       "      <td>0.141865</td>\n",
       "      <td>1.517599</td>\n",
       "      <td>0.0</td>\n",
       "      <td>0</td>\n",
       "      <td>0.00000</td>\n",
       "      <td>0.000000e+00</td>\n",
       "      <td>0.000000</td>\n",
       "      <td>0.000000e+00</td>\n",
       "    </tr>\n",
       "    <tr>\n",
       "      <th>2022-03-01 00:01:00</th>\n",
       "      <td>0.145713</td>\n",
       "      <td>1.515566</td>\n",
       "      <td>0.0</td>\n",
       "      <td>0</td>\n",
       "      <td>-376783.77749</td>\n",
       "      <td>-1.389934e+11</td>\n",
       "      <td>376584.553315</td>\n",
       "      <td>0.000000e+00</td>\n",
       "    </tr>\n",
       "    <tr>\n",
       "      <th>2022-03-01 00:02:00</th>\n",
       "      <td>0.145713</td>\n",
       "      <td>1.515566</td>\n",
       "      <td>0.0</td>\n",
       "      <td>0</td>\n",
       "      <td>0.00000</td>\n",
       "      <td>0.000000e+00</td>\n",
       "      <td>0.000000</td>\n",
       "      <td>0.000000e+00</td>\n",
       "    </tr>\n",
       "    <tr>\n",
       "      <th>2022-03-01 00:03:00</th>\n",
       "      <td>0.145724</td>\n",
       "      <td>1.515554</td>\n",
       "      <td>0.0</td>\n",
       "      <td>0</td>\n",
       "      <td>0.00000</td>\n",
       "      <td>0.000000e+00</td>\n",
       "      <td>0.000000</td>\n",
       "      <td>0.000000e+00</td>\n",
       "    </tr>\n",
       "    <tr>\n",
       "      <th>2022-03-01 00:04:00</th>\n",
       "      <td>0.145768</td>\n",
       "      <td>1.515509</td>\n",
       "      <td>0.0</td>\n",
       "      <td>0</td>\n",
       "      <td>0.00000</td>\n",
       "      <td>0.000000e+00</td>\n",
       "      <td>0.000000</td>\n",
       "      <td>-7.056966e+11</td>\n",
       "    </tr>\n",
       "  </tbody>\n",
       "</table>\n",
       "</div>"
      ],
      "text/plain": [
       "                     giniCoefficient  shannonsEntropy  DAI.netSwapFlow   \n",
       "2022-03-01 00:00:00         0.141865         1.517599              0.0  \\\n",
       "2022-03-01 00:01:00         0.145713         1.515566              0.0   \n",
       "2022-03-01 00:02:00         0.145713         1.515566              0.0   \n",
       "2022-03-01 00:03:00         0.145724         1.515554              0.0   \n",
       "2022-03-01 00:04:00         0.145768         1.515509              0.0   \n",
       "\n",
       "                    DAI.netLPFlow  USDC.netSwapFlow  USDC.netLPFlow   \n",
       "2022-03-01 00:00:00             0           0.00000    0.000000e+00  \\\n",
       "2022-03-01 00:01:00             0     -376783.77749   -1.389934e+11   \n",
       "2022-03-01 00:02:00             0           0.00000    0.000000e+00   \n",
       "2022-03-01 00:03:00             0           0.00000    0.000000e+00   \n",
       "2022-03-01 00:04:00             0           0.00000    0.000000e+00   \n",
       "\n",
       "                     USDT.netSwapFlow  USDT.netLPFlow  \n",
       "2022-03-01 00:00:00          0.000000    0.000000e+00  \n",
       "2022-03-01 00:01:00     376584.553315    0.000000e+00  \n",
       "2022-03-01 00:02:00          0.000000    0.000000e+00  \n",
       "2022-03-01 00:03:00          0.000000    0.000000e+00  \n",
       "2022-03-01 00:04:00          0.000000   -7.056966e+11  "
      ]
     },
     "execution_count": 8,
     "metadata": {},
     "output_type": "execute_result"
    }
   ],
   "source": [
    "pool_metrics = metricsprocessor.process_metrics_for_pool(pool, pool_data, swaps_data, lp_data)\n",
    "pool_metrics.head()"
   ]
  },
  {
   "cell_type": "code",
   "execution_count": 81,
   "metadata": {},
   "outputs": [
    {
     "data": {
      "text/plain": [
       "[]"
      ]
     },
     "execution_count": 81,
     "metadata": {},
     "output_type": "execute_result"
    }
   ],
   "source": [
    "start = datetime.timestamp(datetime(2022, 1, 1))\n",
    "end = datetime.timestamp(datetime(2022, 2, 1))\n",
    "pool_data = datahandler.get_pool_data(pool, start, end)\n",
    "pool_data = pool_data.sort_values(by='block')\n",
    "pool_data.head()\n",
    "\n",
    "min_ts, min_block = DataFetcher.get_block(datetime(2022, 1, 1))\n",
    "max_ts, max_block = DataFetcher.get_block(datetime(2022, 2, 1))\n",
    "\n",
    "blocknr = min_block\n",
    "blocks = set(pool_data['block'])\n",
    "missing = []\n",
    "while blocknr <= max_block:\n",
    "    if blocknr not in blocks:\n",
    "        missing.append(blocknr)\n",
    "    blocknr += 1\n",
    "assert len(missing) == 0\n",
    "\n",
    "new_data = pool_data[(pool_data['block'] > min_block) & (pool_data['block'] < max_block)].copy()\n",
    "new_data['approxTimestamp'] = np.linspace(min_ts, max_ts, new_data.shape[0], dtype=int)\n",
    "new_data.index = new_data['approxTimestamp'].apply(datetime.fromtimestamp)\n",
    "new_data.head()"
   ]
  },
  {
   "cell_type": "code",
   "execution_count": 97,
   "metadata": {},
   "outputs": [
    {
     "data": {
      "text/plain": [
       "[<matplotlib.collections.PolyCollection at 0x7f025ae426b0>,\n",
       " <matplotlib.collections.PolyCollection at 0x7f02743b9bd0>,\n",
       " <matplotlib.collections.PolyCollection at 0x7f02743ba380>]"
      ]
     },
     "execution_count": 97,
     "metadata": {},
     "output_type": "execute_result"
    },
    {
     "data": {
      "image/png": "[encoded data removed]",
      "text/plain": [
       "<Figure size 640x480 with 1 Axes>"
      ]
     },
     "metadata": {},
     "output_type": "display_data"
    }
   ],
   "source": [
    "f, ax = plt.subplots()\n",
    "\n",
    "col1 = [x[0] for x in np.array(new_data['inputTokenWeights'])]\n",
    "col2 = [x[1] for x in np.array(new_data['inputTokenWeights'])]\n",
    "col3 = [x[2] for x in np.array(new_data['inputTokenWeights'])]\n",
    "ax.stackplot(new_data.index, col1, col2, col3)"
   ]
  },
  {
   "cell_type": "code",
   "execution_count": 15,
   "metadata": {},
   "outputs": [
    {
     "data": {
      "text/plain": [
       "<Axes: >"
      ]
     },
     "execution_count": 15,
     "metadata": {},
     "output_type": "execute_result"
    },
    {
     "data": {
      "image/png": "[encoded data removed]",
      "text/plain": [
       "<Figure size 640x480 with 1 Axes>"
      ]
     },
     "metadata": {},
     "output_type": "display_data"
    }
   ],
   "source": [
    "pool_metrics['shannonsEntropy'].plot()"
   ]
  },
  {
   "cell_type": "code",
   "execution_count": 193,
   "metadata": {},
   "outputs": [
    {
     "data": {
      "text/plain": [
       "metrics\n",
       "giniCoefficient     12960\n",
       "shannonsEntropy     12960\n",
       "DAI.netSwapFlow     12960\n",
       "DAI.netLPFlow       12960\n",
       "USDC.netSwapFlow    12960\n",
       "USDC.netLPFlow      12960\n",
       "USDT.netSwapFlow    12960\n",
       "USDT.netLPFlow      12960\n",
       "Name: count, dtype: int64"
      ]
     },
     "execution_count": 193,
     "metadata": {},
     "output_type": "execute_result"
    }
   ],
   "source": [
    "pool_metrics.melt(var_name='metrics', value_name='value')['metrics'].value_counts()"
   ]
  },
  {
   "cell_type": "code",
   "execution_count": 189,
   "metadata": {},
   "outputs": [
    {
     "ename": "SyntaxError",
     "evalue": "incomplete input (4170581378.py, line 1)",
     "output_type": "error",
     "traceback": [
      "\u001b[0;36m  Cell \u001b[0;32mIn[189], line 1\u001b[0;36m\u001b[0m\n\u001b[0;31m    def format_pool_metrics(data):\u001b[0m\n\u001b[0m                                  ^\u001b[0m\n\u001b[0;31mSyntaxError\u001b[0m\u001b[0;31m:\u001b[0m incomplete input\n"
     ]
    }
   ],
   "source": [
    "def format_pool_metrics(data, pool_id):\n",
    "    data['timestamp'] = data.index.apply(datetime.timestamp)\n",
    "    data['pool_id'] = pool_id\n",
    "    "
   ]
  },
  {
   "cell_type": "code",
   "execution_count": 77,
   "metadata": {},
   "outputs": [
    {
     "data": {
      "text/html": [
       "<div>\n",
       "<style scoped>\n",
       "    .dataframe tbody tr th:only-of-type {\n",
       "        vertical-align: middle;\n",
       "    }\n",
       "\n",
       "    .dataframe tbody tr th {\n",
       "        vertical-align: top;\n",
       "    }\n",
       "\n",
       "    .dataframe thead th {\n",
       "        text-align: right;\n",
       "    }\n",
       "</style>\n",
       "<table border=\"1\" class=\"dataframe\">\n",
       "  <thead>\n",
       "    <tr style=\"text-align: right;\">\n",
       "      <th></th>\n",
       "      <th>UST.logReturns</th>\n",
       "    </tr>\n",
       "    <tr>\n",
       "      <th>timestamp</th>\n",
       "      <th></th>\n",
       "    </tr>\n",
       "  </thead>\n",
       "  <tbody>\n",
       "    <tr>\n",
       "      <th>2022-01-01 00:01:00</th>\n",
       "      <td>0.000000</td>\n",
       "    </tr>\n",
       "    <tr>\n",
       "      <th>2022-01-01 00:02:00</th>\n",
       "      <td>0.000999</td>\n",
       "    </tr>\n",
       "    <tr>\n",
       "      <th>2022-01-01 00:03:00</th>\n",
       "      <td>0.000000</td>\n",
       "    </tr>\n",
       "    <tr>\n",
       "      <th>2022-01-01 00:04:00</th>\n",
       "      <td>-0.000999</td>\n",
       "    </tr>\n",
       "    <tr>\n",
       "      <th>2022-01-01 00:05:00</th>\n",
       "      <td>0.000999</td>\n",
       "    </tr>\n",
       "  </tbody>\n",
       "</table>\n",
       "</div>"
      ],
      "text/plain": [
       "                     UST.logReturns\n",
       "timestamp                          \n",
       "2022-01-01 00:01:00        0.000000\n",
       "2022-01-01 00:02:00        0.000999\n",
       "2022-01-01 00:03:00        0.000000\n",
       "2022-01-01 00:04:00       -0.000999\n",
       "2022-01-01 00:05:00        0.000999"
      ]
     },
     "execution_count": 77,
     "metadata": {},
     "output_type": "execute_result"
    }
   ],
   "source": [
    "token_metrics = metricsprocessor.process_metrics_for_token(ust, token_ohlcv)\n",
    "token_metrics.head()"
   ]
  },
  {
   "cell_type": "code",
   "execution_count": 93,
   "metadata": {},
   "outputs": [
    {
     "data": {
      "text/plain": [
       "[<matplotlib.lines.Line2D at 0x7f1681417fa0>]"
      ]
     },
     "execution_count": 93,
     "metadata": {},
     "output_type": "execute_result"
    },
    {
     "data": {
      "image/png": "[encoded data removed]",
      "text/plain": [
       "<Figure size 640x480 with 1 Axes>"
      ]
     },
     "metadata": {},
     "output_type": "display_data"
    }
   ],
   "source": [
    "f, ax = plt.subplots()\n",
    "foo = token_ohlcv.resample('1h').last()\n",
    "ax.plot(foo.index, foo.close, linewidth=1)"
   ]
  },
  {
   "cell_type": "code",
   "execution_count": 20,
   "metadata": {},
   "outputs": [],
   "source": [
    "for pool, metadata in pool_metadata.items():\n",
    "    pool_name = metadata['symbol'].replace('/', '-')\n",
    "\n",
    "    pool_data = datahandler.get_pool_data(pool)\n",
    "    pool_data.to_csv(f\"./data/rawdata/{pool_name}_pool_data.csv\")\n",
    "\n",
    "    lp_events = datahandler.get_lp_data(pool)\n",
    "    lp_events.to_csv(f\"./data/rawdata/{pool_name}_lp_events.csv\")\n",
    "\n",
    "    swaps = datahandler.get_swaps_data(pool)\n",
    "    swaps.to_csv(f\"./data/rawdata/{pool_name}_swaps.csv\")"
   ]
  },
  {
   "cell_type": "code",
   "execution_count": 41,
   "metadata": {},
   "outputs": [
    {
     "name": "stdout",
     "output_type": "stream",
     "text": [
      "Error for token frxETH\n",
      "Error for token UST\n",
      "Error for token cvxCRV\n",
      "Error for token sUSD\n",
      "Error for token WETH\n",
      "Error for token stETH\n",
      "Error for token 3Crv\n",
      "Error for token LUSD\n",
      "Error for token USDN\n"
     ]
    }
   ],
   "source": [
    "for token in token_metadata:\n",
    "    try:\n",
    "        metrics_for_token(token, datahandler, token_metadata)\n",
    "    except:\n",
    "        print(f\"Error for token {token_metadata[token]['symbol']}\")"
   ]
  },
  {
   "cell_type": "code",
   "execution_count": 45,
   "metadata": {},
   "outputs": [
    {
     "name": "stdout",
     "output_type": "stream",
     "text": [
      "Processing pool 3Crv\n",
      "Processing pool steCRV\n",
      "Processing pool crvFRAX\n",
      "Processing pool UST_whv23CRV-f\n",
      "Processing pool usdn3CRV\n",
      "Processing pool MIM-3LP3CRV-f\n",
      "Processing pool crvPlain3andSUSD\n",
      "Processing pool frxETHCRV\n",
      "Processing pool LUSD3CRV-f\n",
      "Processing pool BUSD3CRV-f\n",
      "Processing pool STETHETH_C-f\n",
      "Processing pool cbETH/ETH-f\n",
      "Error for pool cbETH/ETH-f: Cannot save file into a non-existent directory: 'tmpdata/cbETH'\n",
      "Processing pool cvxcrv-crv-f\n"
     ]
    }
   ],
   "source": [
    "for pool in pool_metadata:\n",
    "    try:\n",
    "        print(f\"Processing pool {pool_metadata[pool]['symbol']}\")\n",
    "        metrics_for_pool(pool, datahandler, pool_metadata, token_metadata)\n",
    "    except Exception as e:\n",
    "        print(f\"Error for pool {pool_metadata[pool]['symbol']}: {e}\")"
   ]
  },
  {
   "cell_type": "code",
   "execution_count": 15,
   "metadata": {},
   "outputs": [],
   "source": [
    "pool_data = datahandler.get_pool_data(pool)\n",
    "swaps_data = datahandler.get_swaps_data(pool)\n",
    "lp_data = datahandler.get_lp_data(pool)"
   ]
  },
  {
   "cell_type": "code",
   "execution_count": 25,
   "metadata": {},
   "outputs": [
    {
     "data": {
      "text/plain": [
       "<Axes: xlabel='timestamp'>"
      ]
     },
     "execution_count": 25,
     "metadata": {},
     "output_type": "execute_result"
    },
    {
     "data": {
      "image/png": "[encoded data removed]",
      "text/plain": [
       "<Figure size 640x480 with 1 Axes>"
      ]
     },
     "metadata": {},
     "output_type": "display_data"
    }
   ],
   "source": [
    "gini_data = gini(pool_data)\n",
    "shannon_data = shannons_entropy(pool_data)\n",
    "\n",
    "metrics = []\n",
    "\n",
    "for token_idx, token_id in enumerate(pool_metadata[pool]['coins']):\n",
    "    token_ohlcv = datahandler.get_ohlcv_data(token_id)\n",
    "    metrics.append(net_swap_flow(swaps_data, token_id, token_metadata[token_id]['symbol']))\n",
    "    metrics.append(net_lp_flow(lp_data, token_idx, token_metadata[token_id]['symbol']))\n",
    "    metrics.append(log_returns(token_ohlcv, token_metadata[token_id]['symbol']))\n",
    "metrics_df = pd.concat(metrics, axis=1)\n",
    "metrics_df = metrics_df.fillna(0)"
   ]
  },
  {
   "cell_type": "code",
   "execution_count": 104,
   "metadata": {},
   "outputs": [
    {
     "data": {
      "text/html": [
       "<div>\n",
       "<style scoped>\n",
       "    .dataframe tbody tr th:only-of-type {\n",
       "        vertical-align: middle;\n",
       "    }\n",
       "\n",
       "    .dataframe tbody tr th {\n",
       "        vertical-align: top;\n",
       "    }\n",
       "\n",
       "    .dataframe thead th {\n",
       "        text-align: right;\n",
       "    }\n",
       "</style>\n",
       "<table border=\"1\" class=\"dataframe\">\n",
       "  <thead>\n",
       "    <tr style=\"text-align: right;\">\n",
       "      <th></th>\n",
       "      <th>giniCoefficient</th>\n",
       "      <th>shannonsEntropy</th>\n",
       "      <th>DAI.netSwapFlow</th>\n",
       "      <th>USDC.netSwapFlow</th>\n",
       "      <th>USDT.netSwapFlow</th>\n",
       "      <th>DAI.netLPFlow</th>\n",
       "      <th>USDC.netLPFlow</th>\n",
       "      <th>USDT.netLPFlow</th>\n",
       "      <th>DAI.logReturns</th>\n",
       "      <th>USDC.logReturns</th>\n",
       "      <th>USDT.logReturns</th>\n",
       "    </tr>\n",
       "  </thead>\n",
       "  <tbody>\n",
       "    <tr>\n",
       "      <th>2023-03-10 00:00:00</th>\n",
       "      <td>0.063709</td>\n",
       "      <td>1.573687</td>\n",
       "      <td>0.000000</td>\n",
       "      <td>0.0000</td>\n",
       "      <td>0.00000</td>\n",
       "      <td>0.0</td>\n",
       "      <td>0.0</td>\n",
       "      <td>0.0</td>\n",
       "      <td>0.000000</td>\n",
       "      <td>0.0000</td>\n",
       "      <td>0.0</td>\n",
       "    </tr>\n",
       "    <tr>\n",
       "      <th>2023-03-10 00:01:00</th>\n",
       "      <td>0.063601</td>\n",
       "      <td>1.573742</td>\n",
       "      <td>149886.959338</td>\n",
       "      <td>-151891.9253</td>\n",
       "      <td>1992.02007</td>\n",
       "      <td>0.0</td>\n",
       "      <td>0.0</td>\n",
       "      <td>0.0</td>\n",
       "      <td>0.007414</td>\n",
       "      <td>0.0007</td>\n",
       "      <td>0.0</td>\n",
       "    </tr>\n",
       "    <tr>\n",
       "      <th>2023-03-10 00:02:00</th>\n",
       "      <td>0.063601</td>\n",
       "      <td>1.573742</td>\n",
       "      <td>0.000000</td>\n",
       "      <td>0.0000</td>\n",
       "      <td>0.00000</td>\n",
       "      <td>0.0</td>\n",
       "      <td>0.0</td>\n",
       "      <td>0.0</td>\n",
       "      <td>0.000000</td>\n",
       "      <td>0.0008</td>\n",
       "      <td>0.0</td>\n",
       "    </tr>\n",
       "    <tr>\n",
       "      <th>2023-03-10 00:03:00</th>\n",
       "      <td>0.063601</td>\n",
       "      <td>1.573742</td>\n",
       "      <td>0.000000</td>\n",
       "      <td>0.0000</td>\n",
       "      <td>0.00000</td>\n",
       "      <td>0.0</td>\n",
       "      <td>0.0</td>\n",
       "      <td>0.0</td>\n",
       "      <td>0.000000</td>\n",
       "      <td>0.0000</td>\n",
       "      <td>0.0</td>\n",
       "    </tr>\n",
       "    <tr>\n",
       "      <th>2023-03-10 00:04:00</th>\n",
       "      <td>0.064507</td>\n",
       "      <td>1.573233</td>\n",
       "      <td>0.000000</td>\n",
       "      <td>0.0000</td>\n",
       "      <td>0.00000</td>\n",
       "      <td>0.0</td>\n",
       "      <td>0.0</td>\n",
       "      <td>0.0</td>\n",
       "      <td>0.000000</td>\n",
       "      <td>0.0000</td>\n",
       "      <td>0.0</td>\n",
       "    </tr>\n",
       "    <tr>\n",
       "      <th>...</th>\n",
       "      <td>...</td>\n",
       "      <td>...</td>\n",
       "      <td>...</td>\n",
       "      <td>...</td>\n",
       "      <td>...</td>\n",
       "      <td>...</td>\n",
       "      <td>...</td>\n",
       "      <td>...</td>\n",
       "      <td>...</td>\n",
       "      <td>...</td>\n",
       "      <td>...</td>\n",
       "    </tr>\n",
       "    <tr>\n",
       "      <th>2023-03-10 16:36:00</th>\n",
       "      <td>0.000000</td>\n",
       "      <td>0.000000</td>\n",
       "      <td>0.000000</td>\n",
       "      <td>0.0000</td>\n",
       "      <td>0.00000</td>\n",
       "      <td>0.0</td>\n",
       "      <td>0.0</td>\n",
       "      <td>0.0</td>\n",
       "      <td>-0.011722</td>\n",
       "      <td>0.0000</td>\n",
       "      <td>0.0</td>\n",
       "    </tr>\n",
       "    <tr>\n",
       "      <th>2023-03-10 16:37:00</th>\n",
       "      <td>0.000000</td>\n",
       "      <td>0.000000</td>\n",
       "      <td>0.000000</td>\n",
       "      <td>0.0000</td>\n",
       "      <td>0.00000</td>\n",
       "      <td>0.0</td>\n",
       "      <td>0.0</td>\n",
       "      <td>0.0</td>\n",
       "      <td>0.000000</td>\n",
       "      <td>0.0000</td>\n",
       "      <td>0.0</td>\n",
       "    </tr>\n",
       "    <tr>\n",
       "      <th>2023-03-10 16:38:00</th>\n",
       "      <td>0.000000</td>\n",
       "      <td>0.000000</td>\n",
       "      <td>0.000000</td>\n",
       "      <td>0.0000</td>\n",
       "      <td>0.00000</td>\n",
       "      <td>0.0</td>\n",
       "      <td>0.0</td>\n",
       "      <td>0.0</td>\n",
       "      <td>0.000000</td>\n",
       "      <td>0.0000</td>\n",
       "      <td>0.0</td>\n",
       "    </tr>\n",
       "    <tr>\n",
       "      <th>2023-03-10 16:39:00</th>\n",
       "      <td>0.000000</td>\n",
       "      <td>0.000000</td>\n",
       "      <td>0.000000</td>\n",
       "      <td>0.0000</td>\n",
       "      <td>0.00000</td>\n",
       "      <td>0.0</td>\n",
       "      <td>0.0</td>\n",
       "      <td>0.0</td>\n",
       "      <td>0.000000</td>\n",
       "      <td>-0.0008</td>\n",
       "      <td>0.0</td>\n",
       "    </tr>\n",
       "    <tr>\n",
       "      <th>2023-03-10 16:40:00</th>\n",
       "      <td>0.000000</td>\n",
       "      <td>0.000000</td>\n",
       "      <td>0.000000</td>\n",
       "      <td>0.0000</td>\n",
       "      <td>0.00000</td>\n",
       "      <td>0.0</td>\n",
       "      <td>0.0</td>\n",
       "      <td>0.0</td>\n",
       "      <td>0.000000</td>\n",
       "      <td>0.0008</td>\n",
       "      <td>0.0</td>\n",
       "    </tr>\n",
       "  </tbody>\n",
       "</table>\n",
       "<p>1001 rows × 11 columns</p>\n",
       "</div>"
      ],
      "text/plain": [
       "                     giniCoefficient  shannonsEntropy  DAI.netSwapFlow   \n",
       "2023-03-10 00:00:00         0.063709         1.573687         0.000000  \\\n",
       "2023-03-10 00:01:00         0.063601         1.573742    149886.959338   \n",
       "2023-03-10 00:02:00         0.063601         1.573742         0.000000   \n",
       "2023-03-10 00:03:00         0.063601         1.573742         0.000000   \n",
       "2023-03-10 00:04:00         0.064507         1.573233         0.000000   \n",
       "...                              ...              ...              ...   \n",
       "2023-03-10 16:36:00         0.000000         0.000000         0.000000   \n",
       "2023-03-10 16:37:00         0.000000         0.000000         0.000000   \n",
       "2023-03-10 16:38:00         0.000000         0.000000         0.000000   \n",
       "2023-03-10 16:39:00         0.000000         0.000000         0.000000   \n",
       "2023-03-10 16:40:00         0.000000         0.000000         0.000000   \n",
       "\n",
       "                     USDC.netSwapFlow  USDT.netSwapFlow  DAI.netLPFlow   \n",
       "2023-03-10 00:00:00            0.0000           0.00000            0.0  \\\n",
       "2023-03-10 00:01:00      -151891.9253        1992.02007            0.0   \n",
       "2023-03-10 00:02:00            0.0000           0.00000            0.0   \n",
       "2023-03-10 00:03:00            0.0000           0.00000            0.0   \n",
       "2023-03-10 00:04:00            0.0000           0.00000            0.0   \n",
       "...                               ...               ...            ...   \n",
       "2023-03-10 16:36:00            0.0000           0.00000            0.0   \n",
       "2023-03-10 16:37:00            0.0000           0.00000            0.0   \n",
       "2023-03-10 16:38:00            0.0000           0.00000            0.0   \n",
       "2023-03-10 16:39:00            0.0000           0.00000            0.0   \n",
       "2023-03-10 16:40:00            0.0000           0.00000            0.0   \n",
       "\n",
       "                     USDC.netLPFlow  USDT.netLPFlow  DAI.logReturns   \n",
       "2023-03-10 00:00:00             0.0             0.0        0.000000  \\\n",
       "2023-03-10 00:01:00             0.0             0.0        0.007414   \n",
       "2023-03-10 00:02:00             0.0             0.0        0.000000   \n",
       "2023-03-10 00:03:00             0.0             0.0        0.000000   \n",
       "2023-03-10 00:04:00             0.0             0.0        0.000000   \n",
       "...                             ...             ...             ...   \n",
       "2023-03-10 16:36:00             0.0             0.0       -0.011722   \n",
       "2023-03-10 16:37:00             0.0             0.0        0.000000   \n",
       "2023-03-10 16:38:00             0.0             0.0        0.000000   \n",
       "2023-03-10 16:39:00             0.0             0.0        0.000000   \n",
       "2023-03-10 16:40:00             0.0             0.0        0.000000   \n",
       "\n",
       "                     USDC.logReturns  USDT.logReturns  \n",
       "2023-03-10 00:00:00           0.0000              0.0  \n",
       "2023-03-10 00:01:00           0.0007              0.0  \n",
       "2023-03-10 00:02:00           0.0008              0.0  \n",
       "2023-03-10 00:03:00           0.0000              0.0  \n",
       "2023-03-10 00:04:00           0.0000              0.0  \n",
       "...                              ...              ...  \n",
       "2023-03-10 16:36:00           0.0000              0.0  \n",
       "2023-03-10 16:37:00           0.0000              0.0  \n",
       "2023-03-10 16:38:00           0.0000              0.0  \n",
       "2023-03-10 16:39:00          -0.0008              0.0  \n",
       "2023-03-10 16:40:00           0.0008              0.0  \n",
       "\n",
       "[1001 rows x 11 columns]"
      ]
     },
     "execution_count": 104,
     "metadata": {},
     "output_type": "execute_result"
    }
   ],
   "source": [
    "metrics_df"
   ]
  },
  {
   "cell_type": "code",
   "execution_count": 33,
   "metadata": {},
   "outputs": [
    {
     "data": {
      "text/plain": [
       "<Axes: >"
      ]
     },
     "execution_count": 33,
     "metadata": {},
     "output_type": "execute_result"
    },
    {
     "data": {
      "image/png": "[encoded data removed]",
      "text/plain": [
       "<Figure size 640x480 with 1 Axes>"
      ]
     },
     "metadata": {},
     "output_type": "display_data"
    }
   ],
   "source": [
    "metrics_df['giniCoefficient'].plot()"
   ]
  },
  {
   "cell_type": "code",
   "execution_count": 171,
   "metadata": {},
   "outputs": [],
   "source": [
    "STEP_SIZE = 10 # NOTE: increasing this risks losing txs, 10 is probably safe\n",
    "start = datetime(2023, 3, 10)\n",
    "start_timestamp, start_block = DataFetcher.get_block(start)\n",
    "end = datetime(2023, 3, 10, 1)\n",
    "end_timestamp, end_block = DataFetcher.get_block(end)\n",
    "\n",
    "datafetcher = DataFetcher(token_metadata=token_metadata)\n",
    "\n",
    "pool = '0xceaf7747579696a2f0bb206a14210e3c9e6fb269'\n",
    "token = '0xa0b86991c6218b36c1d19d4a2e9eb0ce3606eb48'"
   ]
  },
  {
   "cell_type": "code",
   "execution_count": 100,
   "metadata": {},
   "outputs": [
    {
     "name": "stderr",
     "output_type": "stream",
     "text": [
      "Fetching OHLCV for USDC/USD using Binance US...\n",
      "Fetching OHLCV for USDC/USD using Binance US...\n"
     ]
    }
   ],
   "source": [
    "token_data = datafetcher.get_ohlcv(start_timestamp, end_timestamp, token)\n",
    "pool_data = datafetcher.get_pool_data(start_block, end_block, pool, step_size=1)\n",
    "swaps_data = datafetcher.get_swaps_data(start_block, end_block, pool, step_size=STEP_SIZE)\n",
    "lp_data = datafetcher.get_lp_data(start_block, end_block, pool, step_size=STEP_SIZE)"
   ]
  },
  {
   "cell_type": "code",
   "execution_count": 80,
   "metadata": {},
   "outputs": [],
   "source": [
    "token_data_df = DataHandler.format_token_data(token_data)\n",
    "pool_df = DataHandler.format_pool_data(pool_data, datafetcher.start_timestamp, datafetcher.end_timestamp)\n",
    "swaps_df = DataHandler.format_swaps_data(swaps_data)\n",
    "lp_df = DataHandler.format_lp_data(lp_data)"
   ]
  },
  {
   "cell_type": "code",
   "execution_count": 165,
   "metadata": {},
   "outputs": [
    {
     "data": {
      "text/plain": [
       "[[1674950400000, 0.3319, 0.3394, 0.3315, 0.3327, 124904.57],\n",
       " [1675036800000, 0.3327, 0.3354, 0.3117, 0.318, 130005.85],\n",
       " [1675123200000, 0.318, 0.3284, 0.3033, 0.3149, 132879.22],\n",
       " [1675209600000, 0.3149, 0.323, 0.2951, 0.2998, 140914.08],\n",
       " [1675296000000, 0.2998, 0.32, 0.2941, 0.3098, 140465.8],\n",
       " [1675382400000, 0.3098, 0.32, 0.2987, 0.312, 137210.38],\n",
       " [1675468800000, 0.312, 0.3283, 0.3096, 0.3256, 130469.71],\n",
       " [1675555200000, 0.3256, 0.3347, 0.3055, 0.3066, 134655.62],\n",
       " [1675641600000, 0.3066, 0.3235, 0.2826, 0.3197, 134920.22],\n",
       " [1675728000000, 0.3197, 0.3397, 0.3065, 0.309, 131385.31],\n",
       " [1675814400000, 0.309, 0.3221, 0.2886, 0.3126, 106492.31],\n",
       " [1675900800000, 0.3126, 0.3543, 0.3122, 0.3212, 132661.06],\n",
       " [1675987200000, 0.3212, 0.3235, 0.3062, 0.3121, 94012.65],\n",
       " [1676073600000, 0.3121, 0.3132, 0.2767, 0.2907, 140485.95],\n",
       " [1676160000000, 0.2907, 0.2954, 0.2714, 0.2769, 141418.0],\n",
       " [1676246400000, 0.2769, 0.2825, 0.2701, 0.2786, 147060.05],\n",
       " [1676332800000, 0.2786, 0.2787, 0.2611, 0.2649, 140471.21],\n",
       " [1676419200000, 0.2649, 0.271, 0.2203, 0.2308, 168179.12],\n",
       " [1676505600000, 0.2308, 0.2458, 0.225, 0.2453, 170951.54],\n",
       " [1676592000000, 0.2453, 0.2458, 0.2184, 0.2244, 172940.56],\n",
       " [1676678400000, 0.2244, 0.2245, 0.2042, 0.2059, 202185.56],\n",
       " [1676764800000, 0.2059, 0.2092, 0.1996, 0.2042, 202643.58],\n",
       " [1676851200000, 0.2042, 0.2172, 0.2012, 0.2111, 201067.21],\n",
       " [1676937600000, 0.2111, 0.2121, 0.1887, 0.1939, 208749.87],\n",
       " [1677024000000, 0.1939, 0.1954, 0.1894, 0.1936, 216487.22],\n",
       " [1677110400000, 0.1936, 0.195, 0.1931, 0.1944, 182346.89],\n",
       " [1677196800000, 0.1944, 0.1949, 0.1703, 0.1717, 211483.06],\n",
       " [1677283200000, 0.1717, 0.1755, 0.1703, 0.1714, 240978.0],\n",
       " [1677369600000, 0.1714, 0.1828, 0.1711, 0.1733, 236023.18],\n",
       " [1677456000000, 0.1733, 0.1757, 0.1485, 0.1503, 255432.12],\n",
       " [1677542400000, 0.1503, 0.1564, 0.1439, 0.1445, 283195.88],\n",
       " [1677628800000, 0.1445, 0.176, 0.1439, 0.1489, 288746.97],\n",
       " [1677715200000, 0.1489, 0.174, 0.1437, 0.1738, 257227.13],\n",
       " [1677801600000, 0.1738, 0.1973, 0.1589, 0.1599, 243251.8],\n",
       " [1677888000000, 0.1599, 0.1621, 0.1588, 0.1598, 262051.84],\n",
       " [1677974400000, 0.1598, 0.1621, 0.1414, 0.1438, 276426.66],\n",
       " [1678060800000, 0.1438, 0.1466, 0.129, 0.1314, 306965.82],\n",
       " [1678147200000, 0.1314, 0.6979, 0.1201, 0.3367, 442578.16],\n",
       " [1678233600000, 0.3367, 0.91, 0.2403, 0.4166, 509614.43],\n",
       " [1678320000000, 0.4166, 0.55, 0.25, 0.3046, 157559.39],\n",
       " [1678406400000, 0.3046, 0.58, 0.2111, 0.3531, 241173.68],\n",
       " [1678492800000, 0.3531, 0.4194, 0.2801, 0.3065, 156573.61],\n",
       " [1678579200000, 0.3065, 0.3377, 0.08, 0.0852, 4441663.83],\n",
       " [1678665600000, 0.0852, 0.098, 0.0772, 0.0817, 1255835.38],\n",
       " [1678752000000, 0.0817, 0.0832, 0.0699, 0.0711, 946109.29],\n",
       " [1678838400000, 0.0711, 0.0723, 0.0576, 0.0606, 1076891.73],\n",
       " [1678924800000, 0.0606, 0.0628, 0.0513, 0.0549, 1131006.11],\n",
       " [1679011200000, 0.0549, 0.0979, 0.0476, 0.0525, 1569711.19],\n",
       " [1679097600000, 0.0525, 0.0573, 0.042, 0.0437, 1386127.47],\n",
       " [1679184000000, 0.0437, 0.0473, 0.0399, 0.0408, 1220053.06],\n",
       " [1679270400000, 0.0408, 0.0485, 0.0334, 0.0373, 1767841.83],\n",
       " [1679356800000, 0.0373, 0.0386, 0.0274, 0.03036, 2086325.81],\n",
       " [1679443200000, 0.03036, 0.03124, 0.0257, 0.02845, 1979715.48],\n",
       " [1679529600000, 0.02845, 0.03464, 0.023, 0.02399, 2332082.47],\n",
       " [1679616000000, 0.02399, 0.0413, 0.02174, 0.02702, 2542420.81],\n",
       " [1679702400000, 0.02702, 0.035, 0.02688, 0.03097, 1802612.76],\n",
       " [1679788800000, 0.03097, 0.03804, 0.02924, 0.03405, 2240238.88],\n",
       " [1679875200000, 0.03405, 0.0344, 0.029, 0.03033, 2096840.4],\n",
       " [1679961600000, 0.03033, 0.033, 0.02802, 0.0293, 1628414.19],\n",
       " [1680048000000, 0.0293, 0.035, 0.02928, 0.03397, 1559597.91],\n",
       " [1680134400000, 0.03397, 0.0348, 0.03058, 0.03447, 1365350.14],\n",
       " [1680220800000, 0.03447, 0.03705, 0.03283, 0.03475, 1405159.14],\n",
       " [1680307200000, 0.03475, 0.041, 0.03303, 0.03326, 1413569.18],\n",
       " [1680393600000, 0.03326, 0.038, 0.03222, 0.03576, 1233765.95],\n",
       " [1680480000000, 0.03576, 0.03727, 0.02961, 0.0318, 1768449.23],\n",
       " [1680566400000, 0.0318, 0.034, 0.0288, 0.03306, 1421036.82],\n",
       " [1680652800000, 0.03306, 0.03317, 0.03085, 0.03261, 1343439.5],\n",
       " [1680739200000, 0.03261, 0.034, 0.0315, 0.03218, 1381512.83],\n",
       " [1680825600000, 0.03218, 0.0347, 0.0315, 0.03261, 1554684.57],\n",
       " [1680912000000, 0.03261, 0.03465, 0.0306, 0.03173, 1373144.36],\n",
       " [1680998400000, 0.03173, 0.034, 0.03, 0.03158, 1505247.57],\n",
       " [1681084800000, 0.03158, 0.04, 0.03106, 0.03525, 1557534.97],\n",
       " [1681171200000, 0.03525, 0.03614, 0.03397, 0.03464, 1188583.66],\n",
       " [1681257600000, 0.03464, 0.037, 0.03402, 0.0345, 1164078.31],\n",
       " [1681344000000, 0.0345, 0.0377, 0.03311, 0.03582, 1180016.96],\n",
       " [1681430400000, 0.03582, 0.03941, 0.0349, 0.03834, 1181903.38],\n",
       " [1681516800000, 0.03834, 0.0462, 0.03738, 0.04052, 1174275.7],\n",
       " [1681603200000, 0.04052, 0.0509, 0.03866, 0.04399, 1136789.96],\n",
       " [1681689600000, 0.04399, 0.079, 0.04189, 0.05605, 1887849.35],\n",
       " [1681776000000, 0.05605, 0.063, 0.05284, 0.059, 900556.46],\n",
       " [1681862400000, 0.059, 0.06799, 0.05583, 0.05807, 858204.07],\n",
       " [1681948800000, 0.05807, 0.0601, 0.05263, 0.05375, 800362.64],\n",
       " [1682035200000, 0.05375, 0.05999, 0.04875, 0.04941, 881497.45],\n",
       " [1682121600000, 0.04941, 0.05399, 0.04815, 0.05014, 857402.18],\n",
       " [1682208000000, 0.05014, 0.05148, 0.04839, 0.05016, 841054.05],\n",
       " [1682294400000, 0.05016, 0.05135, 0.04774, 0.04902, 867589.77],\n",
       " [1682380800000, 0.04902, 0.05979, 0.04681, 0.04818, 898429.55],\n",
       " [1682467200000, 0.04818, 0.05147, 0.04412, 0.04682, 860218.7],\n",
       " [1682553600000, 0.04682, 0.0511, 0.0462, 0.05048, 848460.2],\n",
       " [1682640000000, 0.05048, 0.054, 0.04912, 0.05027, 810790.83],\n",
       " [1682726400000, 0.05027, 0.0572, 0.04966, 0.05199, 793122.9],\n",
       " [1682812800000, 0.05199, 0.05545, 0.04891, 0.05123, 814219.49],\n",
       " [1682899200000, 0.05123, 0.06004, 0.04866, 0.05921, 843829.23],\n",
       " [1682985600000, 0.05921, 0.06486, 0.05526, 0.06296, 751647.63],\n",
       " [1683072000000, 0.06296, 0.06319, 0.05691, 0.05939, 695592.32],\n",
       " [1683158400000, 0.05939, 0.06083, 0.05578, 0.05739, 701531.81],\n",
       " [1683244800000, 0.05739, 0.05995, 0.05534, 0.05862, 713072.13],\n",
       " [1683331200000, 0.05862, 0.05994, 0.05006, 0.05131, 801080.51],\n",
       " [1683417600000, 0.05131, 0.05429, 0.05007, 0.05351, 870364.57],\n",
       " [1683504000000, 0.05351, 0.05379, 0.04201, 0.04306, 864874.16]]"
      ]
     },
     "execution_count": 165,
     "metadata": {},
     "output_type": "execute_result"
    }
   ],
   "source": [
    "exchange = ccxt.mexc3()\n",
    "exchange.fetch_ohlcv(\"USDN/USDT\", since=1667339268*1000, timeframe='1d', limit=100)"
   ]
  },
  {
   "cell_type": "code",
   "execution_count": 34,
   "metadata": {},
   "outputs": [
    {
     "name": "stdout",
     "output_type": "stream",
     "text": [
      "binance, failed.\n",
      "binancecoinm, failed.\n",
      "binanceusdm, failed.\n",
      "bitflyer, failed.\n",
      "bittrex, USDN/BTC\n",
      "bittrex, USDN/USDT\n",
      "coinbase, failed.\n",
      "gate, USDN/USDT\n",
      "gateio, USDN/USDT\n",
      "hitbtc, USDN/USDT\n",
      "hitbtc3, USDN/USDT\n",
      "kuna, failed.\n",
      "mexc, USDN/USDT\n",
      "mexc3, USDN/USDT\n",
      "okcoin, failed.\n",
      "tidex, failed.\n",
      "tokocrypto, failed.\n"
     ]
    }
   ],
   "source": [
    "for exchange_id in ccxt.exchanges:\n",
    "    exchange = getattr(ccxt, exchange_id)()\n",
    "    try:\n",
    "        exchange.load_markets()\n",
    "        for market in exchange.markets.keys():\n",
    "            if \"USDN\" in market or \"USDn\" in market:\n",
    "                print(f'{exchange_id}, {market}')\n",
    "    except Exception as e:\n",
    "        print(f'{exchange_id}, failed.')"
   ]
  },
  {
   "cell_type": "code",
   "execution_count": 176,
   "metadata": {},
   "outputs": [
    {
     "name": "stdout",
     "output_type": "stream",
     "text": [
      "3Crv\n",
      "steCRV\n",
      "crvFRAX\n",
      "UST_whv23CRV-f\n",
      "usdn3CRV\n",
      "MIM-3LP3CRV-f\n",
      "crvPlain3andSUSD\n",
      "frxETHCRV\n",
      "LUSD3CRV-f\n",
      "BUSD3CRV-f\n",
      "STETHETH_C-f\n",
      "cbETH-ETH-f\n",
      "cvxcrv-crv-f\n",
      "stETH\n",
      "[Errno 2] No such file or directory: './data/rawdata/stETH_ohlcv.csv'\n",
      "USDT\n",
      "3Crv\n",
      "[Errno 2] No such file or directory: './data/rawdata/3Crv_ohlcv.csv'\n",
      "USDC\n",
      "sUSD\n",
      "[Errno 2] No such file or directory: './data/rawdata/sUSD_ohlcv.csv'\n",
      "WETH\n",
      "[Errno 2] No such file or directory: './data/rawdata/WETH_ohlcv.csv'\n",
      "UST\n",
      "[Errno 2] No such file or directory: './data/rawdata/UST_ohlcv.csv'\n",
      "DAI\n",
      "MIM\n",
      "frxETH\n",
      "[Errno 2] No such file or directory: './data/rawdata/frxETH_ohlcv.csv'\n",
      "ETH\n",
      "cbETH\n",
      "LUSD\n",
      "[Errno 2] No such file or directory: './data/rawdata/LUSD_ohlcv.csv'\n",
      "USDN\n",
      "[Errno 2] No such file or directory: './data/rawdata/USDN_ohlcv.csv'\n",
      "FRAX\n",
      "BUSD\n",
      "CRV\n",
      "cvxCRV\n",
      "[Errno 2] No such file or directory: './data/rawdata/cvxCRV_ohlcv.csv'\n"
     ]
    }
   ],
   "source": [
    "for pool in pool_metadata:\n",
    "    symbol = pool_metadata[pool]['symbol'].replace(\"/\", \"-\")\n",
    "    print(symbol)\n",
    "    pool_data = pd.read_csv(f\"./data/rawdata/{symbol}_pool_data.csv\")\n",
    "    pool_data['inputTokenWeights'] = pool_data['inputTokenWeights'].apply(json.loads)\n",
    "    pool_data['inputTokenBalances'] = pool_data['inputTokenBalances'].apply(json.loads)\n",
    "    pool_data = pool_data.set_index(pd.to_datetime(pool_data['approxTimestamp']))\n",
    "    swaps_data = pd.read_csv(f\"./data/rawdata/{symbol}_swaps.csv\")\n",
    "    lp_data = pd.read_csv(f\"./data/rawdata/{symbol}_lp_events.csv\")\n",
    "    pool_metrics = metricsprocessor.process_metrics_for_pool(pool, pool_data, swaps_data, lp_data)\n",
    "    pool_metrics.to_csv(f\"./data/newmetrics/{symbol}_metrics.csv\")\n",
    "\n",
    "for token in token_metadata:\n",
    "    try:\n",
    "        symbol = token_metadata[token]['symbol']\n",
    "        print(symbol)\n",
    "        token_ohlcv = pd.read_csv(f\"./data/rawdata/{symbol}_ohlcv.csv\")\n",
    "        token_ohlcv = token_ohlcv.set_index(pd.to_datetime(token_ohlcv['timestamp']))\n",
    "        token_ohlcv = token_ohlcv.sort_index()\n",
    "        token_metrics = metricsprocessor.process_metrics_for_token(token, token_ohlcv)\n",
    "        token_metrics.to_csv(f\"./data/newmetrics/{symbol}_metrics.csv\")\n",
    "    except Exception as e:\n",
    "        print(f\"{e}\")"
   ]
  },
  {
   "attachments": {},
   "cell_type": "markdown",
   "metadata": {},
   "source": [
    "# Missing Txs\n",
    "We show that if you increase the step_size between block_gte and block_lt you start losing transactions because theGraph has a rate limit of 100 rows per response."
   ]
  },
  {
   "cell_type": "code",
   "execution_count": null,
   "metadata": {},
   "outputs": [],
   "source": [
    "start = datetime(2023, 3, 11)\n",
    "end = datetime(2023, 3, 13)\n",
    "datafetcher = DataFetcher(start, end)\n",
    "_3pool = '0xbebc44782c7db0a1a60cb6fe97d0b483032ff1c7'"
   ]
  },
  {
   "cell_type": "code",
   "execution_count": null,
   "metadata": {},
   "outputs": [],
   "source": [
    "swaps_data_1 = datafetcher.get_swaps_data('3pool', step_size=1)\n",
    "swaps_data_10 = datafetcher.get_swaps_data('3pool', step_size=10)\n",
    "swaps_data_50 = datafetcher.get_swaps_data('3pool', step_size=50)\n",
    "swaps_data_100 = datafetcher.get_swaps_data('3pool', step_size=100)\n",
    "\n",
    "swaps_df_1 = DataHandler.format_swaps_data(swaps_data_1)\n",
    "swaps_df_10 = DataHandler.format_swaps_data(swaps_data_10)\n",
    "swaps_df_50 = DataHandler.format_swaps_data(swaps_data_50)\n",
    "swaps_df_100 = DataHandler.format_swaps_data(swaps_data_100)\n",
    "\n",
    "print(swaps_df_1.shape)\n",
    "print(swaps_df_10.shape)\n",
    "print(swaps_df_50.shape)\n",
    "print(swaps_df_100.shape)"
   ]
  },
  {
   "cell_type": "code",
   "execution_count": 59,
   "metadata": {},
   "outputs": [
    {
     "data": {
      "text/html": [
       "<div>\n",
       "<style scoped>\n",
       "    .dataframe tbody tr th:only-of-type {\n",
       "        vertical-align: middle;\n",
       "    }\n",
       "\n",
       "    .dataframe tbody tr th {\n",
       "        vertical-align: top;\n",
       "    }\n",
       "\n",
       "    .dataframe thead th {\n",
       "        text-align: right;\n",
       "    }\n",
       "</style>\n",
       "<table border=\"1\" class=\"dataframe\">\n",
       "  <thead>\n",
       "    <tr style=\"text-align: right;\">\n",
       "      <th></th>\n",
       "      <th>id</th>\n",
       "      <th>amountBought</th>\n",
       "      <th>amountSold</th>\n",
       "      <th>block</th>\n",
       "      <th>buyer</th>\n",
       "      <th>gasLimit</th>\n",
       "      <th>gasUsed</th>\n",
       "      <th>isUnderlying</th>\n",
       "      <th>timestamp</th>\n",
       "      <th>tokenBought</th>\n",
       "      <th>tokenSold</th>\n",
       "      <th>tx</th>\n",
       "      <th>pool_id</th>\n",
       "      <th>block_gte</th>\n",
       "      <th>block_lt</th>\n",
       "    </tr>\n",
       "  </thead>\n",
       "  <tbody>\n",
       "    <tr>\n",
       "      <th>16058</th>\n",
       "      <td>0xdc50a0d779d4c5792f32e1a9a5ba2914f58aa654bb79...</td>\n",
       "      <td>340929.942491</td>\n",
       "      <td>331341.859263</td>\n",
       "      <td>16804730</td>\n",
       "      <td>0xdecf04ca46d287b3cb99692ad512e568ba276140</td>\n",
       "      <td>601141</td>\n",
       "      <td>360441</td>\n",
       "      <td>0</td>\n",
       "      <td>1678536347</td>\n",
       "      <td>0xa0b86991c6218b36c1d19d4a2e9eb0ce3606eb48</td>\n",
       "      <td>0x6b175474e89094c44da98b954eedeac495271d0f</td>\n",
       "      <td>0xdc50a0d779d4c5792f32e1a9a5ba2914f58aa654bb79...</td>\n",
       "      <td>0xbebc44782c7db0a1a60cb6fe97d0b483032ff1c7</td>\n",
       "      <td>16804724</td>\n",
       "      <td>16804734</td>\n",
       "    </tr>\n",
       "  </tbody>\n",
       "</table>\n",
       "</div>"
      ],
      "text/plain": [
       "                                                      id   amountBought   \n",
       "16058  0xdc50a0d779d4c5792f32e1a9a5ba2914f58aa654bb79...  340929.942491  \\\n",
       "\n",
       "          amountSold     block                                       buyer   \n",
       "16058  331341.859263  16804730  0xdecf04ca46d287b3cb99692ad512e568ba276140  \\\n",
       "\n",
       "       gasLimit  gasUsed  isUnderlying   timestamp   \n",
       "16058    601141   360441             0  1678536347  \\\n",
       "\n",
       "                                      tokenBought   \n",
       "16058  0xa0b86991c6218b36c1d19d4a2e9eb0ce3606eb48  \\\n",
       "\n",
       "                                        tokenSold   \n",
       "16058  0x6b175474e89094c44da98b954eedeac495271d0f  \\\n",
       "\n",
       "                                                      tx   \n",
       "16058  0xdc50a0d779d4c5792f32e1a9a5ba2914f58aa654bb79...  \\\n",
       "\n",
       "                                          pool_id  block_gte  block_lt  \n",
       "16058  0xbebc44782c7db0a1a60cb6fe97d0b483032ff1c7   16804724  16804734  "
      ]
     },
     "execution_count": 59,
     "metadata": {},
     "output_type": "execute_result"
    }
   ],
   "source": [
    "missing = set(swaps_df_10['id']) - set(swaps_df_100['id'])\n",
    "missing_eg = missing.pop()\n",
    "swaps_df_10[swaps_df_10['id']==missing_eg]"
   ]
  },
  {
   "cell_type": "code",
   "execution_count": 78,
   "metadata": {},
   "outputs": [
    {
     "name": "stdout",
     "output_type": "stream",
     "text": [
      "89\n"
     ]
    }
   ],
   "source": [
    "CURVE_SUBGRAPH_URL_CVX = 'https://api.thegraph.com/subgraphs/name/convex-community/curve-mainnet'\n",
    "block = 16804725\n",
    "query = queries['swapEvents']\n",
    "kwargs = {'pool_id':'0xbebc44782c7db0a1a60cb6fe97d0b483032ff1c7', 'block_gte':block, 'block_lt':block+40}\n",
    "out = await datafetcher.execute_query_async(query, 'swapEvents', CURVE_SUBGRAPH_URL_CVX, **kwargs)\n",
    "out_df = DataHandler.format_swaps_data([out])\n",
    "print(len(out_df))\n",
    "# out_df[out_df['id'] == '0xdc50a0d779d4c5792f32e1a9a5ba2914f58aa654bb79ad59d0daf319692bac5b-340929.942491-131']"
   ]
  },
  {
   "cell_type": "code",
   "execution_count": 45,
   "metadata": {},
   "outputs": [
    {
     "data": {
      "text/html": [
       "<div>\n",
       "<style scoped>\n",
       "    .dataframe tbody tr th:only-of-type {\n",
       "        vertical-align: middle;\n",
       "    }\n",
       "\n",
       "    .dataframe tbody tr th {\n",
       "        vertical-align: top;\n",
       "    }\n",
       "\n",
       "    .dataframe thead th {\n",
       "        text-align: right;\n",
       "    }\n",
       "</style>\n",
       "<table border=\"1\" class=\"dataframe\">\n",
       "  <thead>\n",
       "    <tr style=\"text-align: right;\">\n",
       "      <th></th>\n",
       "      <th>id</th>\n",
       "      <th>amountBought</th>\n",
       "      <th>amountSold</th>\n",
       "      <th>block</th>\n",
       "      <th>buyer</th>\n",
       "      <th>gasLimit</th>\n",
       "      <th>gasUsed</th>\n",
       "      <th>isUnderlying</th>\n",
       "      <th>timestamp</th>\n",
       "      <th>tokenBought</th>\n",
       "      <th>tokenSold</th>\n",
       "      <th>tx</th>\n",
       "      <th>pool_id</th>\n",
       "      <th>block_gte</th>\n",
       "      <th>block_lt</th>\n",
       "    </tr>\n",
       "  </thead>\n",
       "  <tbody>\n",
       "  </tbody>\n",
       "</table>\n",
       "</div>"
      ],
      "text/plain": [
       "Empty DataFrame\n",
       "Columns: [id, amountBought, amountSold, block, buyer, gasLimit, gasUsed, isUnderlying, timestamp, tokenBought, tokenSold, tx, pool_id, block_gte, block_lt]\n",
       "Index: []"
      ]
     },
     "execution_count": 45,
     "metadata": {},
     "output_type": "execute_result"
    }
   ],
   "source": [
    "CURVE_SUBGRAPH_URL_CVX = 'https://api.thegraph.com/subgraphs/name/convex-community/curve-mainnet'\n",
    "query = queries['swapEvents']\n",
    "kwargs = {'pool_id':'0xbebc44782c7db0a1a60cb6fe97d0b483032ff1c7', 'block_gte':16804686, 'block_lt':16804735}\n",
    "out = await datafetcher.execute_query_async(query, 'swapEvents', CURVE_SUBGRAPH_URL_CVX, **kwargs)\n",
    "out_df = DataHandler.format_swaps_data([out])\n",
    "out_df[out_df['id'] == '0xdc50a0d779d4c5792f32e1a9a5ba2914f58aa654bb79ad59d0daf319692bac5b-340929.942491-131']"
   ]
  }
 ],
 "metadata": {
  "kernelspec": {
   "display_name": "venv",
   "language": "python",
   "name": "python3"
  },
  "language_info": {
   "codemirror_mode": {
    "name": "ipython",
    "version": 3
   },
   "file_extension": ".py",
   "mimetype": "text/x-python",
   "name": "python",
   "nbconvert_exporter": "python",
   "pygments_lexer": "ipython3",
   "version": "3.10.6"
  },
  "orig_nbformat": 4
 },
 "nbformat": 4,
 "nbformat_minor": 2
}
