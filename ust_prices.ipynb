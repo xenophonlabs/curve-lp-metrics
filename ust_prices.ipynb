{
 "cells": [
  {
   "cell_type": "code",
   "execution_count": 1,
   "metadata": {},
   "outputs": [],
   "source": [
    "%load_ext autoreload\n",
    "%autoreload 2"
   ]
  },
  {
   "cell_type": "code",
   "execution_count": 2,
   "metadata": {},
   "outputs": [],
   "source": [
    "from curvemetrics.datafetcher import DataFetcher\n",
    "from curvemetrics.datahandler import DataHandler\n",
    "from datetime import datetime\n",
    "import argparse\n",
    "import asyncio\n",
    "import os\n",
    "import json\n",
    "from web3 import Web3\n",
    "import matplotlib.pyplot as plt\n",
    "import pandas as pd"
   ]
  },
  {
   "cell_type": "code",
   "execution_count": 4,
   "metadata": {},
   "outputs": [
    {
     "data": {
      "text/html": [
       "<div>\n",
       "<style scoped>\n",
       "    .dataframe tbody tr th:only-of-type {\n",
       "        vertical-align: middle;\n",
       "    }\n",
       "\n",
       "    .dataframe tbody tr th {\n",
       "        vertical-align: top;\n",
       "    }\n",
       "\n",
       "    .dataframe thead th {\n",
       "        text-align: right;\n",
       "    }\n",
       "</style>\n",
       "<table border=\"1\" class=\"dataframe\">\n",
       "  <thead>\n",
       "    <tr style=\"text-align: right;\">\n",
       "      <th></th>\n",
       "      <th>token_id</th>\n",
       "      <th>symbol</th>\n",
       "      <th>timestamp</th>\n",
       "      <th>open</th>\n",
       "      <th>high</th>\n",
       "      <th>low</th>\n",
       "      <th>close</th>\n",
       "      <th>volume</th>\n",
       "    </tr>\n",
       "    <tr>\n",
       "      <th>timestamp</th>\n",
       "      <th></th>\n",
       "      <th></th>\n",
       "      <th></th>\n",
       "      <th></th>\n",
       "      <th></th>\n",
       "      <th></th>\n",
       "      <th></th>\n",
       "      <th></th>\n",
       "    </tr>\n",
       "  </thead>\n",
       "  <tbody>\n",
       "    <tr>\n",
       "      <th>2022-04-06 17:08:45</th>\n",
       "      <td>0xa693b19d2931d498c5b318df961919bb4aee87a5</td>\n",
       "      <td>UST/USD</td>\n",
       "      <td>1649264925</td>\n",
       "      <td>NaN</td>\n",
       "      <td>NaN</td>\n",
       "      <td>NaN</td>\n",
       "      <td>1.000457</td>\n",
       "      <td>NaN</td>\n",
       "    </tr>\n",
       "    <tr>\n",
       "      <th>2022-04-07 17:08:26</th>\n",
       "      <td>0xa693b19d2931d498c5b318df961919bb4aee87a5</td>\n",
       "      <td>UST/USD</td>\n",
       "      <td>1649351306</td>\n",
       "      <td>NaN</td>\n",
       "      <td>NaN</td>\n",
       "      <td>NaN</td>\n",
       "      <td>1.000408</td>\n",
       "      <td>NaN</td>\n",
       "    </tr>\n",
       "    <tr>\n",
       "      <th>2022-04-08 17:08:29</th>\n",
       "      <td>0xa693b19d2931d498c5b318df961919bb4aee87a5</td>\n",
       "      <td>UST/USD</td>\n",
       "      <td>1649437709</td>\n",
       "      <td>NaN</td>\n",
       "      <td>NaN</td>\n",
       "      <td>NaN</td>\n",
       "      <td>1.000041</td>\n",
       "      <td>NaN</td>\n",
       "    </tr>\n",
       "    <tr>\n",
       "      <th>2022-04-09 17:08:36</th>\n",
       "      <td>0xa693b19d2931d498c5b318df961919bb4aee87a5</td>\n",
       "      <td>UST/USD</td>\n",
       "      <td>1649524116</td>\n",
       "      <td>NaN</td>\n",
       "      <td>NaN</td>\n",
       "      <td>NaN</td>\n",
       "      <td>1.000381</td>\n",
       "      <td>NaN</td>\n",
       "    </tr>\n",
       "    <tr>\n",
       "      <th>2022-04-10 17:08:53</th>\n",
       "      <td>0xa693b19d2931d498c5b318df961919bb4aee87a5</td>\n",
       "      <td>UST/USD</td>\n",
       "      <td>1649610533</td>\n",
       "      <td>NaN</td>\n",
       "      <td>NaN</td>\n",
       "      <td>NaN</td>\n",
       "      <td>1.000667</td>\n",
       "      <td>NaN</td>\n",
       "    </tr>\n",
       "  </tbody>\n",
       "</table>\n",
       "</div>"
      ],
      "text/plain": [
       "                                                       token_id   symbol   \n",
       "timestamp                                                                  \n",
       "2022-04-06 17:08:45  0xa693b19d2931d498c5b318df961919bb4aee87a5  UST/USD  \\\n",
       "2022-04-07 17:08:26  0xa693b19d2931d498c5b318df961919bb4aee87a5  UST/USD   \n",
       "2022-04-08 17:08:29  0xa693b19d2931d498c5b318df961919bb4aee87a5  UST/USD   \n",
       "2022-04-09 17:08:36  0xa693b19d2931d498c5b318df961919bb4aee87a5  UST/USD   \n",
       "2022-04-10 17:08:53  0xa693b19d2931d498c5b318df961919bb4aee87a5  UST/USD   \n",
       "\n",
       "                      timestamp  open  high  low     close  volume  \n",
       "timestamp                                                           \n",
       "2022-04-06 17:08:45  1649264925   NaN   NaN  NaN  1.000457     NaN  \n",
       "2022-04-07 17:08:26  1649351306   NaN   NaN  NaN  1.000408     NaN  \n",
       "2022-04-08 17:08:29  1649437709   NaN   NaN  NaN  1.000041     NaN  \n",
       "2022-04-09 17:08:36  1649524116   NaN   NaN  NaN  1.000381     NaN  \n",
       "2022-04-10 17:08:53  1649610533   NaN   NaN  NaN  1.000667     NaN  "
      ]
     },
     "execution_count": 4,
     "metadata": {},
     "output_type": "execute_result"
    }
   ],
   "source": [
    "STEP_SIZE = 10 # NOTE: increasing this risks losing txs, 10 is probably safe\n",
    "INFURA_KEY = os.getenv(\"INFURA_KEY\")\n",
    "def load_config():\n",
    "    # Load the configuration\n",
    "    with open(os.path.join(os.path.abspath('config.json')), \"r\") as config_file:\n",
    "        config = json.load(config_file)\n",
    "    return config\n",
    "\n",
    "datahandler = DataHandler()\n",
    "token_metadata = datahandler.get_token_metadata()\n",
    "\n",
    "datafetcher = DataFetcher(token_metadata=token_metadata)\n",
    "\n",
    "# start = datetime.timestamp(datetime(2022, 5, 1))\n",
    "start = 1649264925\n",
    "end = datetime.timestamp(datetime(2022, 5, 20))\n",
    "\n",
    "config = load_config()\n",
    "ust = \"0xa693b19d2931d498c5b318df961919bb4aee87a5\"\n",
    "addy = \"0x8b6d9085f310396C6E4f0012783E9f850eaa8a82\"\n",
    "# token_data = datafetcher.get_chainlink_prices(ust, addy, start, end)\n",
    "# df = DataHandler.format_token_data(token_data)\n",
    "# df.to_csv(\"./temp_ust_data.csv\")\n",
    "df = pd.read_csv(\"./temp_ust_data.csv\", index_col=0)\n",
    "df.index = df['timestamp'].apply(datetime.fromtimestamp)\n",
    "df.head()"
   ]
  },
  {
   "cell_type": "code",
   "execution_count": 13,
   "metadata": {},
   "outputs": [],
   "source": [
    "INFURA_KEY = os.getenv(\"INFURA_KEY\")\n",
    "chainlink_address = Web3.to_checksum_address(addy)\n",
    "abi = abi = '[{\"inputs\":[],\"name\":\"decimals\",\"outputs\":[{\"internalType\":\"uint8\",\"name\":\"\",\"type\":\"uint8\"}],\"stateMutability\":\"view\",\"type\":\"function\"},{\"inputs\":[],\"name\":\"description\",\"outputs\":[{\"internalType\":\"string\",\"name\":\"\",\"type\":\"string\"}],\"stateMutability\":\"view\",\"type\":\"function\"},{\"inputs\":[{\"internalType\":\"uint80\",\"name\":\"_roundId\",\"type\":\"uint80\"}],\"name\":\"getRoundData\",\"outputs\":[{\"internalType\":\"uint80\",\"name\":\"roundId\",\"type\":\"uint80\"},{\"internalType\":\"int256\",\"name\":\"answer\",\"type\":\"int256\"},{\"internalType\":\"uint256\",\"name\":\"startedAt\",\"type\":\"uint256\"},{\"internalType\":\"uint256\",\"name\":\"updatedAt\",\"type\":\"uint256\"},{\"internalType\":\"uint80\",\"name\":\"answeredInRound\",\"type\":\"uint80\"}],\"stateMutability\":\"view\",\"type\":\"function\"},{\"inputs\":[],\"name\":\"latestRoundData\",\"outputs\":[{\"internalType\":\"uint80\",\"name\":\"roundId\",\"type\":\"uint80\"},{\"internalType\":\"int256\",\"name\":\"answer\",\"type\":\"int256\"},{\"internalType\":\"uint256\",\"name\":\"startedAt\",\"type\":\"uint256\"},{\"internalType\":\"uint256\",\"name\":\"updatedAt\",\"type\":\"uint256\"},{\"internalType\":\"uint80\",\"name\":\"answeredInRound\",\"type\":\"uint80\"}],\"stateMutability\":\"view\",\"type\":\"function\"},{\"inputs\":[],\"name\":\"version\",\"outputs\":[{\"internalType\":\"uint256\",\"name\":\"\",\"type\":\"uint256\"}],\"stateMutability\":\"view\",\"type\":\"function\"}]'\n",
    "client = Web3(Web3.HTTPProvider(f\"https://mainnet.infura.io/v3/{INFURA_KEY}\"))\n",
    "contract = client.eth.contract(address=chainlink_address, abi=abi)"
   ]
  },
  {
   "cell_type": "code",
   "execution_count": 60,
   "metadata": {},
   "outputs": [
    {
     "data": {
      "text/plain": [
       "18446744073709551766"
      ]
     },
     "execution_count": 60,
     "metadata": {},
     "output_type": "execute_result"
    }
   ],
   "source": [
    "1 << 64 | 150"
   ]
  },
  {
   "cell_type": "code",
   "execution_count": 61,
   "metadata": {},
   "outputs": [
    {
     "data": {
      "text/plain": [
       "[18446744073709551766, 100045719, 1649264925, 1649264925, 18446744073709551766]"
      ]
     },
     "execution_count": 61,
     "metadata": {},
     "output_type": "execute_result"
    }
   ],
   "source": [
    "contract.functions.getRoundData(18446744073709551766).call()"
   ]
  },
  {
   "cell_type": "code",
   "execution_count": 62,
   "metadata": {},
   "outputs": [
    {
     "data": {
      "text/plain": [
       "datetime.datetime(2022, 4, 6, 17, 8, 45)"
      ]
     },
     "execution_count": 62,
     "metadata": {},
     "output_type": "execute_result"
    }
   ],
   "source": [
    "datetime.fromtimestamp(1649264925)"
   ]
  },
  {
   "cell_type": "code",
   "execution_count": 69,
   "metadata": {},
   "outputs": [
    {
     "name": "stderr",
     "output_type": "stream",
     "text": [
      "[autoreload of curvemetrics.datafetcher failed: Traceback (most recent call last):\n",
      "  File \"/root/curve-lp-metrics/venv/lib/python3.10/site-packages/IPython/extensions/autoreload.py\", line 273, in check\n",
      "    superreload(m, reload, self.old_objects)\n",
      "  File \"/root/curve-lp-metrics/venv/lib/python3.10/site-packages/IPython/extensions/autoreload.py\", line 496, in superreload\n",
      "    update_generic(old_obj, new_obj)\n",
      "  File \"/root/curve-lp-metrics/venv/lib/python3.10/site-packages/IPython/extensions/autoreload.py\", line 393, in update_generic\n",
      "    update(a, b)\n",
      "  File \"/root/curve-lp-metrics/venv/lib/python3.10/site-packages/IPython/extensions/autoreload.py\", line 345, in update_class\n",
      "    if update_generic(old_obj, new_obj):\n",
      "  File \"/root/curve-lp-metrics/venv/lib/python3.10/site-packages/IPython/extensions/autoreload.py\", line 393, in update_generic\n",
      "    update(a, b)\n",
      "  File \"/root/curve-lp-metrics/venv/lib/python3.10/site-packages/IPython/extensions/autoreload.py\", line 305, in update_function\n",
      "    setattr(old, name, getattr(new, name))\n",
      "ValueError: get_chainlink_prices() requires a code object with 2 free vars, not 0\n",
      "]\n"
     ]
    },
    {
     "data": {
      "text/html": [
       "<div>\n",
       "<style scoped>\n",
       "    .dataframe tbody tr th:only-of-type {\n",
       "        vertical-align: middle;\n",
       "    }\n",
       "\n",
       "    .dataframe tbody tr th {\n",
       "        vertical-align: top;\n",
       "    }\n",
       "\n",
       "    .dataframe thead th {\n",
       "        text-align: right;\n",
       "    }\n",
       "</style>\n",
       "<table border=\"1\" class=\"dataframe\">\n",
       "  <thead>\n",
       "    <tr style=\"text-align: right;\">\n",
       "      <th></th>\n",
       "      <th>id</th>\n",
       "      <th>token_id</th>\n",
       "      <th>symbol</th>\n",
       "      <th>timestamp</th>\n",
       "      <th>open</th>\n",
       "      <th>high</th>\n",
       "      <th>low</th>\n",
       "      <th>close</th>\n",
       "      <th>volume</th>\n",
       "    </tr>\n",
       "    <tr>\n",
       "      <th>timestamp</th>\n",
       "      <th></th>\n",
       "      <th></th>\n",
       "      <th></th>\n",
       "      <th></th>\n",
       "      <th></th>\n",
       "      <th></th>\n",
       "      <th></th>\n",
       "      <th></th>\n",
       "      <th></th>\n",
       "    </tr>\n",
       "  </thead>\n",
       "  <tbody>\n",
       "    <tr>\n",
       "      <th>2022-04-06 17:10:00</th>\n",
       "      <td>812719</td>\n",
       "      <td>0xa693b19d2931d498c5b318df961919bb4aee87a5</td>\n",
       "      <td>UST/USD</td>\n",
       "      <td>1649265000</td>\n",
       "      <td>1.000</td>\n",
       "      <td>1.001</td>\n",
       "      <td>1.0</td>\n",
       "      <td>1.000</td>\n",
       "      <td>2593.33</td>\n",
       "    </tr>\n",
       "    <tr>\n",
       "      <th>2022-04-06 17:11:00</th>\n",
       "      <td>812719</td>\n",
       "      <td>0xa693b19d2931d498c5b318df961919bb4aee87a5</td>\n",
       "      <td>UST/USD</td>\n",
       "      <td>1649265000</td>\n",
       "      <td>1.000</td>\n",
       "      <td>1.001</td>\n",
       "      <td>1.0</td>\n",
       "      <td>1.000</td>\n",
       "      <td>2593.33</td>\n",
       "    </tr>\n",
       "    <tr>\n",
       "      <th>2022-04-06 17:12:00</th>\n",
       "      <td>812720</td>\n",
       "      <td>0xa693b19d2931d498c5b318df961919bb4aee87a5</td>\n",
       "      <td>UST/USD</td>\n",
       "      <td>1649265120</td>\n",
       "      <td>1.001</td>\n",
       "      <td>1.001</td>\n",
       "      <td>1.0</td>\n",
       "      <td>1.001</td>\n",
       "      <td>259.15</td>\n",
       "    </tr>\n",
       "    <tr>\n",
       "      <th>2022-04-06 17:13:00</th>\n",
       "      <td>812721</td>\n",
       "      <td>0xa693b19d2931d498c5b318df961919bb4aee87a5</td>\n",
       "      <td>UST/USD</td>\n",
       "      <td>1649265180</td>\n",
       "      <td>1.000</td>\n",
       "      <td>1.001</td>\n",
       "      <td>1.0</td>\n",
       "      <td>1.001</td>\n",
       "      <td>3978.21</td>\n",
       "    </tr>\n",
       "    <tr>\n",
       "      <th>2022-04-06 17:14:00</th>\n",
       "      <td>812722</td>\n",
       "      <td>0xa693b19d2931d498c5b318df961919bb4aee87a5</td>\n",
       "      <td>UST/USD</td>\n",
       "      <td>1649265240</td>\n",
       "      <td>1.000</td>\n",
       "      <td>1.001</td>\n",
       "      <td>1.0</td>\n",
       "      <td>1.001</td>\n",
       "      <td>10460.10</td>\n",
       "    </tr>\n",
       "  </tbody>\n",
       "</table>\n",
       "</div>"
      ],
      "text/plain": [
       "                         id                                    token_id   \n",
       "timestamp                                                                 \n",
       "2022-04-06 17:10:00  812719  0xa693b19d2931d498c5b318df961919bb4aee87a5  \\\n",
       "2022-04-06 17:11:00  812719  0xa693b19d2931d498c5b318df961919bb4aee87a5   \n",
       "2022-04-06 17:12:00  812720  0xa693b19d2931d498c5b318df961919bb4aee87a5   \n",
       "2022-04-06 17:13:00  812721  0xa693b19d2931d498c5b318df961919bb4aee87a5   \n",
       "2022-04-06 17:14:00  812722  0xa693b19d2931d498c5b318df961919bb4aee87a5   \n",
       "\n",
       "                      symbol   timestamp   open   high  low  close    volume  \n",
       "timestamp                                                                     \n",
       "2022-04-06 17:10:00  UST/USD  1649265000  1.000  1.001  1.0  1.000   2593.33  \n",
       "2022-04-06 17:11:00  UST/USD  1649265000  1.000  1.001  1.0  1.000   2593.33  \n",
       "2022-04-06 17:12:00  UST/USD  1649265120  1.001  1.001  1.0  1.001    259.15  \n",
       "2022-04-06 17:13:00  UST/USD  1649265180  1.000  1.001  1.0  1.001   3978.21  \n",
       "2022-04-06 17:14:00  UST/USD  1649265240  1.000  1.001  1.0  1.001  10460.10  "
      ]
     },
     "execution_count": 69,
     "metadata": {},
     "output_type": "execute_result"
    }
   ],
   "source": [
    "ohlcv = datahandler.get_ohlcv_data(ust, start, end)\n",
    "ohlcv.head()"
   ]
  },
  {
   "cell_type": "code",
   "execution_count": 85,
   "metadata": {},
   "outputs": [
    {
     "data": {
      "image/png": "[encoded data removed]",
      "text/plain": [
       "<Figure size 640x480 with 1 Axes>"
      ]
     },
     "metadata": {},
     "output_type": "display_data"
    }
   ],
   "source": [
    "f, ax = plt.subplots()\n",
    "\n",
    "ax.plot(ohlcv.index, ohlcv[\"close\"], label=\"coinbasepro close\", c='darkred')\n",
    "ax.plot(df.index, df[\"close\"], label=\"chainlink price\", c='green')\n",
    "ax.set_ylabel(\"Price (USD)\")\n",
    "ax.tick_params(axis='x', rotation=45)\n",
    "ax.legend()\n",
    "ax.set_title(\"Comparing UST Prices from CCXT (Coinbase Pro) and Chainlink\")\n",
    "f.savefig('./figs/ust_prices.png')\n",
    "f.show()"
   ]
  },
  {
   "cell_type": "code",
   "execution_count": 54,
   "metadata": {},
   "outputs": [
    {
     "data": {
      "text/plain": [
       "1669852800.0"
      ]
     },
     "execution_count": 54,
     "metadata": {},
     "output_type": "execute_result"
    }
   ],
   "source": [
    "end"
   ]
  },
  {
   "cell_type": "code",
   "execution_count": 56,
   "metadata": {},
   "outputs": [
    {
     "data": {
      "text/html": [
       "<div>\n",
       "<style scoped>\n",
       "    .dataframe tbody tr th:only-of-type {\n",
       "        vertical-align: middle;\n",
       "    }\n",
       "\n",
       "    .dataframe tbody tr th {\n",
       "        vertical-align: top;\n",
       "    }\n",
       "\n",
       "    .dataframe thead th {\n",
       "        text-align: right;\n",
       "    }\n",
       "</style>\n",
       "<table border=\"1\" class=\"dataframe\">\n",
       "  <thead>\n",
       "    <tr style=\"text-align: right;\">\n",
       "      <th></th>\n",
       "      <th>token_id</th>\n",
       "      <th>symbol</th>\n",
       "      <th>timestamp</th>\n",
       "      <th>open</th>\n",
       "      <th>high</th>\n",
       "      <th>low</th>\n",
       "      <th>close</th>\n",
       "      <th>volume</th>\n",
       "    </tr>\n",
       "    <tr>\n",
       "      <th>timestamp</th>\n",
       "      <th></th>\n",
       "      <th></th>\n",
       "      <th></th>\n",
       "      <th></th>\n",
       "      <th></th>\n",
       "      <th></th>\n",
       "      <th></th>\n",
       "      <th></th>\n",
       "    </tr>\n",
       "  </thead>\n",
       "  <tbody>\n",
       "    <tr>\n",
       "      <th>2022-09-30 01:37:59</th>\n",
       "      <td>0x674C6Ad92Fd080e4004b2312b45f796a192D27a0</td>\n",
       "      <td>USDN/USD</td>\n",
       "      <td>1664501879</td>\n",
       "      <td>None</td>\n",
       "      <td>None</td>\n",
       "      <td>None</td>\n",
       "      <td>0.968072</td>\n",
       "      <td>None</td>\n",
       "    </tr>\n",
       "    <tr>\n",
       "      <th>2022-10-01 01:22:11</th>\n",
       "      <td>0x674C6Ad92Fd080e4004b2312b45f796a192D27a0</td>\n",
       "      <td>USDN/USD</td>\n",
       "      <td>1664587331</td>\n",
       "      <td>None</td>\n",
       "      <td>None</td>\n",
       "      <td>None</td>\n",
       "      <td>0.970518</td>\n",
       "      <td>None</td>\n",
       "    </tr>\n",
       "    <tr>\n",
       "      <th>2022-10-02 01:05:35</th>\n",
       "      <td>0x674C6Ad92Fd080e4004b2312b45f796a192D27a0</td>\n",
       "      <td>USDN/USD</td>\n",
       "      <td>1664672735</td>\n",
       "      <td>None</td>\n",
       "      <td>None</td>\n",
       "      <td>None</td>\n",
       "      <td>0.971518</td>\n",
       "      <td>None</td>\n",
       "    </tr>\n",
       "    <tr>\n",
       "      <th>2022-10-03 00:48:59</th>\n",
       "      <td>0x674C6Ad92Fd080e4004b2312b45f796a192D27a0</td>\n",
       "      <td>USDN/USD</td>\n",
       "      <td>1664758139</td>\n",
       "      <td>None</td>\n",
       "      <td>None</td>\n",
       "      <td>None</td>\n",
       "      <td>0.975001</td>\n",
       "      <td>None</td>\n",
       "    </tr>\n",
       "    <tr>\n",
       "      <th>2022-10-04 00:32:23</th>\n",
       "      <td>0x674C6Ad92Fd080e4004b2312b45f796a192D27a0</td>\n",
       "      <td>USDN/USD</td>\n",
       "      <td>1664843543</td>\n",
       "      <td>None</td>\n",
       "      <td>None</td>\n",
       "      <td>None</td>\n",
       "      <td>0.973528</td>\n",
       "      <td>None</td>\n",
       "    </tr>\n",
       "  </tbody>\n",
       "</table>\n",
       "</div>"
      ],
      "text/plain": [
       "                                                       token_id    symbol   \n",
       "timestamp                                                                   \n",
       "2022-09-30 01:37:59  0x674C6Ad92Fd080e4004b2312b45f796a192D27a0  USDN/USD  \\\n",
       "2022-10-01 01:22:11  0x674C6Ad92Fd080e4004b2312b45f796a192D27a0  USDN/USD   \n",
       "2022-10-02 01:05:35  0x674C6Ad92Fd080e4004b2312b45f796a192D27a0  USDN/USD   \n",
       "2022-10-03 00:48:59  0x674C6Ad92Fd080e4004b2312b45f796a192D27a0  USDN/USD   \n",
       "2022-10-04 00:32:23  0x674C6Ad92Fd080e4004b2312b45f796a192D27a0  USDN/USD   \n",
       "\n",
       "                      timestamp  open  high   low     close volume  \n",
       "timestamp                                                           \n",
       "2022-09-30 01:37:59  1664501879  None  None  None  0.968072   None  \n",
       "2022-10-01 01:22:11  1664587331  None  None  None  0.970518   None  \n",
       "2022-10-02 01:05:35  1664672735  None  None  None  0.971518   None  \n",
       "2022-10-03 00:48:59  1664758139  None  None  None  0.975001   None  \n",
       "2022-10-04 00:32:23  1664843543  None  None  None  0.973528   None  "
      ]
     },
     "execution_count": 56,
     "metadata": {},
     "output_type": "execute_result"
    }
   ],
   "source": [
    "# start = datetime.timestamp(datetime(2022, 11, 1))\n",
    "start = 1664501879\n",
    "end = datetime.timestamp(datetime(2023, 2, 1))\n",
    "\n",
    "config = load_config()\n",
    "addy = \"0x099c9588D8C6F7579C89014e59002881CE0c46A1\"\n",
    "usdn = \"0x674C6Ad92Fd080e4004b2312b45f796a192D27a0\"\n",
    "\n",
    "usdn_data = datafetcher.get_chainlink_prices(usdn, addy, start, end)\n",
    "df = DataHandler.format_token_data(usdn_data)\n",
    "df.to_csv(\"./temp_usdn_data.csv\")\n",
    "df.index = df['timestamp'].apply(datetime.fromtimestamp)\n",
    "df.head()"
   ]
  },
  {
   "cell_type": "code",
   "execution_count": 57,
   "metadata": {},
   "outputs": [
    {
     "data": {
      "text/plain": [
       "<Axes: xlabel='timestamp'>"
      ]
     },
     "execution_count": 57,
     "metadata": {},
     "output_type": "execute_result"
    },
    {
     "data": {
      "image/png": "[encoded data removed]",
      "text/plain": [
       "<Figure size 640x480 with 1 Axes>"
      ]
     },
     "metadata": {},
     "output_type": "display_data"
    }
   ],
   "source": [
    "df['close'].plot()"
   ]
  },
  {
   "cell_type": "code",
   "execution_count": 32,
   "metadata": {},
   "outputs": [],
   "source": [
    "chainlink_address = Web3.to_checksum_address(\"0x099c9588D8C6F7579C89014e59002881CE0c46A1\")\n",
    "abi = abi = '[{\"inputs\":[],\"name\":\"decimals\",\"outputs\":[{\"internalType\":\"uint8\",\"name\":\"\",\"type\":\"uint8\"}],\"stateMutability\":\"view\",\"type\":\"function\"},{\"inputs\":[],\"name\":\"description\",\"outputs\":[{\"internalType\":\"string\",\"name\":\"\",\"type\":\"string\"}],\"stateMutability\":\"view\",\"type\":\"function\"},{\"inputs\":[{\"internalType\":\"uint80\",\"name\":\"_roundId\",\"type\":\"uint80\"}],\"name\":\"getRoundData\",\"outputs\":[{\"internalType\":\"uint80\",\"name\":\"roundId\",\"type\":\"uint80\"},{\"internalType\":\"int256\",\"name\":\"answer\",\"type\":\"int256\"},{\"internalType\":\"uint256\",\"name\":\"startedAt\",\"type\":\"uint256\"},{\"internalType\":\"uint256\",\"name\":\"updatedAt\",\"type\":\"uint256\"},{\"internalType\":\"uint80\",\"name\":\"answeredInRound\",\"type\":\"uint80\"}],\"stateMutability\":\"view\",\"type\":\"function\"},{\"inputs\":[],\"name\":\"latestRoundData\",\"outputs\":[{\"internalType\":\"uint80\",\"name\":\"roundId\",\"type\":\"uint80\"},{\"internalType\":\"int256\",\"name\":\"answer\",\"type\":\"int256\"},{\"internalType\":\"uint256\",\"name\":\"startedAt\",\"type\":\"uint256\"},{\"internalType\":\"uint256\",\"name\":\"updatedAt\",\"type\":\"uint256\"},{\"internalType\":\"uint80\",\"name\":\"answeredInRound\",\"type\":\"uint80\"}],\"stateMutability\":\"view\",\"type\":\"function\"},{\"inputs\":[],\"name\":\"version\",\"outputs\":[{\"internalType\":\"uint256\",\"name\":\"\",\"type\":\"uint256\"}],\"stateMutability\":\"view\",\"type\":\"function\"}]'\n",
    "client = Web3(Web3.HTTPProvider(f\"https://mainnet.infura.io/v3/{INFURA_KEY}\"))\n",
    "contract = client.eth.contract(address=chainlink_address, abi=abi)\n",
    "symbol = contract.functions.description().call().replace(\" \", \"\")"
   ]
  },
  {
   "cell_type": "code",
   "execution_count": 34,
   "metadata": {},
   "outputs": [
    {
     "data": {
      "text/plain": [
       "[512, 28347479, 1675776755, 1675776755, 512]"
      ]
     },
     "execution_count": 34,
     "metadata": {},
     "output_type": "execute_result"
    }
   ],
   "source": [
    "contract.functions.latestRoundData().call()"
   ]
  },
  {
   "cell_type": "code",
   "execution_count": 26,
   "metadata": {},
   "outputs": [
    {
     "data": {
      "text/plain": [
       "datetime.datetime(2023, 2, 7, 13, 32, 35)"
      ]
     },
     "execution_count": 26,
     "metadata": {},
     "output_type": "execute_result"
    }
   ],
   "source": [
    "datetime.fromtimestamp(1675776755)"
   ]
  },
  {
   "cell_type": "code",
   "execution_count": 29,
   "metadata": {},
   "outputs": [
    {
     "data": {
      "text/plain": [
       "0"
      ]
     },
     "execution_count": 29,
     "metadata": {},
     "output_type": "execute_result"
    }
   ],
   "source": [
    "512 >> 64"
   ]
  },
  {
   "cell_type": "code",
   "execution_count": 50,
   "metadata": {},
   "outputs": [
    {
     "name": "stdout",
     "output_type": "stream",
     "text": [
      "[376, 96807200, 1664501879, 1664501879, 376]\n",
      "2022-09-30 01:37:59\n"
     ]
    }
   ],
   "source": [
    "res = contract.functions.getRoundData(376).call()\n",
    "print(res)\n",
    "print(datetime.fromtimestamp(res[3]))"
   ]
  },
  {
   "cell_type": "code",
   "execution_count": 43,
   "metadata": {},
   "outputs": [
    {
     "data": {
      "text/plain": [
       "8"
      ]
     },
     "execution_count": 43,
     "metadata": {},
     "output_type": "execute_result"
    }
   ],
   "source": [
    "contract.functions.decimals().call()"
   ]
  },
  {
   "cell_type": "code",
   "execution_count": null,
   "metadata": {},
   "outputs": [],
   "source": []
  }
 ],
 "metadata": {
  "kernelspec": {
   "display_name": "venv",
   "language": "python",
   "name": "python3"
  },
  "language_info": {
   "codemirror_mode": {
    "name": "ipython",
    "version": 3
   },
   "file_extension": ".py",
   "mimetype": "text/x-python",
   "name": "python",
   "nbconvert_exporter": "python",
   "pygments_lexer": "ipython3",
   "version": "3.10.6"
  },
  "orig_nbformat": 4
 },
 "nbformat": 4,
 "nbformat_minor": 2
}
