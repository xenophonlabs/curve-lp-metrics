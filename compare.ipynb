{
 "cells": [
  {
   "attachments": {},
   "cell_type": "markdown",
   "metadata": {},
   "source": [
    "# Compare Messari and Convex Community Subgraph Outputs\n",
    "\n",
    "TODO:\n",
    "1. The subgraph data is really different. Need a \"source of truth\" to determine what is \"correct\""
   ]
  },
  {
   "cell_type": "code",
   "execution_count": 1,
   "metadata": {},
   "outputs": [],
   "source": [
    "%load_ext autoreload\n",
    "%autoreload 2"
   ]
  },
  {
   "cell_type": "code",
   "execution_count": 2,
   "metadata": {},
   "outputs": [],
   "source": [
    "from datafetcher import DataFetcher\n",
    "import pandas as pd\n",
    "import numpy as np\n",
    "from datetime import datetime\n",
    "import matplotlib.pyplot as plt"
   ]
  },
  {
   "attachments": {},
   "cell_type": "markdown",
   "metadata": {},
   "source": [
    "## UST Wormhole pool during Luna Collapse"
   ]
  },
  {
   "cell_type": "code",
   "execution_count": 47,
   "metadata": {},
   "outputs": [],
   "source": [
    "pool_name = \"3pool\"\n",
    "datafetcher = DataFetcher('2022-05-01', '2022-06-01')"
   ]
  },
  {
   "attachments": {},
   "cell_type": "markdown",
   "metadata": {},
   "source": [
    "# Pool Data"
   ]
  },
  {
   "cell_type": "code",
   "execution_count": 5,
   "metadata": {},
   "outputs": [],
   "source": [
    "# NOTE: Seems like Convex community doesn't have an obvious query for pool reserves/composition\n",
    "df_pool_messari = datafetcher.get_pool_data(pool_name, source=\"messari\") # optionally save=True"
   ]
  },
  {
   "attachments": {},
   "cell_type": "markdown",
   "metadata": {},
   "source": [
    "# Swap Data"
   ]
  },
  {
   "cell_type": "code",
   "execution_count": 56,
   "metadata": {},
   "outputs": [],
   "source": [
    "df_swaps_cvx = datafetcher.get_swaps_data(pool_name, source=\"cvx\") # optionally save=True\n",
    "df_swaps_messari = datafetcher.get_swaps_data(pool_name, source=\"messari\") # optionally save=True"
   ]
  },
  {
   "cell_type": "code",
   "execution_count": 57,
   "metadata": {},
   "outputs": [
    {
     "data": {
      "text/html": [
       "<div>\n",
       "<style scoped>\n",
       "    .dataframe tbody tr th:only-of-type {\n",
       "        vertical-align: middle;\n",
       "    }\n",
       "\n",
       "    .dataframe tbody tr th {\n",
       "        vertical-align: top;\n",
       "    }\n",
       "\n",
       "    .dataframe thead th {\n",
       "        text-align: right;\n",
       "    }\n",
       "</style>\n",
       "<table border=\"1\" class=\"dataframe\">\n",
       "  <thead>\n",
       "    <tr style=\"text-align: right;\">\n",
       "      <th></th>\n",
       "      <th>tokenIn.symbol</th>\n",
       "      <th>amountIn</th>\n",
       "      <th>amountInUSD</th>\n",
       "      <th>tokenOut.symbol</th>\n",
       "      <th>amountOut</th>\n",
       "      <th>amountOutUSD</th>\n",
       "      <th>from</th>\n",
       "      <th>hash</th>\n",
       "    </tr>\n",
       "    <tr>\n",
       "      <th>datetime</th>\n",
       "      <th></th>\n",
       "      <th></th>\n",
       "      <th></th>\n",
       "      <th></th>\n",
       "      <th></th>\n",
       "      <th></th>\n",
       "      <th></th>\n",
       "      <th></th>\n",
       "    </tr>\n",
       "  </thead>\n",
       "  <tbody>\n",
       "    <tr>\n",
       "      <th>2022-05-01 00:07:42</th>\n",
       "      <td>USDC</td>\n",
       "      <td>1.000000e+05</td>\n",
       "      <td>None</td>\n",
       "      <td>USDT</td>\n",
       "      <td>9.996116e+04</td>\n",
       "      <td>None</td>\n",
       "      <td>0x42de10a720c59ed8dcc6e55d5e61e03b5ad70905</td>\n",
       "      <td>0x44e5c1cb800b5fbfa47be97d7e4b852df11a2cb703e4...</td>\n",
       "    </tr>\n",
       "    <tr>\n",
       "      <th>2022-05-01 00:18:56</th>\n",
       "      <td>DAI</td>\n",
       "      <td>1.572734e+04</td>\n",
       "      <td>None</td>\n",
       "      <td>USDT</td>\n",
       "      <td>1.572088e+04</td>\n",
       "      <td>None</td>\n",
       "      <td>0x12e599006a5f19819cde6fabcebbd8586688c8ac</td>\n",
       "      <td>0x679c627fa893ddffd087700475d2af1872c5dcbb0a02...</td>\n",
       "    </tr>\n",
       "    <tr>\n",
       "      <th>2022-05-01 00:54:34</th>\n",
       "      <td>USDC</td>\n",
       "      <td>4.000000e+04</td>\n",
       "      <td>None</td>\n",
       "      <td>USDT</td>\n",
       "      <td>3.998441e+04</td>\n",
       "      <td>None</td>\n",
       "      <td>0xfa9a30350048b2bf66865ee20363067c66f67e58</td>\n",
       "      <td>0x456932cf29b6a3ef7693de92382c96b83ec9ed4e408e...</td>\n",
       "    </tr>\n",
       "    <tr>\n",
       "      <th>2022-05-01 00:50:10</th>\n",
       "      <td>DAI</td>\n",
       "      <td>1.200000e+04</td>\n",
       "      <td>None</td>\n",
       "      <td>USDC</td>\n",
       "      <td>1.199615e+04</td>\n",
       "      <td>None</td>\n",
       "      <td>0x8b225e3680f8a2eabe466f27cb172cf871cd8623</td>\n",
       "      <td>0xf2e564221a980ef3bfe8b853777503b1b0b629bfe667...</td>\n",
       "    </tr>\n",
       "    <tr>\n",
       "      <th>2022-05-01 02:09:48</th>\n",
       "      <td>USDC</td>\n",
       "      <td>2.028025e+06</td>\n",
       "      <td>None</td>\n",
       "      <td>USDT</td>\n",
       "      <td>2.027227e+06</td>\n",
       "      <td>None</td>\n",
       "      <td>0x773d161310d07cafc6f767ca24f43e52163b9be6</td>\n",
       "      <td>0x268f498e6413635ae722705b3f72b991b199d77e5f95...</td>\n",
       "    </tr>\n",
       "  </tbody>\n",
       "</table>\n",
       "</div>"
      ],
      "text/plain": [
       "                    tokenIn.symbol      amountIn amountInUSD tokenOut.symbol   \n",
       "datetime                                                                       \n",
       "2022-05-01 00:07:42           USDC  1.000000e+05        None            USDT  \\\n",
       "2022-05-01 00:18:56            DAI  1.572734e+04        None            USDT   \n",
       "2022-05-01 00:54:34           USDC  4.000000e+04        None            USDT   \n",
       "2022-05-01 00:50:10            DAI  1.200000e+04        None            USDC   \n",
       "2022-05-01 02:09:48           USDC  2.028025e+06        None            USDT   \n",
       "\n",
       "                        amountOut amountOutUSD   \n",
       "datetime                                         \n",
       "2022-05-01 00:07:42  9.996116e+04         None  \\\n",
       "2022-05-01 00:18:56  1.572088e+04         None   \n",
       "2022-05-01 00:54:34  3.998441e+04         None   \n",
       "2022-05-01 00:50:10  1.199615e+04         None   \n",
       "2022-05-01 02:09:48  2.027227e+06         None   \n",
       "\n",
       "                                                           from   \n",
       "datetime                                                          \n",
       "2022-05-01 00:07:42  0x42de10a720c59ed8dcc6e55d5e61e03b5ad70905  \\\n",
       "2022-05-01 00:18:56  0x12e599006a5f19819cde6fabcebbd8586688c8ac   \n",
       "2022-05-01 00:54:34  0xfa9a30350048b2bf66865ee20363067c66f67e58   \n",
       "2022-05-01 00:50:10  0x8b225e3680f8a2eabe466f27cb172cf871cd8623   \n",
       "2022-05-01 02:09:48  0x773d161310d07cafc6f767ca24f43e52163b9be6   \n",
       "\n",
       "                                                                  hash  \n",
       "datetime                                                                \n",
       "2022-05-01 00:07:42  0x44e5c1cb800b5fbfa47be97d7e4b852df11a2cb703e4...  \n",
       "2022-05-01 00:18:56  0x679c627fa893ddffd087700475d2af1872c5dcbb0a02...  \n",
       "2022-05-01 00:54:34  0x456932cf29b6a3ef7693de92382c96b83ec9ed4e408e...  \n",
       "2022-05-01 00:50:10  0xf2e564221a980ef3bfe8b853777503b1b0b629bfe667...  \n",
       "2022-05-01 02:09:48  0x268f498e6413635ae722705b3f72b991b199d77e5f95...  "
      ]
     },
     "execution_count": 57,
     "metadata": {},
     "output_type": "execute_result"
    }
   ],
   "source": [
    "df_swaps_cvx.head()"
   ]
  },
  {
   "cell_type": "code",
   "execution_count": 58,
   "metadata": {},
   "outputs": [
    {
     "data": {
      "text/html": [
       "<div>\n",
       "<style scoped>\n",
       "    .dataframe tbody tr th:only-of-type {\n",
       "        vertical-align: middle;\n",
       "    }\n",
       "\n",
       "    .dataframe tbody tr th {\n",
       "        vertical-align: top;\n",
       "    }\n",
       "\n",
       "    .dataframe thead th {\n",
       "        text-align: right;\n",
       "    }\n",
       "</style>\n",
       "<table border=\"1\" class=\"dataframe\">\n",
       "  <thead>\n",
       "    <tr style=\"text-align: right;\">\n",
       "      <th></th>\n",
       "      <th>tokenIn.symbol</th>\n",
       "      <th>amountIn</th>\n",
       "      <th>amountInUSD</th>\n",
       "      <th>tokenOut.symbol</th>\n",
       "      <th>amountOut</th>\n",
       "      <th>amountOutUSD</th>\n",
       "      <th>from</th>\n",
       "      <th>hash</th>\n",
       "    </tr>\n",
       "    <tr>\n",
       "      <th>timestamp</th>\n",
       "      <th></th>\n",
       "      <th></th>\n",
       "      <th></th>\n",
       "      <th></th>\n",
       "      <th></th>\n",
       "      <th></th>\n",
       "      <th></th>\n",
       "      <th></th>\n",
       "    </tr>\n",
       "  </thead>\n",
       "  <tbody>\n",
       "    <tr>\n",
       "      <th>2022-05-01 00:07:42</th>\n",
       "      <td>USDC</td>\n",
       "      <td>1.000000e+05</td>\n",
       "      <td>1.000000e+05</td>\n",
       "      <td>USDT</td>\n",
       "      <td>9.996116e+04</td>\n",
       "      <td>9.996116e+04</td>\n",
       "      <td>0x42de10a720c59ed8dcc6e55d5e61e03b5ad70905</td>\n",
       "      <td>0x44e5c1cb800b5fbfa47be97d7e4b852df11a2cb703e4...</td>\n",
       "    </tr>\n",
       "    <tr>\n",
       "      <th>2022-05-01 00:18:56</th>\n",
       "      <td>DAI</td>\n",
       "      <td>1.572734e+04</td>\n",
       "      <td>1.572734e+04</td>\n",
       "      <td>USDT</td>\n",
       "      <td>1.572088e+04</td>\n",
       "      <td>1.572088e+04</td>\n",
       "      <td>0x12e599006a5f19819cde6fabcebbd8586688c8ac</td>\n",
       "      <td>0x679c627fa893ddffd087700475d2af1872c5dcbb0a02...</td>\n",
       "    </tr>\n",
       "    <tr>\n",
       "      <th>2022-05-01 00:54:34</th>\n",
       "      <td>USDC</td>\n",
       "      <td>4.000000e+04</td>\n",
       "      <td>4.000000e+04</td>\n",
       "      <td>USDT</td>\n",
       "      <td>3.998441e+04</td>\n",
       "      <td>3.998441e+04</td>\n",
       "      <td>0xfa9a30350048b2bf66865ee20363067c66f67e58</td>\n",
       "      <td>0x456932cf29b6a3ef7693de92382c96b83ec9ed4e408e...</td>\n",
       "    </tr>\n",
       "    <tr>\n",
       "      <th>2022-05-01 00:50:10</th>\n",
       "      <td>DAI</td>\n",
       "      <td>1.200000e+04</td>\n",
       "      <td>1.200000e+04</td>\n",
       "      <td>USDC</td>\n",
       "      <td>1.199615e+04</td>\n",
       "      <td>1.199615e+04</td>\n",
       "      <td>0x8b225e3680f8a2eabe466f27cb172cf871cd8623</td>\n",
       "      <td>0xf2e564221a980ef3bfe8b853777503b1b0b629bfe667...</td>\n",
       "    </tr>\n",
       "    <tr>\n",
       "      <th>2022-05-01 02:09:48</th>\n",
       "      <td>USDC</td>\n",
       "      <td>2.028025e+06</td>\n",
       "      <td>2.028025e+06</td>\n",
       "      <td>USDT</td>\n",
       "      <td>2.027227e+06</td>\n",
       "      <td>2.027227e+06</td>\n",
       "      <td>0x773d161310d07cafc6f767ca24f43e52163b9be6</td>\n",
       "      <td>0x268f498e6413635ae722705b3f72b991b199d77e5f95...</td>\n",
       "    </tr>\n",
       "  </tbody>\n",
       "</table>\n",
       "</div>"
      ],
      "text/plain": [
       "                    tokenIn.symbol      amountIn   amountInUSD   \n",
       "timestamp                                                        \n",
       "2022-05-01 00:07:42           USDC  1.000000e+05  1.000000e+05  \\\n",
       "2022-05-01 00:18:56            DAI  1.572734e+04  1.572734e+04   \n",
       "2022-05-01 00:54:34           USDC  4.000000e+04  4.000000e+04   \n",
       "2022-05-01 00:50:10            DAI  1.200000e+04  1.200000e+04   \n",
       "2022-05-01 02:09:48           USDC  2.028025e+06  2.028025e+06   \n",
       "\n",
       "                    tokenOut.symbol     amountOut  amountOutUSD   \n",
       "timestamp                                                         \n",
       "2022-05-01 00:07:42            USDT  9.996116e+04  9.996116e+04  \\\n",
       "2022-05-01 00:18:56            USDT  1.572088e+04  1.572088e+04   \n",
       "2022-05-01 00:54:34            USDT  3.998441e+04  3.998441e+04   \n",
       "2022-05-01 00:50:10            USDC  1.199615e+04  1.199615e+04   \n",
       "2022-05-01 02:09:48            USDT  2.027227e+06  2.027227e+06   \n",
       "\n",
       "                                                           from   \n",
       "timestamp                                                         \n",
       "2022-05-01 00:07:42  0x42de10a720c59ed8dcc6e55d5e61e03b5ad70905  \\\n",
       "2022-05-01 00:18:56  0x12e599006a5f19819cde6fabcebbd8586688c8ac   \n",
       "2022-05-01 00:54:34  0xfa9a30350048b2bf66865ee20363067c66f67e58   \n",
       "2022-05-01 00:50:10  0x8b225e3680f8a2eabe466f27cb172cf871cd8623   \n",
       "2022-05-01 02:09:48  0x773d161310d07cafc6f767ca24f43e52163b9be6   \n",
       "\n",
       "                                                                  hash  \n",
       "timestamp                                                               \n",
       "2022-05-01 00:07:42  0x44e5c1cb800b5fbfa47be97d7e4b852df11a2cb703e4...  \n",
       "2022-05-01 00:18:56  0x679c627fa893ddffd087700475d2af1872c5dcbb0a02...  \n",
       "2022-05-01 00:54:34  0x456932cf29b6a3ef7693de92382c96b83ec9ed4e408e...  \n",
       "2022-05-01 00:50:10  0xf2e564221a980ef3bfe8b853777503b1b0b629bfe667...  \n",
       "2022-05-01 02:09:48  0x268f498e6413635ae722705b3f72b991b199d77e5f95...  "
      ]
     },
     "execution_count": 58,
     "metadata": {},
     "output_type": "execute_result"
    }
   ],
   "source": [
    "df_swaps_messari.head()"
   ]
  },
  {
   "cell_type": "code",
   "execution_count": 61,
   "metadata": {},
   "outputs": [
    {
     "name": "stdout",
     "output_type": "stream",
     "text": [
      "Same tokens? True\n"
     ]
    },
    {
     "data": {
      "text/plain": [
       "{'DAI', 'USDC', 'USDT'}"
      ]
     },
     "execution_count": 61,
     "metadata": {},
     "output_type": "execute_result"
    }
   ],
   "source": [
    "tokens_messari = set(df_swaps_messari['tokenIn.symbol'].unique().tolist() + df_swaps_messari['tokenOut.symbol'].unique().tolist())\n",
    "tokens_cvx = set(df_swaps_cvx['tokenIn.symbol'].unique().tolist() + df_swaps_cvx['tokenOut.symbol'].unique().tolist())\n",
    "print(f\"Same tokens? {tokens_messari == tokens_cvx}\")\n",
    "tokens_messari"
   ]
  },
  {
   "cell_type": "code",
   "execution_count": 79,
   "metadata": {},
   "outputs": [
    {
     "name": "stdout",
     "output_type": "stream",
     "text": [
      "Swap Count\n",
      "Messari:6300\n",
      "Convex:7166\n"
     ]
    }
   ],
   "source": [
    "# NOTE: Seems that Messari is missing some swaps (or Convex is double counting? probs not)\n",
    "print(f\"Swap Count\\nMessari:{df_swaps_messari.shape[0]}\\nConvex:{df_swaps_cvx.shape[0]}\")"
   ]
  },
  {
   "cell_type": "code",
   "execution_count": 114,
   "metadata": {},
   "outputs": [
    {
     "name": "stdout",
     "output_type": "stream",
     "text": [
      "Missing in cvx: 0, Missing in messari: 799\n"
     ]
    }
   ],
   "source": [
    "missing_in_cvx = set(df_swaps_messari[\"hash\"]) - set(df_swaps_cvx[\"hash\"])\n",
    "missing_in_messari = set(df_swaps_cvx[\"hash\"]) - set(df_swaps_messari[\"hash\"])\n",
    "\n",
    "print(f\"Missing in cvx: {len(missing_in_cvx)}, Missing in messari: {len(missing_in_messari)}\")"
   ]
  },
  {
   "cell_type": "code",
   "execution_count": 87,
   "metadata": {},
   "outputs": [
    {
     "name": "stdout",
     "output_type": "stream",
     "text": [
      "Swap hash Count\n",
      "Messari:6300\n",
      "Convex:7099\n"
     ]
    }
   ],
   "source": [
    "print(f\"Swap hash Count\\nMessari:{df_swaps_messari['hash'].unique().shape[0]}\\nConvex:{df_swaps_cvx['hash'].unique().shape[0]}\")"
   ]
  },
  {
   "cell_type": "code",
   "execution_count": 83,
   "metadata": {},
   "outputs": [
    {
     "name": "stdout",
     "output_type": "stream",
     "text": [
      "Amount In Sum\n",
      "Messari:5966758886.4561\n",
      "Convex:6646921227.33356\n",
      "Amount Out Sum\n",
      "Messari:5966506109.375509\n",
      "Convex:6646537795.05013\n"
     ]
    }
   ],
   "source": [
    "print(f\"Amount In Sum\\nMessari:{df_swaps_messari['amountIn'].sum()}\\nConvex:{df_swaps_cvx['amountIn'].sum()}\")\n",
    "print(f\"Amount Out Sum\\nMessari:{df_swaps_messari['amountOut'].sum()}\\nConvex:{df_swaps_cvx['amountOut'].sum()}\")"
   ]
  },
  {
   "cell_type": "code",
   "execution_count": 66,
   "metadata": {},
   "outputs": [
    {
     "data": {
      "image/png": "[encoded data removed]",
      "text/plain": [
       "<Figure size 800x2400 with 3 Axes>"
      ]
     },
     "metadata": {},
     "output_type": "display_data"
    }
   ],
   "source": [
    "tokens = tokens_messari\n",
    "freq = '1min'\n",
    "\n",
    "fig, axs = plt.subplots(len(tokens), 1, figsize=(8, 8*len(tokens)))\n",
    "\n",
    "for i, token in enumerate(tokens):\n",
    "    # Cvx\n",
    "    swap_in = df_swaps_cvx[df_swaps_cvx['tokenIn.symbol']==token]['amountIn'].resample(freq).sum()\n",
    "    swap_out = -1*df_swaps_cvx[df_swaps_cvx['tokenOut.symbol']==token]['amountOut'].resample(freq).sum()\n",
    "    flow_cvx = pd.concat([swap_in, swap_out], axis=1).fillna(0)\n",
    "    flow_cvx['netFlowCvx'] = flow_cvx['amountIn'] + flow_cvx['amountOut']\n",
    "    flow_cvx = flow_cvx[['netFlowCvx']]\n",
    "\n",
    "    # Messari\n",
    "    swap_in = df_swaps_messari[df_swaps_messari['tokenIn.symbol']==token]['amountIn'].resample(freq).sum()\n",
    "    swap_out = -1*df_swaps_messari[df_swaps_messari['tokenOut.symbol']==token]['amountOut'].resample(freq).sum()\n",
    "    flow_messari = pd.concat([swap_in, swap_out], axis=1).fillna(0)\n",
    "    flow_messari['netFlowMessari'] = flow_messari['amountIn'] + flow_messari['amountOut']\n",
    "    flow_messari = flow_messari[['netFlowMessari']]\n",
    "\n",
    "    flow = pd.concat([flow_cvx, flow_messari], axis=1).fillna(0)\n",
    "    flow['comparison'] = flow['netFlowCvx'] - flow['netFlowMessari']\n",
    "\n",
    "    axs[i].plot(flow.index, flow['comparison']/1e6, label='Comparison', color='black')\n",
    "\n",
    "    axs[i].set_ylabel('Swapped Amount (Millions)')\n",
    "    axs[i].set_title(f\"Curve {pool_name} {token} Swaps Subgraph Comparison\")\n",
    "    axs[i].tick_params(axis='x', rotation=45)\n",
    "\n",
    "    axs[i].legend()\n",
    "\n",
    "fig.tight_layout()"
   ]
  },
  {
   "attachments": {},
   "cell_type": "markdown",
   "metadata": {},
   "source": [
    "### Observations\n",
    "\n",
    "- UST wormhole pool is weird, the 3CRV LP token is included in swap data for both cvx and messari?\n",
    "- Amount in and out is too different for 3pool, that can't be right. What is going on in mid-May 2022? \n",
    "    - Probs because Messari is missing some swaps (given the count above). Are there patterns in missing swaps?\n",
    "    - 65 swaps have duplicated tx hashes on convex, none on messari. Why?"
   ]
  },
  {
   "cell_type": "code",
   "execution_count": 103,
   "metadata": {},
   "outputs": [],
   "source": [
    "sample_messari = df_swaps_messari[df_swaps_messari.index > '2022-05-09']\n",
    "sample_messari = sample_messari[sample_messari.index < '2022-05-15']\n",
    "\n",
    "sample_cvx = df_swaps_cvx[df_swaps_cvx.index > '2022-05-10']\n",
    "sample_cvx = sample_cvx[sample_cvx.index < '2022-05-15']"
   ]
  },
  {
   "cell_type": "code",
   "execution_count": 104,
   "metadata": {},
   "outputs": [
    {
     "data": {
      "text/html": [
       "<div>\n",
       "<style scoped>\n",
       "    .dataframe tbody tr th:only-of-type {\n",
       "        vertical-align: middle;\n",
       "    }\n",
       "\n",
       "    .dataframe tbody tr th {\n",
       "        vertical-align: top;\n",
       "    }\n",
       "\n",
       "    .dataframe thead th {\n",
       "        text-align: right;\n",
       "    }\n",
       "</style>\n",
       "<table border=\"1\" class=\"dataframe\">\n",
       "  <thead>\n",
       "    <tr style=\"text-align: right;\">\n",
       "      <th></th>\n",
       "      <th>tokenIn.symbol</th>\n",
       "      <th>amountIn</th>\n",
       "      <th>amountInUSD</th>\n",
       "      <th>tokenOut.symbol</th>\n",
       "      <th>amountOut</th>\n",
       "      <th>amountOutUSD</th>\n",
       "      <th>from</th>\n",
       "      <th>hash</th>\n",
       "    </tr>\n",
       "    <tr>\n",
       "      <th>timestamp</th>\n",
       "      <th></th>\n",
       "      <th></th>\n",
       "      <th></th>\n",
       "      <th></th>\n",
       "      <th></th>\n",
       "      <th></th>\n",
       "      <th></th>\n",
       "      <th></th>\n",
       "    </tr>\n",
       "  </thead>\n",
       "  <tbody>\n",
       "    <tr>\n",
       "      <th>2022-05-09 00:05:00</th>\n",
       "      <td>USDT</td>\n",
       "      <td>4002.56944</td>\n",
       "      <td>4002.56944</td>\n",
       "      <td>DAI</td>\n",
       "      <td>4000.97293</td>\n",
       "      <td>4000.97293</td>\n",
       "      <td>0x12e599006a5f19819cde6fabcebbd8586688c8ac</td>\n",
       "      <td>0x5d458545bfcdcf506113a2517fe71c301d2dad2e92ba...</td>\n",
       "    </tr>\n",
       "    <tr>\n",
       "      <th>2022-05-09 01:17:21</th>\n",
       "      <td>DAI</td>\n",
       "      <td>20000.00000</td>\n",
       "      <td>20000.00000</td>\n",
       "      <td>USDC</td>\n",
       "      <td>19993.74188</td>\n",
       "      <td>19993.74188</td>\n",
       "      <td>0x2789fd4408630121bbc3728ce351193423d5fa8c</td>\n",
       "      <td>0x10512bc0421b2bd2e4b06e4ad0e3496292857cf3042a...</td>\n",
       "    </tr>\n",
       "    <tr>\n",
       "      <th>2022-05-09 01:26:36</th>\n",
       "      <td>USDC</td>\n",
       "      <td>1000000.00000</td>\n",
       "      <td>1000000.00000</td>\n",
       "      <td>USDT</td>\n",
       "      <td>999812.38101</td>\n",
       "      <td>999812.38101</td>\n",
       "      <td>0x455d7eb74860d0937423b9184f9e8461aa354ebb</td>\n",
       "      <td>0x9aacf3b0a45cdbecdf3e6c081ff956d7aaaadd0ce808...</td>\n",
       "    </tr>\n",
       "    <tr>\n",
       "      <th>2022-05-09 03:29:37</th>\n",
       "      <td>USDC</td>\n",
       "      <td>4267.95596</td>\n",
       "      <td>4267.95596</td>\n",
       "      <td>USDT</td>\n",
       "      <td>4267.17960</td>\n",
       "      <td>4267.17960</td>\n",
       "      <td>0x80d4230c0a68fc59cb264329d3a717fcaa472a13</td>\n",
       "      <td>0x354956ad8fd94732d988fc8555b71c438f3b5dd0724a...</td>\n",
       "    </tr>\n",
       "    <tr>\n",
       "      <th>2022-05-09 03:28:23</th>\n",
       "      <td>USDC</td>\n",
       "      <td>158928.21170</td>\n",
       "      <td>158928.21170</td>\n",
       "      <td>DAI</td>\n",
       "      <td>158883.07351</td>\n",
       "      <td>158883.07351</td>\n",
       "      <td>0x00000000000a47b1298f18cf67de547bbe0d723f</td>\n",
       "      <td>0x76e8fd56c38a57433cf9fe53cedc20803ef3d8062499...</td>\n",
       "    </tr>\n",
       "  </tbody>\n",
       "</table>\n",
       "</div>"
      ],
      "text/plain": [
       "                    tokenIn.symbol       amountIn    amountInUSD   \n",
       "timestamp                                                          \n",
       "2022-05-09 00:05:00           USDT     4002.56944     4002.56944  \\\n",
       "2022-05-09 01:17:21            DAI    20000.00000    20000.00000   \n",
       "2022-05-09 01:26:36           USDC  1000000.00000  1000000.00000   \n",
       "2022-05-09 03:29:37           USDC     4267.95596     4267.95596   \n",
       "2022-05-09 03:28:23           USDC   158928.21170   158928.21170   \n",
       "\n",
       "                    tokenOut.symbol     amountOut  amountOutUSD   \n",
       "timestamp                                                         \n",
       "2022-05-09 00:05:00             DAI    4000.97293    4000.97293  \\\n",
       "2022-05-09 01:17:21            USDC   19993.74188   19993.74188   \n",
       "2022-05-09 01:26:36            USDT  999812.38101  999812.38101   \n",
       "2022-05-09 03:29:37            USDT    4267.17960    4267.17960   \n",
       "2022-05-09 03:28:23             DAI  158883.07351  158883.07351   \n",
       "\n",
       "                                                           from   \n",
       "timestamp                                                         \n",
       "2022-05-09 00:05:00  0x12e599006a5f19819cde6fabcebbd8586688c8ac  \\\n",
       "2022-05-09 01:17:21  0x2789fd4408630121bbc3728ce351193423d5fa8c   \n",
       "2022-05-09 01:26:36  0x455d7eb74860d0937423b9184f9e8461aa354ebb   \n",
       "2022-05-09 03:29:37  0x80d4230c0a68fc59cb264329d3a717fcaa472a13   \n",
       "2022-05-09 03:28:23  0x00000000000a47b1298f18cf67de547bbe0d723f   \n",
       "\n",
       "                                                                  hash  \n",
       "timestamp                                                               \n",
       "2022-05-09 00:05:00  0x5d458545bfcdcf506113a2517fe71c301d2dad2e92ba...  \n",
       "2022-05-09 01:17:21  0x10512bc0421b2bd2e4b06e4ad0e3496292857cf3042a...  \n",
       "2022-05-09 01:26:36  0x9aacf3b0a45cdbecdf3e6c081ff956d7aaaadd0ce808...  \n",
       "2022-05-09 03:29:37  0x354956ad8fd94732d988fc8555b71c438f3b5dd0724a...  \n",
       "2022-05-09 03:28:23  0x76e8fd56c38a57433cf9fe53cedc20803ef3d8062499...  "
      ]
     },
     "execution_count": 104,
     "metadata": {},
     "output_type": "execute_result"
    }
   ],
   "source": [
    "sample_messari.head()"
   ]
  },
  {
   "cell_type": "code",
   "execution_count": 105,
   "metadata": {},
   "outputs": [
    {
     "data": {
      "text/html": [
       "<div>\n",
       "<style scoped>\n",
       "    .dataframe tbody tr th:only-of-type {\n",
       "        vertical-align: middle;\n",
       "    }\n",
       "\n",
       "    .dataframe tbody tr th {\n",
       "        vertical-align: top;\n",
       "    }\n",
       "\n",
       "    .dataframe thead th {\n",
       "        text-align: right;\n",
       "    }\n",
       "</style>\n",
       "<table border=\"1\" class=\"dataframe\">\n",
       "  <thead>\n",
       "    <tr style=\"text-align: right;\">\n",
       "      <th></th>\n",
       "      <th>tokenIn.symbol</th>\n",
       "      <th>amountIn</th>\n",
       "      <th>amountInUSD</th>\n",
       "      <th>tokenOut.symbol</th>\n",
       "      <th>amountOut</th>\n",
       "      <th>amountOutUSD</th>\n",
       "      <th>from</th>\n",
       "      <th>hash</th>\n",
       "    </tr>\n",
       "    <tr>\n",
       "      <th>datetime</th>\n",
       "      <th></th>\n",
       "      <th></th>\n",
       "      <th></th>\n",
       "      <th></th>\n",
       "      <th></th>\n",
       "      <th></th>\n",
       "      <th></th>\n",
       "      <th></th>\n",
       "    </tr>\n",
       "  </thead>\n",
       "  <tbody>\n",
       "    <tr>\n",
       "      <th>2022-05-10 00:12:22</th>\n",
       "      <td>USDT</td>\n",
       "      <td>2.056806e+05</td>\n",
       "      <td>None</td>\n",
       "      <td>USDC</td>\n",
       "      <td>2.055159e+05</td>\n",
       "      <td>None</td>\n",
       "      <td>0x45716d9eddbc332df1d42b9f540fbebed671b20f</td>\n",
       "      <td>0xed3f00740d77a7f0f92ea8dfdb2d0719dae3f2f4c742...</td>\n",
       "    </tr>\n",
       "    <tr>\n",
       "      <th>2022-05-10 00:21:52</th>\n",
       "      <td>USDT</td>\n",
       "      <td>1.000000e+04</td>\n",
       "      <td>None</td>\n",
       "      <td>DAI</td>\n",
       "      <td>9.993677e+03</td>\n",
       "      <td>None</td>\n",
       "      <td>0x12e599006a5f19819cde6fabcebbd8586688c8ac</td>\n",
       "      <td>0x797c85dc09ca4c0b6ebb1bf7f36917dfcb3274daeb99...</td>\n",
       "    </tr>\n",
       "    <tr>\n",
       "      <th>2022-05-10 00:34:46</th>\n",
       "      <td>USDC</td>\n",
       "      <td>2.298352e+05</td>\n",
       "      <td>None</td>\n",
       "      <td>DAI</td>\n",
       "      <td>2.298064e+05</td>\n",
       "      <td>None</td>\n",
       "      <td>0x166a309efceedc82c501014130beadd0b3097475</td>\n",
       "      <td>0x26063dd3fa2fc70db6e5b58f813614ca51f1b31af4d2...</td>\n",
       "    </tr>\n",
       "    <tr>\n",
       "      <th>2022-05-10 00:34:46</th>\n",
       "      <td>DAI</td>\n",
       "      <td>1.594774e+06</td>\n",
       "      <td>None</td>\n",
       "      <td>USDT</td>\n",
       "      <td>1.594827e+06</td>\n",
       "      <td>None</td>\n",
       "      <td>0x04b35d8eb17729b2c4a4224d07727e2f71283b73</td>\n",
       "      <td>0xd9d1aa2c4c336d2f3b6c4b376c14da06acd24547b197...</td>\n",
       "    </tr>\n",
       "    <tr>\n",
       "      <th>2022-05-10 00:34:46</th>\n",
       "      <td>USDC</td>\n",
       "      <td>1.470294e+05</td>\n",
       "      <td>None</td>\n",
       "      <td>DAI</td>\n",
       "      <td>1.470111e+05</td>\n",
       "      <td>None</td>\n",
       "      <td>0x166a309efceedc82c501014130beadd0b3097475</td>\n",
       "      <td>0xea042a403c054a516ff822b2b60225fe170b82b990e8...</td>\n",
       "    </tr>\n",
       "  </tbody>\n",
       "</table>\n",
       "</div>"
      ],
      "text/plain": [
       "                    tokenIn.symbol      amountIn amountInUSD tokenOut.symbol   \n",
       "datetime                                                                       \n",
       "2022-05-10 00:12:22           USDT  2.056806e+05        None            USDC  \\\n",
       "2022-05-10 00:21:52           USDT  1.000000e+04        None             DAI   \n",
       "2022-05-10 00:34:46           USDC  2.298352e+05        None             DAI   \n",
       "2022-05-10 00:34:46            DAI  1.594774e+06        None            USDT   \n",
       "2022-05-10 00:34:46           USDC  1.470294e+05        None             DAI   \n",
       "\n",
       "                        amountOut amountOutUSD   \n",
       "datetime                                         \n",
       "2022-05-10 00:12:22  2.055159e+05         None  \\\n",
       "2022-05-10 00:21:52  9.993677e+03         None   \n",
       "2022-05-10 00:34:46  2.298064e+05         None   \n",
       "2022-05-10 00:34:46  1.594827e+06         None   \n",
       "2022-05-10 00:34:46  1.470111e+05         None   \n",
       "\n",
       "                                                           from   \n",
       "datetime                                                          \n",
       "2022-05-10 00:12:22  0x45716d9eddbc332df1d42b9f540fbebed671b20f  \\\n",
       "2022-05-10 00:21:52  0x12e599006a5f19819cde6fabcebbd8586688c8ac   \n",
       "2022-05-10 00:34:46  0x166a309efceedc82c501014130beadd0b3097475   \n",
       "2022-05-10 00:34:46  0x04b35d8eb17729b2c4a4224d07727e2f71283b73   \n",
       "2022-05-10 00:34:46  0x166a309efceedc82c501014130beadd0b3097475   \n",
       "\n",
       "                                                                  hash  \n",
       "datetime                                                                \n",
       "2022-05-10 00:12:22  0xed3f00740d77a7f0f92ea8dfdb2d0719dae3f2f4c742...  \n",
       "2022-05-10 00:21:52  0x797c85dc09ca4c0b6ebb1bf7f36917dfcb3274daeb99...  \n",
       "2022-05-10 00:34:46  0x26063dd3fa2fc70db6e5b58f813614ca51f1b31af4d2...  \n",
       "2022-05-10 00:34:46  0xd9d1aa2c4c336d2f3b6c4b376c14da06acd24547b197...  \n",
       "2022-05-10 00:34:46  0xea042a403c054a516ff822b2b60225fe170b82b990e8...  "
      ]
     },
     "execution_count": 105,
     "metadata": {},
     "output_type": "execute_result"
    }
   ],
   "source": [
    "sample_cvx.head()"
   ]
  },
  {
   "cell_type": "code",
   "execution_count": 110,
   "metadata": {},
   "outputs": [
    {
     "data": {
      "text/plain": [
       "'0xed3f00740d77a7f0f92ea8dfdb2d0719dae3f2f4c74246e22eac19e1bf483a7b'"
      ]
     },
     "execution_count": 110,
     "metadata": {},
     "output_type": "execute_result"
    }
   ],
   "source": [
    "sample_cvx.iloc[0]['hash']"
   ]
  },
  {
   "cell_type": "code",
   "execution_count": 111,
   "metadata": {},
   "outputs": [
    {
     "data": {
      "text/html": [
       "<div>\n",
       "<style scoped>\n",
       "    .dataframe tbody tr th:only-of-type {\n",
       "        vertical-align: middle;\n",
       "    }\n",
       "\n",
       "    .dataframe tbody tr th {\n",
       "        vertical-align: top;\n",
       "    }\n",
       "\n",
       "    .dataframe thead th {\n",
       "        text-align: right;\n",
       "    }\n",
       "</style>\n",
       "<table border=\"1\" class=\"dataframe\">\n",
       "  <thead>\n",
       "    <tr style=\"text-align: right;\">\n",
       "      <th></th>\n",
       "      <th>tokenIn.symbol</th>\n",
       "      <th>amountIn</th>\n",
       "      <th>amountInUSD</th>\n",
       "      <th>tokenOut.symbol</th>\n",
       "      <th>amountOut</th>\n",
       "      <th>amountOutUSD</th>\n",
       "      <th>from</th>\n",
       "      <th>hash</th>\n",
       "    </tr>\n",
       "    <tr>\n",
       "      <th>timestamp</th>\n",
       "      <th></th>\n",
       "      <th></th>\n",
       "      <th></th>\n",
       "      <th></th>\n",
       "      <th></th>\n",
       "      <th></th>\n",
       "      <th></th>\n",
       "      <th></th>\n",
       "    </tr>\n",
       "  </thead>\n",
       "  <tbody>\n",
       "  </tbody>\n",
       "</table>\n",
       "</div>"
      ],
      "text/plain": [
       "Empty DataFrame\n",
       "Columns: [tokenIn.symbol, amountIn, amountInUSD, tokenOut.symbol, amountOut, amountOutUSD, from, hash]\n",
       "Index: []"
      ]
     },
     "execution_count": 111,
     "metadata": {},
     "output_type": "execute_result"
    }
   ],
   "source": [
    "# NOTE: This swap was clearly lost somehow on Messari: https://etherscan.io/tx/0xed3f00740d77a7f0f92ea8dfdb2d0719dae3f2f4c74246e22eac19e1bf483a7b\n",
    "# Seems to be an MEV bot doing a bunch of swaps and transfers using Uniswap and Curve of USDC, WETH, USDT, and UST\n",
    "# Why would Messari's subgraph miss this? Happened on May 10th, 2022\n",
    "df_swaps_messari[df_swaps_messari['hash'] == '0xed3f00740d77a7f0f92ea8dfdb2d0719dae3f2f4c74246e22eac19e1bf483a7b']"
   ]
  },
  {
   "cell_type": "code",
   "execution_count": 118,
   "metadata": {},
   "outputs": [
    {
     "data": {
      "text/plain": [
       "(6365, 8)"
      ]
     },
     "execution_count": 118,
     "metadata": {},
     "output_type": "execute_result"
    }
   ],
   "source": [
    "df_swaps_cvx_trimmed = df_swaps_cvx[~df_swaps_cvx['hash'].isin(missing_in_messari)]\n",
    "df_swaps_cvx_trimmed.shape"
   ]
  },
  {
   "cell_type": "code",
   "execution_count": 119,
   "metadata": {},
   "outputs": [
    {
     "data": {
      "text/plain": [
       "(6300, 8)"
      ]
     },
     "execution_count": 119,
     "metadata": {},
     "output_type": "execute_result"
    }
   ],
   "source": [
    "df_swaps_messari.shape"
   ]
  },
  {
   "cell_type": "code",
   "execution_count": 132,
   "metadata": {},
   "outputs": [
    {
     "name": "stdout",
     "output_type": "stream",
     "text": [
      "0xc64eb8606d7b474635ee64bf1289c7d86547b9d451c782ee6bb727790d4ed265\n"
     ]
    },
    {
     "data": {
      "text/html": [
       "<div>\n",
       "<style scoped>\n",
       "    .dataframe tbody tr th:only-of-type {\n",
       "        vertical-align: middle;\n",
       "    }\n",
       "\n",
       "    .dataframe tbody tr th {\n",
       "        vertical-align: top;\n",
       "    }\n",
       "\n",
       "    .dataframe thead th {\n",
       "        text-align: right;\n",
       "    }\n",
       "</style>\n",
       "<table border=\"1\" class=\"dataframe\">\n",
       "  <thead>\n",
       "    <tr style=\"text-align: right;\">\n",
       "      <th></th>\n",
       "      <th>tokenIn.symbol</th>\n",
       "      <th>amountIn</th>\n",
       "      <th>amountInUSD</th>\n",
       "      <th>tokenOut.symbol</th>\n",
       "      <th>amountOut</th>\n",
       "      <th>amountOutUSD</th>\n",
       "      <th>from</th>\n",
       "      <th>hash</th>\n",
       "    </tr>\n",
       "    <tr>\n",
       "      <th>datetime</th>\n",
       "      <th></th>\n",
       "      <th></th>\n",
       "      <th></th>\n",
       "      <th></th>\n",
       "      <th></th>\n",
       "      <th></th>\n",
       "      <th></th>\n",
       "      <th></th>\n",
       "    </tr>\n",
       "  </thead>\n",
       "  <tbody>\n",
       "    <tr>\n",
       "      <th>2022-05-04 02:28:29</th>\n",
       "      <td>DAI</td>\n",
       "      <td>9363.01147</td>\n",
       "      <td>None</td>\n",
       "      <td>USDC</td>\n",
       "      <td>9359.92655</td>\n",
       "      <td>None</td>\n",
       "      <td>0x03e9e6f593b33d8e5362297ccd6955a035cd43a5</td>\n",
       "      <td>0xc64eb8606d7b474635ee64bf1289c7d86547b9d451c7...</td>\n",
       "    </tr>\n",
       "    <tr>\n",
       "      <th>2022-05-12 04:35:24</th>\n",
       "      <td>USDT</td>\n",
       "      <td>285000.00000</td>\n",
       "      <td>None</td>\n",
       "      <td>USDC</td>\n",
       "      <td>281757.01271</td>\n",
       "      <td>None</td>\n",
       "      <td>0xd12bcdfb9a39be79da3bdf02557efdcd5ca59e77</td>\n",
       "      <td>0x7a6e3029a5726e11ce757cbd7e8227fe3a3ac7516875...</td>\n",
       "    </tr>\n",
       "    <tr>\n",
       "      <th>2022-05-14 03:40:23</th>\n",
       "      <td>DAI</td>\n",
       "      <td>475389.94515</td>\n",
       "      <td>None</td>\n",
       "      <td>USDC</td>\n",
       "      <td>475332.97470</td>\n",
       "      <td>None</td>\n",
       "      <td>0xc118f2eb1291f9bc0c2a4c2d61b59f1785b047b5</td>\n",
       "      <td>0x74ce92086bcf4039cfcb8b09630f4aecd448ab63888d...</td>\n",
       "    </tr>\n",
       "    <tr>\n",
       "      <th>2022-05-14 04:23:20</th>\n",
       "      <td>USDC</td>\n",
       "      <td>63132.25000</td>\n",
       "      <td>None</td>\n",
       "      <td>DAI</td>\n",
       "      <td>63129.34904</td>\n",
       "      <td>None</td>\n",
       "      <td>0xd12bcdfb9a39be79da3bdf02557efdcd5ca59e77</td>\n",
       "      <td>0x3f7f92af22629a639f2076cdd695bde144984bfde623...</td>\n",
       "    </tr>\n",
       "    <tr>\n",
       "      <th>2022-05-15 10:07:49</th>\n",
       "      <td>USDC</td>\n",
       "      <td>658.02000</td>\n",
       "      <td>None</td>\n",
       "      <td>DAI</td>\n",
       "      <td>657.98642</td>\n",
       "      <td>None</td>\n",
       "      <td>0xd12bcdfb9a39be79da3bdf02557efdcd5ca59e77</td>\n",
       "      <td>0xcc2bfd2870e2f61d7085b30fddbffcd772100c9bb3fd...</td>\n",
       "    </tr>\n",
       "  </tbody>\n",
       "</table>\n",
       "</div>"
      ],
      "text/plain": [
       "                    tokenIn.symbol      amountIn amountInUSD tokenOut.symbol   \n",
       "datetime                                                                       \n",
       "2022-05-04 02:28:29            DAI    9363.01147        None            USDC  \\\n",
       "2022-05-12 04:35:24           USDT  285000.00000        None            USDC   \n",
       "2022-05-14 03:40:23            DAI  475389.94515        None            USDC   \n",
       "2022-05-14 04:23:20           USDC   63132.25000        None             DAI   \n",
       "2022-05-15 10:07:49           USDC     658.02000        None             DAI   \n",
       "\n",
       "                        amountOut amountOutUSD   \n",
       "datetime                                         \n",
       "2022-05-04 02:28:29    9359.92655         None  \\\n",
       "2022-05-12 04:35:24  281757.01271         None   \n",
       "2022-05-14 03:40:23  475332.97470         None   \n",
       "2022-05-14 04:23:20   63129.34904         None   \n",
       "2022-05-15 10:07:49     657.98642         None   \n",
       "\n",
       "                                                           from   \n",
       "datetime                                                          \n",
       "2022-05-04 02:28:29  0x03e9e6f593b33d8e5362297ccd6955a035cd43a5  \\\n",
       "2022-05-12 04:35:24  0xd12bcdfb9a39be79da3bdf02557efdcd5ca59e77   \n",
       "2022-05-14 03:40:23  0xc118f2eb1291f9bc0c2a4c2d61b59f1785b047b5   \n",
       "2022-05-14 04:23:20  0xd12bcdfb9a39be79da3bdf02557efdcd5ca59e77   \n",
       "2022-05-15 10:07:49  0xd12bcdfb9a39be79da3bdf02557efdcd5ca59e77   \n",
       "\n",
       "                                                                  hash  \n",
       "datetime                                                                \n",
       "2022-05-04 02:28:29  0xc64eb8606d7b474635ee64bf1289c7d86547b9d451c7...  \n",
       "2022-05-12 04:35:24  0x7a6e3029a5726e11ce757cbd7e8227fe3a3ac7516875...  \n",
       "2022-05-14 03:40:23  0x74ce92086bcf4039cfcb8b09630f4aecd448ab63888d...  \n",
       "2022-05-14 04:23:20  0x3f7f92af22629a639f2076cdd695bde144984bfde623...  \n",
       "2022-05-15 10:07:49  0xcc2bfd2870e2f61d7085b30fddbffcd772100c9bb3fd...  "
      ]
     },
     "execution_count": 132,
     "metadata": {},
     "output_type": "execute_result"
    }
   ],
   "source": [
    "duplicates = df_swaps_cvx_trimmed[df_swaps_cvx_trimmed['hash'].duplicated()]\n",
    "print(duplicates['hash'][0])\n",
    "duplicates.head()"
   ]
  },
  {
   "cell_type": "code",
   "execution_count": 137,
   "metadata": {},
   "outputs": [
    {
     "data": {
      "text/html": [
       "<div>\n",
       "<style scoped>\n",
       "    .dataframe tbody tr th:only-of-type {\n",
       "        vertical-align: middle;\n",
       "    }\n",
       "\n",
       "    .dataframe tbody tr th {\n",
       "        vertical-align: top;\n",
       "    }\n",
       "\n",
       "    .dataframe thead th {\n",
       "        text-align: right;\n",
       "    }\n",
       "</style>\n",
       "<table border=\"1\" class=\"dataframe\">\n",
       "  <thead>\n",
       "    <tr style=\"text-align: right;\">\n",
       "      <th></th>\n",
       "      <th>tokenIn.symbol</th>\n",
       "      <th>amountIn</th>\n",
       "      <th>amountInUSD</th>\n",
       "      <th>tokenOut.symbol</th>\n",
       "      <th>amountOut</th>\n",
       "      <th>amountOutUSD</th>\n",
       "      <th>from</th>\n",
       "      <th>hash</th>\n",
       "    </tr>\n",
       "    <tr>\n",
       "      <th>datetime</th>\n",
       "      <th></th>\n",
       "      <th></th>\n",
       "      <th></th>\n",
       "      <th></th>\n",
       "      <th></th>\n",
       "      <th></th>\n",
       "      <th></th>\n",
       "      <th></th>\n",
       "    </tr>\n",
       "  </thead>\n",
       "  <tbody>\n",
       "    <tr>\n",
       "      <th>2022-05-04 02:28:29</th>\n",
       "      <td>DAI</td>\n",
       "      <td>9363.01147</td>\n",
       "      <td>None</td>\n",
       "      <td>USDT</td>\n",
       "      <td>9359.50005</td>\n",
       "      <td>None</td>\n",
       "      <td>0x03e9e6f593b33d8e5362297ccd6955a035cd43a5</td>\n",
       "      <td>0xc64eb8606d7b474635ee64bf1289c7d86547b9d451c7...</td>\n",
       "    </tr>\n",
       "    <tr>\n",
       "      <th>2022-05-04 02:28:29</th>\n",
       "      <td>DAI</td>\n",
       "      <td>9363.01147</td>\n",
       "      <td>None</td>\n",
       "      <td>USDC</td>\n",
       "      <td>9359.92655</td>\n",
       "      <td>None</td>\n",
       "      <td>0x03e9e6f593b33d8e5362297ccd6955a035cd43a5</td>\n",
       "      <td>0xc64eb8606d7b474635ee64bf1289c7d86547b9d451c7...</td>\n",
       "    </tr>\n",
       "  </tbody>\n",
       "</table>\n",
       "</div>"
      ],
      "text/plain": [
       "                    tokenIn.symbol    amountIn amountInUSD tokenOut.symbol   \n",
       "datetime                                                                     \n",
       "2022-05-04 02:28:29            DAI  9363.01147        None            USDT  \\\n",
       "2022-05-04 02:28:29            DAI  9363.01147        None            USDC   \n",
       "\n",
       "                      amountOut amountOutUSD   \n",
       "datetime                                       \n",
       "2022-05-04 02:28:29  9359.50005         None  \\\n",
       "2022-05-04 02:28:29  9359.92655         None   \n",
       "\n",
       "                                                           from   \n",
       "datetime                                                          \n",
       "2022-05-04 02:28:29  0x03e9e6f593b33d8e5362297ccd6955a035cd43a5  \\\n",
       "2022-05-04 02:28:29  0x03e9e6f593b33d8e5362297ccd6955a035cd43a5   \n",
       "\n",
       "                                                                  hash  \n",
       "datetime                                                                \n",
       "2022-05-04 02:28:29  0xc64eb8606d7b474635ee64bf1289c7d86547b9d451c7...  \n",
       "2022-05-04 02:28:29  0xc64eb8606d7b474635ee64bf1289c7d86547b9d451c7...  "
      ]
     },
     "execution_count": 137,
     "metadata": {},
     "output_type": "execute_result"
    }
   ],
   "source": [
    "# TODO: Make sure that the duplicate isn't an issue with my code\n",
    "# if the subgraph actually has duplicates, that's great, flag to Benny. We found something useful :)\n",
    "df_swaps_cvx[df_swaps_cvx['hash'] == '0xc64eb8606d7b474635ee64bf1289c7d86547b9d451c782ee6bb727790d4ed265']"
   ]
  },
  {
   "cell_type": "code",
   "execution_count": 136,
   "metadata": {},
   "outputs": [
    {
     "data": {
      "text/html": [
       "<div>\n",
       "<style scoped>\n",
       "    .dataframe tbody tr th:only-of-type {\n",
       "        vertical-align: middle;\n",
       "    }\n",
       "\n",
       "    .dataframe tbody tr th {\n",
       "        vertical-align: top;\n",
       "    }\n",
       "\n",
       "    .dataframe thead th {\n",
       "        text-align: right;\n",
       "    }\n",
       "</style>\n",
       "<table border=\"1\" class=\"dataframe\">\n",
       "  <thead>\n",
       "    <tr style=\"text-align: right;\">\n",
       "      <th></th>\n",
       "      <th>tokenIn.symbol</th>\n",
       "      <th>amountIn</th>\n",
       "      <th>amountInUSD</th>\n",
       "      <th>tokenOut.symbol</th>\n",
       "      <th>amountOut</th>\n",
       "      <th>amountOutUSD</th>\n",
       "      <th>from</th>\n",
       "      <th>hash</th>\n",
       "    </tr>\n",
       "    <tr>\n",
       "      <th>timestamp</th>\n",
       "      <th></th>\n",
       "      <th></th>\n",
       "      <th></th>\n",
       "      <th></th>\n",
       "      <th></th>\n",
       "      <th></th>\n",
       "      <th></th>\n",
       "      <th></th>\n",
       "    </tr>\n",
       "  </thead>\n",
       "  <tbody>\n",
       "    <tr>\n",
       "      <th>2022-05-04 02:28:29</th>\n",
       "      <td>DAI</td>\n",
       "      <td>9363.01147</td>\n",
       "      <td>9363.01147</td>\n",
       "      <td>USDC</td>\n",
       "      <td>9359.92655</td>\n",
       "      <td>9359.92655</td>\n",
       "      <td>0x03e9e6f593b33d8e5362297ccd6955a035cd43a5</td>\n",
       "      <td>0xc64eb8606d7b474635ee64bf1289c7d86547b9d451c7...</td>\n",
       "    </tr>\n",
       "  </tbody>\n",
       "</table>\n",
       "</div>"
      ],
      "text/plain": [
       "                    tokenIn.symbol    amountIn  amountInUSD tokenOut.symbol   \n",
       "timestamp                                                                     \n",
       "2022-05-04 02:28:29            DAI  9363.01147   9363.01147            USDC  \\\n",
       "\n",
       "                      amountOut  amountOutUSD   \n",
       "timestamp                                       \n",
       "2022-05-04 02:28:29  9359.92655    9359.92655  \\\n",
       "\n",
       "                                                           from   \n",
       "timestamp                                                         \n",
       "2022-05-04 02:28:29  0x03e9e6f593b33d8e5362297ccd6955a035cd43a5  \\\n",
       "\n",
       "                                                                  hash  \n",
       "timestamp                                                               \n",
       "2022-05-04 02:28:29  0xc64eb8606d7b474635ee64bf1289c7d86547b9d451c7...  "
      ]
     },
     "execution_count": 136,
     "metadata": {},
     "output_type": "execute_result"
    }
   ],
   "source": [
    "df_swaps_messari[df_swaps_messari['hash'] == '0xc64eb8606d7b474635ee64bf1289c7d86547b9d451c782ee6bb727790d4ed265']"
   ]
  },
  {
   "cell_type": "code",
   "execution_count": null,
   "metadata": {},
   "outputs": [],
   "source": []
  }
 ],
 "metadata": {
  "kernelspec": {
   "display_name": "Python 3",
   "language": "python",
   "name": "python3"
  },
  "language_info": {
   "codemirror_mode": {
    "name": "ipython",
    "version": 3
   },
   "file_extension": ".py",
   "mimetype": "text/x-python",
   "name": "python",
   "nbconvert_exporter": "python",
   "pygments_lexer": "ipython3",
   "version": "3.11.3"
  },
  "orig_nbformat": 4
 },
 "nbformat": 4,
 "nbformat_minor": 2
}
