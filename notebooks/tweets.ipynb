{
 "cells": [
  {
   "cell_type": "code",
   "execution_count": 2,
   "metadata": {},
   "outputs": [
    {
     "data": {
      "text/plain": [
       "True"
      ]
     },
     "execution_count": 2,
     "metadata": {},
     "output_type": "execute_result"
    }
   ],
   "source": [
    "import os\n",
    "from dotenv import load_dotenv\n",
    "import json\n",
    "import tweepy\n",
    "import requests\n",
    "from requests_oauthlib import OAuth1\n",
    "load_dotenv()"
   ]
  },
  {
   "cell_type": "code",
   "execution_count": 3,
   "metadata": {},
   "outputs": [],
   "source": [
    "TWITTER_API_KEY = os.getenv('TWITTER_API_KEY')\n",
    "TWITTER_API_SECRET = os.getenv('TWITTER_API_SECRET')\n",
    "TWITTER_API_BEARER_TOKEN = os.getenv('TWITTER_API_BEARER_TOKEN')\n",
    "TWITTER_API_ACCESS_TOKEN = os.getenv('TWITTER_API_ACCESS_TOKEN')\n",
    "TWITTER_API_ACCESS_TOKEN_SECRET = os.getenv('TWITTER_API_ACCESS_TOKEN_SECRET')"
   ]
  },
  {
   "cell_type": "code",
   "execution_count": 4,
   "metadata": {},
   "outputs": [],
   "source": [
    "client = tweepy.Client(bearer_token=TWITTER_API_BEARER_TOKEN, \n",
    "                        consumer_key=TWITTER_API_KEY, \n",
    "                        consumer_secret=TWITTER_API_SECRET, \n",
    "                        access_token=TWITTER_API_ACCESS_TOKEN, \n",
    "                        access_token_secret=TWITTER_API_ACCESS_TOKEN_SECRET, \n",
    "                        wait_on_rate_limit=True\n",
    ")\n",
    "text = f'Testing Twitter API'\n",
    "response = client.create_tweet(text=text)"
   ]
  },
  {
   "cell_type": "code",
   "execution_count": 7,
   "metadata": {},
   "outputs": [
    {
     "ename": "Exception",
     "evalue": "Request returned an error: 404, {\"errors\":[{\"message\":\"Sorry, that page does not exist\",\"code\":34}]}",
     "output_type": "error",
     "traceback": [
      "\u001b[0;31m---------------------------------------------------------------------------\u001b[0m",
      "\u001b[0;31mException\u001b[0m                                 Traceback (most recent call last)",
      "Cell \u001b[0;32mIn[7], line 26\u001b[0m\n\u001b[1;32m     24\u001b[0m \u001b[39m# Print the response\u001b[39;00m\n\u001b[1;32m     25\u001b[0m \u001b[39mif\u001b[39;00m response\u001b[39m.\u001b[39mstatus_code \u001b[39m!=\u001b[39m \u001b[39m200\u001b[39m:\n\u001b[0;32m---> 26\u001b[0m     \u001b[39mraise\u001b[39;00m \u001b[39mException\u001b[39;00m(\u001b[39mf\u001b[39m\u001b[39m\"\u001b[39m\u001b[39mRequest returned an error: \u001b[39m\u001b[39m{\u001b[39;00mresponse\u001b[39m.\u001b[39mstatus_code\u001b[39m}\u001b[39;00m\u001b[39m, \u001b[39m\u001b[39m{\u001b[39;00mresponse\u001b[39m.\u001b[39mtext\u001b[39m}\u001b[39;00m\u001b[39m\"\u001b[39m)\n\u001b[1;32m     27\u001b[0m \u001b[39melse\u001b[39;00m:\n\u001b[1;32m     28\u001b[0m     \u001b[39mprint\u001b[39m(response\u001b[39m.\u001b[39mjson())\n",
      "\u001b[0;31mException\u001b[0m: Request returned an error: 404, {\"errors\":[{\"message\":\"Sorry, that page does not exist\",\"code\":34}]}"
     ]
    }
   ],
   "source": [
    "from requests_oauthlib import OAuth1Session\n",
    "\n",
    "# The endpoint URL for the Twitter API v2\n",
    "endpoint_url = \"https://api.twitter.com/2/tweets\"\n",
    "\n",
    "# Create an OAuth1Session instance with your Twitter credentials\n",
    "twitter = OAuth1Session(TWITTER_API_KEY,\n",
    "                        client_secret=TWITTER_API_SECRET,\n",
    "                        resource_owner_key=TWITTER_API_ACCESS_TOKEN,\n",
    "                        resource_owner_secret=TWITTER_API_ACCESS_TOKEN_SECRET)\n",
    "\n",
    "# The data for your tweet\n",
    "payload = {\n",
    "    \"text\": \"Testing Twitter API v2\"\n",
    "}\n",
    "\n",
    "headers = {\n",
    "    \"Content-Type\": \"application/json\"\n",
    "}\n",
    "\n",
    "# Make the POST request to the Twitter API\n",
    "response = twitter.post(endpoint_url, data=json.dumps(payload), headers=headers)\n",
    "\n",
    "# Print the response\n",
    "if response.status_code != 200:\n",
    "    raise Exception(f\"Request returned an error: {response.status_code}, {response.text}\")\n",
    "else:\n",
    "    print(response.json())"
   ]
  },
  {
   "cell_type": "code",
   "execution_count": 1,
   "metadata": {},
   "outputs": [
    {
     "ename": "NameError",
     "evalue": "name 'TWITTER_API_KEY' is not defined",
     "output_type": "error",
     "traceback": [
      "\u001b[0;31m---------------------------------------------------------------------------\u001b[0m",
      "\u001b[0;31mNameError\u001b[0m                                 Traceback (most recent call last)",
      "Cell \u001b[0;32mIn[1], line 9\u001b[0m\n\u001b[1;32m      3\u001b[0m \u001b[39mimport\u001b[39;00m \u001b[39mjson\u001b[39;00m\n\u001b[1;32m      5\u001b[0m \u001b[39m# In your terminal please set your environment variables by running the following lines of code.\u001b[39;00m\n\u001b[1;32m      6\u001b[0m \u001b[39m# export 'CONSUMER_KEY'='<your_consumer_key>'\u001b[39;00m\n\u001b[1;32m      7\u001b[0m \u001b[39m# export 'CONSUMER_SECRET'='<your_consumer_secret>'\u001b[39;00m\n\u001b[0;32m----> 9\u001b[0m consumer_key \u001b[39m=\u001b[39m TWITTER_API_KEY\n\u001b[1;32m     10\u001b[0m consumer_secret \u001b[39m=\u001b[39m TWITTER_API_SECRET\n\u001b[1;32m     12\u001b[0m \u001b[39m# Be sure to add replace the text of the with the text you wish to Tweet. You can also add parameters to post polls, quote Tweets, Tweet with reply settings, and Tweet to Super Followers in addition to other features.\u001b[39;00m\n",
      "\u001b[0;31mNameError\u001b[0m: name 'TWITTER_API_KEY' is not defined"
     ]
    }
   ],
   "source": [
    "from requests_oauthlib import OAuth1Session\n",
    "import os\n",
    "import json\n",
    "\n",
    "# In your terminal please set your environment variables by running the following lines of code.\n",
    "# export 'CONSUMER_KEY'='<your_consumer_key>'\n",
    "# export 'CONSUMER_SECRET'='<your_consumer_secret>'\n",
    "\n",
    "consumer_key = TWITTER_API_KEY\n",
    "consumer_secret = TWITTER_API_SECRET\n",
    "\n",
    "# Be sure to add replace the text of the with the text you wish to Tweet. You can also add parameters to post polls, quote Tweets, Tweet with reply settings, and Tweet to Super Followers in addition to other features.\n",
    "payload = {\"text\": \"Testing Twitter v2 API\"}\n",
    "\n",
    "# Get request token\n",
    "request_token_url = \"https://api.twitter.com/oauth/request_token?oauth_callback=oob&x_auth_access_type=write\"\n",
    "oauth = OAuth1Session(consumer_key, client_secret=consumer_secret)\n",
    "\n",
    "try:\n",
    "    fetch_response = oauth.fetch_request_token(request_token_url)\n",
    "except ValueError:\n",
    "    print(\n",
    "        \"There may have been an issue with the consumer_key or consumer_secret you entered.\"\n",
    "    )\n",
    "\n",
    "resource_owner_key = fetch_response.get(\"oauth_token\")\n",
    "resource_owner_secret = fetch_response.get(\"oauth_token_secret\")\n",
    "print(\"Got OAuth token: %s\" % resource_owner_key)\n",
    "\n",
    "# Get authorization\n",
    "base_authorization_url = \"https://api.twitter.com/oauth/authorize\"\n",
    "authorization_url = oauth.authorization_url(base_authorization_url)\n",
    "print(\"Please go here and authorize: %s\" % authorization_url)\n",
    "verifier = input(\"Paste the PIN here: \")\n",
    "\n",
    "# Get the access token\n",
    "access_token_url = \"https://api.twitter.com/oauth/access_token\"\n",
    "oauth = OAuth1Session(\n",
    "    consumer_key,\n",
    "    client_secret=consumer_secret,\n",
    "    resource_owner_key=resource_owner_key,\n",
    "    resource_owner_secret=resource_owner_secret,\n",
    "    verifier=verifier,\n",
    ")\n",
    "oauth_tokens = oauth.fetch_access_token(access_token_url)\n",
    "\n",
    "access_token = oauth_tokens[\"oauth_token\"]\n",
    "access_token_secret = oauth_tokens[\"oauth_token_secret\"]\n",
    "\n",
    "# Make the request\n",
    "oauth = OAuth1Session(\n",
    "    consumer_key,\n",
    "    client_secret=consumer_secret,\n",
    "    resource_owner_key=access_token,\n",
    "    resource_owner_secret=access_token_secret,\n",
    ")\n",
    "\n",
    "# Making the request\n",
    "response = oauth.post(\n",
    "    \"https://api.twitter.com/2/tweets\",\n",
    "    json=payload,\n",
    ")\n",
    "\n",
    "if response.status_code != 201:\n",
    "    raise Exception(\n",
    "        \"Request returned an error: {} {}\".format(response.status_code, response.text)\n",
    "    )\n",
    "\n",
    "print(\"Response code: {}\".format(response.status_code))\n",
    "\n",
    "# Saving the response as JSON\n",
    "json_response = response.json()\n",
    "print(json.dumps(json_response, indent=4, sort_keys=True))"
   ]
  },
  {
   "cell_type": "code",
   "execution_count": null,
   "metadata": {},
   "outputs": [],
   "source": []
  }
 ],
 "metadata": {
  "kernelspec": {
   "display_name": "venv",
   "language": "python",
   "name": "python3"
  },
  "language_info": {
   "codemirror_mode": {
    "name": "ipython",
    "version": 3
   },
   "file_extension": ".py",
   "mimetype": "text/x-python",
   "name": "python",
   "nbconvert_exporter": "python",
   "pygments_lexer": "ipython3",
   "version": "3.10.6"
  },
  "orig_nbformat": 4
 },
 "nbformat": 4,
 "nbformat_minor": 2
}
