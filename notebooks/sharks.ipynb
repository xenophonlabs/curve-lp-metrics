{
 "cells": [
  {
   "cell_type": "code",
   "execution_count": 1,
   "metadata": {},
   "outputs": [
    {
     "name": "stdout",
     "output_type": "stream",
     "text": [
      "Adding /root/curve-lp-metrics to sys.path\n"
     ]
    }
   ],
   "source": [
    "%load_ext autoreload\n",
    "%autoreload 2\n",
    "\n",
    "import ast\n",
    "import os\n",
    "import sys\n",
    "import requests as req\n",
    "import json\n",
    "import multiprocessing as mp\n",
    "\n",
    "\n",
    "from datetime import datetime, timedelta\n",
    "\n",
    "import pandas as pd\n",
    "import numpy as np\n",
    "import matplotlib.pyplot as plt\n",
    "from sklearn.preprocessing import MinMaxScaler, StandardScaler\n",
    "\n",
    "new_path = os.getcwd().replace('/notebooks', '')\n",
    "print(f'Adding {new_path} to sys.path')\n",
    "\n",
    "if new_path not in sys.path:\n",
    "    sys.path.append(new_path)\n",
    "\n",
    "plt.rcParams[\"font.family\"] = \"serif\"\n",
    "plt.rcParams.update({'font.size': 10})\n",
    "\n",
    "# Local imports\n",
    "from curvemetrics.src.classes.datahandler import DataHandler\n",
    "from curvemetrics.src.classes.datafetcher import DataFetcher\n",
    "from curvemetrics.src.classes.metricsprocessor import MetricsProcessor\n",
    "from curvemetrics.src.plotting.plot import bocd_plot_comp\n",
    "from curvemetrics.src.classes.model import BOCD"
   ]
  },
  {
   "cell_type": "code",
   "execution_count": 2,
   "metadata": {},
   "outputs": [],
   "source": [
    "scaler = StandardScaler()\n",
    "datahandler = DataHandler()\n",
    "token_metadata = datahandler.get_token_metadata()\n",
    "pool_metadata = datahandler.get_pool_metadata()\n",
    "metricsprocessor = MetricsProcessor(pool_metadata, token_metadata)"
   ]
  },
  {
   "cell_type": "code",
   "execution_count": 22,
   "metadata": {},
   "outputs": [],
   "source": [
    "pool = \"0xceaf7747579696a2f0bb206a14210e3c9e6fb269\" # UST pool\n",
    "start_ts = datetime.timestamp(datetime(2022, 5, 1))\n",
    "end_ts = datetime.timestamp(datetime(2022, 5, 20))\n",
    "\n",
    "swaps_data = datahandler.get_swaps_data(pool, start_ts, end_ts)\n",
    "\n",
    "tokens = set(swaps_data['tokenBought']).union(set(swaps_data['tokenSold']))\n",
    "ohlcvs = {}\n",
    "for token in tokens:\n",
    "    ohlcvs[token] = datahandler.get_ohlcv_data(token, start_ts, end_ts)"
   ]
  },
  {
   "attachments": {},
   "cell_type": "markdown",
   "metadata": {},
   "source": [
    "# Aggregate LP Markouts"
   ]
  },
  {
   "cell_type": "code",
   "execution_count": 4,
   "metadata": {},
   "outputs": [
    {
     "data": {
      "text/plain": [
       "<Axes: xlabel='timestamp'>"
      ]
     },
     "execution_count": 4,
     "metadata": {},
     "output_type": "execute_result"
    },
    {
     "data": {
      "image/png": "[encoded data removed]",
      "text/plain": [
       "<Figure size 640x480 with 1 Axes>"
      ]
     },
     "metadata": {},
     "output_type": "display_data"
    }
   ],
   "source": [
    "FREQ = '1h'\n",
    "NORMALIZE = False\n",
    "STANDARDIZE = True\n",
    "\n",
    "markouts_agg = datahandler.get_pool_X('300.Markout', pool, start_ts, end_ts, FREQ, normalize=NORMALIZE, standardize=STANDARDIZE)\n",
    "markouts_agg.plot()"
   ]
  },
  {
   "attachments": {},
   "cell_type": "markdown",
   "metadata": {},
   "source": [
    "# Individual Taker Markouts\n",
    "\n",
    "- Input: Period\n",
    "- Read current takers table\n",
    "- For each pool:\n",
    "    - Compute markouts\n",
    "    - Add markouts to takers table\n",
    "- Warning: don't double count any swaps"
   ]
  },
  {
   "cell_type": "code",
   "execution_count": 46,
   "metadata": {},
   "outputs": [
    {
     "name": "stdout",
     "output_type": "stream",
     "text": [
      "931 sharks of 9303 takers.\n"
     ]
    },
    {
     "data": {
      "text/html": [
       "<div>\n",
       "<style scoped>\n",
       "    .dataframe tbody tr th:only-of-type {\n",
       "        vertical-align: middle;\n",
       "    }\n",
       "\n",
       "    .dataframe tbody tr th {\n",
       "        vertical-align: top;\n",
       "    }\n",
       "\n",
       "    .dataframe thead th {\n",
       "        text-align: right;\n",
       "    }\n",
       "</style>\n",
       "<table border=\"1\" class=\"dataframe\">\n",
       "  <thead>\n",
       "    <tr style=\"text-align: right;\">\n",
       "      <th></th>\n",
       "      <th>address</th>\n",
       "      <th>amountBought</th>\n",
       "      <th>amountSold</th>\n",
       "      <th>cumulativeMarkout</th>\n",
       "      <th>meanMarkout</th>\n",
       "      <th>count</th>\n",
       "      <th>windowSize</th>\n",
       "    </tr>\n",
       "  </thead>\n",
       "  <tbody>\n",
       "    <tr>\n",
       "      <th>2</th>\n",
       "      <td>0x0000000000036414940324055c43e75f56b7d016</td>\n",
       "      <td>6.791887e+06</td>\n",
       "      <td>6.680705e+06</td>\n",
       "      <td>3.811329e+04</td>\n",
       "      <td>154.304805</td>\n",
       "      <td>247</td>\n",
       "      <td>86400</td>\n",
       "    </tr>\n",
       "    <tr>\n",
       "      <th>3</th>\n",
       "      <td>0x00000000000747d525e898424e8774f7eb317d00</td>\n",
       "      <td>8.151741e+08</td>\n",
       "      <td>8.149493e+08</td>\n",
       "      <td>2.489743e+05</td>\n",
       "      <td>233.559401</td>\n",
       "      <td>1066</td>\n",
       "      <td>86400</td>\n",
       "    </tr>\n",
       "    <tr>\n",
       "      <th>5</th>\n",
       "      <td>0x00000000000e1d0dabf7b7c7b68866fc940d0db8</td>\n",
       "      <td>5.445545e+08</td>\n",
       "      <td>5.445309e+08</td>\n",
       "      <td>2.005075e+05</td>\n",
       "      <td>1927.956668</td>\n",
       "      <td>104</td>\n",
       "      <td>86400</td>\n",
       "    </tr>\n",
       "    <tr>\n",
       "      <th>6</th>\n",
       "      <td>0x000000000035b5e5ad9019092c665357240f594e</td>\n",
       "      <td>1.103956e+09</td>\n",
       "      <td>1.102305e+09</td>\n",
       "      <td>1.624207e+06</td>\n",
       "      <td>1561.737339</td>\n",
       "      <td>1040</td>\n",
       "      <td>86400</td>\n",
       "    </tr>\n",
       "    <tr>\n",
       "      <th>7</th>\n",
       "      <td>0x00000000008c4fb1c916e0c88fd4cc402d935e7d</td>\n",
       "      <td>3.017558e+10</td>\n",
       "      <td>3.016596e+10</td>\n",
       "      <td>9.568739e+06</td>\n",
       "      <td>203.668191</td>\n",
       "      <td>46982</td>\n",
       "      <td>86400</td>\n",
       "    </tr>\n",
       "  </tbody>\n",
       "</table>\n",
       "</div>"
      ],
      "text/plain": [
       "                                      address  amountBought    amountSold   \n",
       "2  0x0000000000036414940324055c43e75f56b7d016  6.791887e+06  6.680705e+06  \\\n",
       "3  0x00000000000747d525e898424e8774f7eb317d00  8.151741e+08  8.149493e+08   \n",
       "5  0x00000000000e1d0dabf7b7c7b68866fc940d0db8  5.445545e+08  5.445309e+08   \n",
       "6  0x000000000035b5e5ad9019092c665357240f594e  1.103956e+09  1.102305e+09   \n",
       "7  0x00000000008c4fb1c916e0c88fd4cc402d935e7d  3.017558e+10  3.016596e+10   \n",
       "\n",
       "   cumulativeMarkout  meanMarkout  count  windowSize  \n",
       "2       3.811329e+04   154.304805    247       86400  \n",
       "3       2.489743e+05   233.559401   1066       86400  \n",
       "5       2.005075e+05  1927.956668    104       86400  \n",
       "6       1.624207e+06  1561.737339   1040       86400  \n",
       "7       9.568739e+06   203.668191  46982       86400  "
      ]
     },
     "execution_count": 46,
     "metadata": {},
     "output_type": "execute_result"
    }
   ],
   "source": [
    "takers = pd.read_csv('../takers.csv')\n",
    "sharks = takers[takers['cumulativeMarkout'] > takers['cumulativeMarkout'].quantile(0.9)]\n",
    "print(f'{len(sharks)} sharks of {len(takers)} takers.')\n",
    "sharks.head()"
   ]
  },
  {
   "cell_type": "code",
   "execution_count": 6,
   "metadata": {},
   "outputs": [],
   "source": [
    "takers.rename({'address':'buyer'}, axis=1, inplace=True)\n",
    "takers.set_index('buyer', inplace=True)"
   ]
  },
  {
   "cell_type": "code",
   "execution_count": 42,
   "metadata": {},
   "outputs": [],
   "source": [
    "sharkflow = {}\n",
    "for token in tokens:\n",
    "    flow = metricsprocessor.sharkflow(swaps_data, takers, token, token_metadata[token]['symbol'], top=0.9)\n",
    "    # if len(flow) == 0:\n",
    "    #     continue\n",
    "    # flow = flow.resample(FREQ).sum()\n",
    "    # flow = pd.Series(scaler.fit_transform(flow.values.reshape(-1, 1)).flatten(), index=flow.index)\n",
    "    sharkflow[token] = flow"
   ]
  },
  {
   "cell_type": "code",
   "execution_count": 43,
   "metadata": {},
   "outputs": [
    {
     "data": {
      "text/plain": [
       "timestamp\n",
       "2022-05-01 04:45:00   -236844.524913\n",
       "2022-05-01 04:46:00         0.000000\n",
       "2022-05-01 04:47:00         0.000000\n",
       "2022-05-01 04:48:00         0.000000\n",
       "2022-05-01 04:49:00         0.000000\n",
       "                           ...      \n",
       "2022-05-19 23:49:00         0.000000\n",
       "2022-05-19 23:50:00         0.000000\n",
       "2022-05-19 23:51:00     79458.977971\n",
       "2022-05-19 23:52:00         0.000000\n",
       "2022-05-19 23:53:00    -79458.977900\n",
       "Freq: T, Name: UST.sharkflow, Length: 27069, dtype: float64"
      ]
     },
     "execution_count": 43,
     "metadata": {},
     "output_type": "execute_result"
    }
   ],
   "source": [
    "list(sharkflow.values())[0]"
   ]
  },
  {
   "cell_type": "code",
   "execution_count": 40,
   "metadata": {},
   "outputs": [
    {
     "data": {
      "text/plain": [
       "<matplotlib.legend.Legend at 0x7fad0d2fb640>"
      ]
     },
     "execution_count": 40,
     "metadata": {},
     "output_type": "execute_result"
    },
    {
     "data": {
      "image/png": "[encoded data removed]",
      "text/plain": [
       "<Figure size 640x480 with 1 Axes>"
      ]
     },
     "metadata": {},
     "output_type": "display_data"
    }
   ],
   "source": [
    "for k, v in sharkflow.items():\n",
    "    if len(v):\n",
    "        v.plot(label=token_metadata[k]['symbol'], linewidth=0.5)\n",
    "plt.legend()"
   ]
  },
  {
   "cell_type": "code",
   "execution_count": 169,
   "metadata": {},
   "outputs": [
    {
     "data": {
      "text/plain": [
       "1672531200.0"
      ]
     },
     "execution_count": 169,
     "metadata": {},
     "output_type": "execute_result"
    }
   ],
   "source": [
    "start_ts"
   ]
  },
  {
   "cell_type": "code",
   "execution_count": 161,
   "metadata": {},
   "outputs": [],
   "source": [
    "def load_config():\n",
    "    # Load the configuration\n",
    "    with open(\"../config.json\", \"r\") as config_file:\n",
    "        config = json.load(config_file)\n",
    "    return config\n",
    "\n",
    "config = load_config()\n",
    "token = datahandler.token_ids['frxETH']\n",
    "\n",
    "token_config = config['token_exchange_map'][token_metadata[token]['symbol']]\n",
    "api, source, numeraire = token_config\n",
    "\n",
    "token_data = datahandler.get_curve_price(token, source, start_ts, end_ts, numeraire=datahandler.token_ids[numeraire])"
   ]
  },
  {
   "cell_type": "code",
   "execution_count": 170,
   "metadata": {},
   "outputs": [
    {
     "data": {
      "text/html": [
       "<div>\n",
       "<style scoped>\n",
       "    .dataframe tbody tr th:only-of-type {\n",
       "        vertical-align: middle;\n",
       "    }\n",
       "\n",
       "    .dataframe tbody tr th {\n",
       "        vertical-align: top;\n",
       "    }\n",
       "\n",
       "    .dataframe thead th {\n",
       "        text-align: right;\n",
       "    }\n",
       "</style>\n",
       "<table border=\"1\" class=\"dataframe\">\n",
       "  <thead>\n",
       "    <tr style=\"text-align: right;\">\n",
       "      <th></th>\n",
       "      <th>token_id</th>\n",
       "      <th>symbol</th>\n",
       "      <th>timestamp</th>\n",
       "      <th>open</th>\n",
       "      <th>high</th>\n",
       "      <th>low</th>\n",
       "      <th>close</th>\n",
       "      <th>volume</th>\n",
       "    </tr>\n",
       "  </thead>\n",
       "  <tbody>\n",
       "    <tr>\n",
       "      <th>0</th>\n",
       "      <td>0x5e8422345238f34275888049021821e8e08caa1f</td>\n",
       "      <td>frxETH/ETH</td>\n",
       "      <td>1672580</td>\n",
       "      <td>NaN</td>\n",
       "      <td>NaN</td>\n",
       "      <td>NaN</td>\n",
       "      <td>0.997934</td>\n",
       "      <td>0</td>\n",
       "    </tr>\n",
       "    <tr>\n",
       "      <th>1</th>\n",
       "      <td>0x5e8422345238f34275888049021821e8e08caa1f</td>\n",
       "      <td>frxETH/ETH</td>\n",
       "      <td>1672600</td>\n",
       "      <td>NaN</td>\n",
       "      <td>NaN</td>\n",
       "      <td>NaN</td>\n",
       "      <td>0.998073</td>\n",
       "      <td>0</td>\n",
       "    </tr>\n",
       "    <tr>\n",
       "      <th>2</th>\n",
       "      <td>0x5e8422345238f34275888049021821e8e08caa1f</td>\n",
       "      <td>frxETH/ETH</td>\n",
       "      <td>1672606</td>\n",
       "      <td>NaN</td>\n",
       "      <td>NaN</td>\n",
       "      <td>NaN</td>\n",
       "      <td>0.998098</td>\n",
       "      <td>0</td>\n",
       "    </tr>\n",
       "    <tr>\n",
       "      <th>3</th>\n",
       "      <td>0x5e8422345238f34275888049021821e8e08caa1f</td>\n",
       "      <td>frxETH/ETH</td>\n",
       "      <td>1672614</td>\n",
       "      <td>NaN</td>\n",
       "      <td>NaN</td>\n",
       "      <td>NaN</td>\n",
       "      <td>0.998141</td>\n",
       "      <td>0</td>\n",
       "    </tr>\n",
       "    <tr>\n",
       "      <th>4</th>\n",
       "      <td>0x5e8422345238f34275888049021821e8e08caa1f</td>\n",
       "      <td>frxETH/ETH</td>\n",
       "      <td>1672687</td>\n",
       "      <td>NaN</td>\n",
       "      <td>NaN</td>\n",
       "      <td>NaN</td>\n",
       "      <td>0.998211</td>\n",
       "      <td>0</td>\n",
       "    </tr>\n",
       "    <tr>\n",
       "      <th>...</th>\n",
       "      <td>...</td>\n",
       "      <td>...</td>\n",
       "      <td>...</td>\n",
       "      <td>...</td>\n",
       "      <td>...</td>\n",
       "      <td>...</td>\n",
       "      <td>...</td>\n",
       "      <td>...</td>\n",
       "    </tr>\n",
       "    <tr>\n",
       "      <th>902</th>\n",
       "      <td>0x5e8422345238f34275888049021821e8e08caa1f</td>\n",
       "      <td>frxETH/ETH</td>\n",
       "      <td>1675201</td>\n",
       "      <td>NaN</td>\n",
       "      <td>NaN</td>\n",
       "      <td>NaN</td>\n",
       "      <td>0.999672</td>\n",
       "      <td>0</td>\n",
       "    </tr>\n",
       "    <tr>\n",
       "      <th>903</th>\n",
       "      <td>0x5e8422345238f34275888049021821e8e08caa1f</td>\n",
       "      <td>frxETH/ETH</td>\n",
       "      <td>1675203</td>\n",
       "      <td>NaN</td>\n",
       "      <td>NaN</td>\n",
       "      <td>NaN</td>\n",
       "      <td>0.999672</td>\n",
       "      <td>0</td>\n",
       "    </tr>\n",
       "    <tr>\n",
       "      <th>904</th>\n",
       "      <td>0x5e8422345238f34275888049021821e8e08caa1f</td>\n",
       "      <td>frxETH/ETH</td>\n",
       "      <td>1675205</td>\n",
       "      <td>NaN</td>\n",
       "      <td>NaN</td>\n",
       "      <td>NaN</td>\n",
       "      <td>0.999672</td>\n",
       "      <td>0</td>\n",
       "    </tr>\n",
       "    <tr>\n",
       "      <th>905</th>\n",
       "      <td>0x5e8422345238f34275888049021821e8e08caa1f</td>\n",
       "      <td>frxETH/ETH</td>\n",
       "      <td>1675206</td>\n",
       "      <td>NaN</td>\n",
       "      <td>NaN</td>\n",
       "      <td>NaN</td>\n",
       "      <td>0.999672</td>\n",
       "      <td>0</td>\n",
       "    </tr>\n",
       "    <tr>\n",
       "      <th>906</th>\n",
       "      <td>0x5e8422345238f34275888049021821e8e08caa1f</td>\n",
       "      <td>frxETH/ETH</td>\n",
       "      <td>1675208</td>\n",
       "      <td>NaN</td>\n",
       "      <td>NaN</td>\n",
       "      <td>NaN</td>\n",
       "      <td>0.999672</td>\n",
       "      <td>0</td>\n",
       "    </tr>\n",
       "  </tbody>\n",
       "</table>\n",
       "<p>907 rows × 8 columns</p>\n",
       "</div>"
      ],
      "text/plain": [
       "                                       token_id      symbol  timestamp open   \n",
       "0    0x5e8422345238f34275888049021821e8e08caa1f  frxETH/ETH    1672580  NaN  \\\n",
       "1    0x5e8422345238f34275888049021821e8e08caa1f  frxETH/ETH    1672600  NaN   \n",
       "2    0x5e8422345238f34275888049021821e8e08caa1f  frxETH/ETH    1672606  NaN   \n",
       "3    0x5e8422345238f34275888049021821e8e08caa1f  frxETH/ETH    1672614  NaN   \n",
       "4    0x5e8422345238f34275888049021821e8e08caa1f  frxETH/ETH    1672687  NaN   \n",
       "..                                          ...         ...        ...  ...   \n",
       "902  0x5e8422345238f34275888049021821e8e08caa1f  frxETH/ETH    1675201  NaN   \n",
       "903  0x5e8422345238f34275888049021821e8e08caa1f  frxETH/ETH    1675203  NaN   \n",
       "904  0x5e8422345238f34275888049021821e8e08caa1f  frxETH/ETH    1675205  NaN   \n",
       "905  0x5e8422345238f34275888049021821e8e08caa1f  frxETH/ETH    1675206  NaN   \n",
       "906  0x5e8422345238f34275888049021821e8e08caa1f  frxETH/ETH    1675208  NaN   \n",
       "\n",
       "    high  low     close volume  \n",
       "0    NaN  NaN  0.997934      0  \n",
       "1    NaN  NaN  0.998073      0  \n",
       "2    NaN  NaN  0.998098      0  \n",
       "3    NaN  NaN  0.998141      0  \n",
       "4    NaN  NaN  0.998211      0  \n",
       "..   ...  ...       ...    ...  \n",
       "902  NaN  NaN  0.999672      0  \n",
       "903  NaN  NaN  0.999672      0  \n",
       "904  NaN  NaN  0.999672      0  \n",
       "905  NaN  NaN  0.999672      0  \n",
       "906  NaN  NaN  0.999672      0  \n",
       "\n",
       "[907 rows x 8 columns]"
      ]
     },
     "execution_count": 170,
     "metadata": {},
     "output_type": "execute_result"
    }
   ],
   "source": [
    "datahandler.format_token_data(token_data)"
   ]
  },
  {
   "cell_type": "code",
   "execution_count": null,
   "metadata": {},
   "outputs": [],
   "source": []
  }
 ],
 "metadata": {
  "kernelspec": {
   "display_name": "venv",
   "language": "python",
   "name": "python3"
  },
  "language_info": {
   "codemirror_mode": {
    "name": "ipython",
    "version": 3
   },
   "file_extension": ".py",
   "mimetype": "text/x-python",
   "name": "python",
   "nbconvert_exporter": "python",
   "pygments_lexer": "ipython3",
   "version": "3.10.6"
  },
  "orig_nbformat": 4
 },
 "nbformat": 4,
 "nbformat_minor": 2
}
