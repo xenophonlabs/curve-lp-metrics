{
 "cells": [
  {
   "cell_type": "code",
   "execution_count": 69,
   "metadata": {},
   "outputs": [
    {
     "name": "stdout",
     "output_type": "stream",
     "text": [
      "The autoreload extension is already loaded. To reload it, use:\n",
      "  %reload_ext autoreload\n"
     ]
    }
   ],
   "source": [
    "%load_ext autoreload\n",
    "%autoreload 2"
   ]
  },
  {
   "cell_type": "code",
   "execution_count": 70,
   "metadata": {},
   "outputs": [
    {
     "name": "stdout",
     "output_type": "stream",
     "text": [
      "Adding /root/curve-lp-metrics to sys.path\n"
     ]
    }
   ],
   "source": [
    "import os\n",
    "import sys\n",
    "import requests as req\n",
    "\n",
    "from datetime import datetime\n",
    "\n",
    "import pandas as pd\n",
    "\n",
    "new_path = os.getcwd().replace('/notebooks', '')\n",
    "print(f'Adding {new_path} to sys.path')\n",
    "\n",
    "if new_path not in sys.path:\n",
    "    sys.path.append(new_path)\n",
    "\n",
    "# Local imports\n",
    "from curvemetrics.src.classes.datahandler import DataHandler\n",
    "from curvemetrics.src.classes.datafetcher import DataFetcher"
   ]
  },
  {
   "cell_type": "code",
   "execution_count": 71,
   "metadata": {},
   "outputs": [
    {
     "ename": "KeyError",
     "evalue": "'inputTokens'",
     "output_type": "error",
     "traceback": [
      "\u001b[0;31m---------------------------------------------------------------------------\u001b[0m",
      "\u001b[0;31mKeyError\u001b[0m                                  Traceback (most recent call last)",
      "Cell \u001b[0;32mIn[71], line 6\u001b[0m\n\u001b[1;32m      4\u001b[0m datahandler \u001b[39m=\u001b[39m DataHandler()\n\u001b[1;32m      5\u001b[0m token_metadata \u001b[39m=\u001b[39m datahandler\u001b[39m.\u001b[39mget_token_metadata()\n\u001b[0;32m----> 6\u001b[0m pool_metadata \u001b[39m=\u001b[39m datahandler\u001b[39m.\u001b[39;49mget_pool_metadata()\n\u001b[1;32m      7\u001b[0m datafetcher \u001b[39m=\u001b[39m DataFetcher(token_metadata\u001b[39m=\u001b[39mtoken_metadata)\n\u001b[1;32m      9\u001b[0m _, block \u001b[39m=\u001b[39m datafetcher\u001b[39m.\u001b[39mget_block(datetime\u001b[39m.\u001b[39mtimestamp(datetime\u001b[39m.\u001b[39mnow()))\n",
      "File \u001b[0;32m~/curve-lp-metrics/curvemetrics/src/classes/datahandler.py:396\u001b[0m, in \u001b[0;36mDataHandler.get_pool_metadata\u001b[0;34m(self)\u001b[0m\n\u001b[1;32m    394\u001b[0m \u001b[39mfor\u001b[39;00m data \u001b[39min\u001b[39;00m metadata\u001b[39m.\u001b[39mvalues():\n\u001b[1;32m    395\u001b[0m     data[\u001b[39m'\u001b[39m\u001b[39mcoins\u001b[39m\u001b[39m'\u001b[39m] \u001b[39m=\u001b[39m json\u001b[39m.\u001b[39mloads(data[\u001b[39m'\u001b[39m\u001b[39mcoins\u001b[39m\u001b[39m'\u001b[39m])\n\u001b[0;32m--> 396\u001b[0m     data[\u001b[39m'\u001b[39m\u001b[39minputTokens\u001b[39m\u001b[39m'\u001b[39m] \u001b[39m=\u001b[39m json\u001b[39m.\u001b[39mloads(data[\u001b[39m'\u001b[39;49m\u001b[39minputTokens\u001b[39;49m\u001b[39m'\u001b[39;49m])\n\u001b[1;32m    397\u001b[0m \u001b[39mreturn\u001b[39;00m metadata\n",
      "\u001b[0;31mKeyError\u001b[0m: 'inputTokens'"
     ]
    }
   ],
   "source": [
    "start = datetime.timestamp(datetime(2022, 3, 1))\n",
    "end = datetime.timestamp(datetime(2022, 3, 2))\n",
    "\n",
    "datahandler = DataHandler()\n",
    "token_metadata = datahandler.get_token_metadata()\n",
    "pool_metadata = datahandler.get_pool_metadata()\n",
    "datafetcher = DataFetcher(token_metadata=token_metadata)\n",
    "\n",
    "_, block = datafetcher.get_block(datetime.timestamp(datetime.now()))"
   ]
  },
  {
   "cell_type": "code",
   "execution_count": 65,
   "metadata": {},
   "outputs": [
    {
     "ename": "SyntaxError",
     "evalue": "invalid syntax (1510313437.py, line 2)",
     "output_type": "error",
     "traceback": [
      "\u001b[0;36m  Cell \u001b[0;32mIn[65], line 2\u001b[0;36m\u001b[0m\n\u001b[0;31m    df['inputTokens'] =\u001b[0m\n\u001b[0m                        ^\u001b[0m\n\u001b[0;31mSyntaxError\u001b[0m\u001b[0;31m:\u001b[0m invalid syntax\n"
     ]
    }
   ],
   "source": [
    "df = pd.DataFrame([[v['id'], [t['id'] for t in v['inputTokens']]] for v in foo], columns=['pool_id', 'inputTokens'])\n",
    "df['inputTokens'] = \n",
    "df"
   ]
  },
  {
   "cell_type": "code",
   "execution_count": 46,
   "metadata": {},
   "outputs": [
    {
     "data": {
      "text/plain": [
       "{'inputTokens': [{'id': '0x6b175474e89094c44da98b954eedeac495271d0f'},\n",
       "  {'id': '0xa0b86991c6218b36c1d19d4a2e9eb0ce3606eb48'},\n",
       "  {'id': '0xdac17f958d2ee523a2206206994597c13d831ec7'}]}"
      ]
     },
     "execution_count": 46,
     "metadata": {},
     "output_type": "execute_result"
    }
   ],
   "source": [
    "foo[0]"
   ]
  },
  {
   "cell_type": "code",
   "execution_count": null,
   "metadata": {},
   "outputs": [],
   "source": []
  }
 ],
 "metadata": {
  "kernelspec": {
   "display_name": "venv",
   "language": "python",
   "name": "python3"
  },
  "language_info": {
   "codemirror_mode": {
    "name": "ipython",
    "version": 3
   },
   "file_extension": ".py",
   "mimetype": "text/x-python",
   "name": "python",
   "nbconvert_exporter": "python",
   "pygments_lexer": "ipython3",
   "version": "3.10.6"
  },
  "orig_nbformat": 4
 },
 "nbformat": 4,
 "nbformat_minor": 2
}
