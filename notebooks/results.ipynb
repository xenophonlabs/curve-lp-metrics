{
 "cells": [
  {
   "cell_type": "code",
   "execution_count": 1,
   "metadata": {},
   "outputs": [],
   "source": [
    "import pandas as pd\n",
    "import ast"
   ]
  },
  {
   "cell_type": "code",
   "execution_count": 2,
   "metadata": {},
   "outputs": [
    {
     "name": "stdout",
     "output_type": "stream",
     "text": [
      "\\begin{tabular}{llrrrrrr}\n",
      "\\toprule\n",
      " &  & F & P & R & alpha & beta & kappa \\\\\n",
      "pool & metric &  &  &  &  &  &  \\\\\n",
      "\\midrule\n",
      "\\multirow[t]{6}{*}{0xdc24316b9ae028f1497c275eb9192a3ea0f67022} & shannonsEntropy & 0.02758 & 0.01754 & 0.06439 & 0.10000 & 1000 & 1.00000 \\\\\n",
      " & giniCoefficient & 0.00000 & 0.00000 & 0.00000 & 100.00000 & 100 & 10000.00000 \\\\\n",
      " & sharkflow & 0.06684 & 0.03620 & 0.43561 & 0.00001 & 1 & 10000.00000 \\\\\n",
      " & netSwapFlow & 0.02128 & 0.03571 & 0.01515 & 0.01000 & 1000 & 1.00000 \\\\\n",
      " & netLPFlow & 0.02419 & 0.01471 & 0.06818 & 0.10000 & 100 & 1000.00000 \\\\\n",
      " & 300.Markout & 0.00000 & 0.01333 & 0.00000 & 10.00000 & 100 & 0.00010 \\\\\n",
      "\\cline{1-8}\n",
      "\\multirow[t]{6}{*}{0xbebc44782c7db0a1a60cb6fe97d0b483032ff1c7} & shannonsEntropy & 0.21277 & 0.14286 & 0.41667 & 0.10000 & 1000 & 1.00000 \\\\\n",
      " & giniCoefficient & 0.00984 & 0.00495 & 0.75000 & 100.00000 & 100 & 10000.00000 \\\\\n",
      " & sharkflow & 0.02277 & 0.01163 & 0.54167 & 0.00001 & 1 & 10000.00000 \\\\\n",
      " & netSwapFlow & 0.11111 & 0.07143 & 0.25000 & 0.01000 & 1000 & 1.00000 \\\\\n",
      " & netLPFlow & 0.01700 & 0.00870 & 0.37500 & 0.10000 & 100 & 1000.00000 \\\\\n",
      " & 300.Markout & 0.05650 & 0.03030 & 0.41667 & 10.00000 & 100 & 0.00010 \\\\\n",
      "\\cline{1-8}\n",
      "\\multirow[t]{6}{*}{0xdcef968d416a41cdac0ed8702fac8128a64241a2} & shannonsEntropy & 0.14286 & 0.12500 & 0.16667 & 0.10000 & 1000 & 1.00000 \\\\\n",
      " & giniCoefficient & 0.05882 & 0.03226 & 0.33333 & 100.00000 & 100 & 10000.00000 \\\\\n",
      " & sharkflow & 0.06780 & 0.03774 & 0.33333 & 0.00001 & 1 & 10000.00000 \\\\\n",
      " & netSwapFlow & 0.00000 & 0.00000 & 0.00000 & 0.01000 & 1000 & 1.00000 \\\\\n",
      " & netLPFlow & 0.04138 & 0.02326 & 0.18750 & 0.10000 & 100 & 1000.00000 \\\\\n",
      " & 300.Markout & 0.26496 & 0.16667 & 0.64583 & 10.00000 & 100 & 0.00010 \\\\\n",
      "\\cline{1-8}\n",
      "\\multirow[t]{6}{*}{0x0f9cb53ebe405d49a0bbdbd291a65ff571bc83e1} & shannonsEntropy & 0.01653 & 0.03030 & 0.01136 & 0.10000 & 1000 & 1.00000 \\\\\n",
      " & giniCoefficient & 0.02405 & 0.01370 & 0.09848 & 100.00000 & 100 & 10000.00000 \\\\\n",
      " & sharkflow & 0.04852 & 0.02643 & 0.29545 & 0.00001 & 1 & 10000.00000 \\\\\n",
      " & netSwapFlow & 0.09231 & 0.14286 & 0.06818 & 0.01000 & 1000 & 1.00000 \\\\\n",
      " & netLPFlow & 0.05714 & 0.03614 & 0.13636 & 0.10000 & 100 & 1000.00000 \\\\\n",
      " & 300.Markout & 0.08439 & 0.09524 & 0.07576 & 10.00000 & 100 & 0.00010 \\\\\n",
      "\\cline{1-8}\n",
      "\\multirow[t]{6}{*}{0x5a6a4d54456819380173272a5e8e9b9904bdf41b} & shannonsEntropy & 0.03568 & 0.06452 & 0.02466 & 0.10000 & 1000 & 1.00000 \\\\\n",
      " & giniCoefficient & 0.02761 & 0.02410 & 0.03231 & 100.00000 & 100 & 10000.00000 \\\\\n",
      " & sharkflow & 0.04762 & 0.07143 & 0.03571 & 0.00001 & 1 & 10000.00000 \\\\\n",
      " & netSwapFlow & 0.00962 & 0.08333 & 0.00510 & 0.01000 & 1000 & 1.00000 \\\\\n",
      " & netLPFlow & 0.03693 & 0.04167 & 0.03316 & 0.10000 & 100 & 1000.00000 \\\\\n",
      " & 300.Markout & 0.12733 & 0.18868 & 0.09609 & 10.00000 & 100 & 0.00010 \\\\\n",
      "\\cline{1-8}\n",
      "\\multirow[t]{6}{*}{0xa5407eae9ba41422680e2e00537571bcc53efbfd} & shannonsEntropy & 0.08451 & 0.04762 & 0.37500 & 0.10000 & 1000 & 1.00000 \\\\\n",
      " & giniCoefficient & 0.00000 & 0.00000 & 0.00000 & 100.00000 & 100 & 10000.00000 \\\\\n",
      " & sharkflow & 0.01095 & 0.00556 & 0.37500 & 0.00001 & 1 & 10000.00000 \\\\\n",
      " & netSwapFlow & 0.08333 & 0.04762 & 0.33333 & 0.01000 & 1000 & 1.00000 \\\\\n",
      " & netLPFlow & 0.01378 & 0.00699 & 0.45833 & 0.10000 & 100 & 1000.00000 \\\\\n",
      " & 300.Markout & 0.01709 & 0.00885 & 0.25000 & 10.00000 & 100 & 0.00010 \\\\\n",
      "\\cline{1-8}\n",
      "\\multirow[t]{6}{*}{0x828b154032950c8ff7cf8085d841723db2696056} & shannonsEntropy & 0.00000 & 0.00000 & 0.00000 & 0.10000 & 1000 & 1.00000 \\\\\n",
      " & giniCoefficient & 0.00000 & 0.00000 & 0.00000 & 100.00000 & 100 & 10000.00000 \\\\\n",
      " & sharkflow & 0.22319 & 0.17797 & 0.29924 & 0.00001 & 1 & 10000.00000 \\\\\n",
      " & netSwapFlow & 0.14634 & 0.60000 & 0.08333 & 0.01000 & 1000 & 1.00000 \\\\\n",
      " & netLPFlow & 0.17949 & 0.23333 & 0.14583 & 0.10000 & 100 & 1000.00000 \\\\\n",
      " & 300.Markout & 0.08752 & 0.08000 & 0.09659 & 10.00000 & 100 & 0.00010 \\\\\n",
      "\\cline{1-8}\n",
      "\\multirow[t]{6}{*}{0x5fae7e604fc3e24fd43a72867cebac94c65b404a} & shannonsEntropy & 0.00000 & 0.00000 & 0.00000 & 0.10000 & 1000 & 1.00000 \\\\\n",
      " & giniCoefficient & 0.00000 & 0.00000 & 0.00000 & 100.00000 & 100 & 10000.00000 \\\\\n",
      " & sharkflow & 0.00000 & 0.00000 & 0.00000 & 0.00001 & 1 & 10000.00000 \\\\\n",
      " & netSwapFlow & 0.00000 & 0.00000 & 0.00000 & 0.01000 & 1000 & 1.00000 \\\\\n",
      " & netLPFlow & 0.00000 & 0.00000 & 0.00000 & 0.10000 & 100 & 1000.00000 \\\\\n",
      " & 300.Markout & 0.00000 & 0.00000 & 0.00000 & 10.00000 & 100 & 0.00010 \\\\\n",
      "\\cline{1-8}\n",
      "\\bottomrule\n",
      "\\end{tabular}\n",
      "\n"
     ]
    }
   ],
   "source": [
    "results = pd.read_csv('../results/pool_results.csv')\n",
    "results = results.set_index(['pool', 'metric'])\n",
    "df = results.copy()\n",
    "df['alpha'] = 0\n",
    "df['beta'] = 0\n",
    "df['kappa'] = 0\n",
    "for idx, row in df.iterrows():\n",
    "    params = ast.literal_eval(row['params'])\n",
    "    row['alpha'] = params['alpha']\n",
    "    row['beta'] =params['beta']\n",
    "    row['kappa'] = params['kappa']\n",
    "    df.loc[idx] = row\n",
    "df = df.drop(['params'], axis=1).round(5)\n",
    "latex_table = df.to_latex(float_format=lambda x: f\"{x:.5f}\")\n",
    "print(latex_table)"
   ]
  },
  {
   "cell_type": "code",
   "execution_count": 3,
   "metadata": {},
   "outputs": [
    {
     "name": "stdout",
     "output_type": "stream",
     "text": [
      "\\begin{tabular}{lllllrrr}\n",
      "\\toprule\n",
      " &  & F & P & R & alpha & beta & kappa \\\\\n",
      "token & metric &  &  &  &  &  &  \\\\\n",
      "\\midrule\n",
      "\\bottomrule\n",
      "\\end{tabular}\n",
      "\n"
     ]
    }
   ],
   "source": [
    "results = pd.read_csv('../results/token_results.csv')\n",
    "results = results.set_index(['token', 'metric'])\n",
    "df = results.copy()\n",
    "df['alpha'] = 0\n",
    "df['beta'] = 0\n",
    "df['kappa'] = 0\n",
    "for idx, row in df.iterrows():\n",
    "    params = ast.literal_eval(row['params'])\n",
    "    row['alpha'] = params['alpha']\n",
    "    row['beta'] =params['beta']\n",
    "    row['kappa'] = params['kappa']\n",
    "    df.loc[idx] = row\n",
    "df = df.drop(['params'], axis=1).round(2)\n",
    "latex_table = df.to_latex(float_format=lambda x: f\"{x:.2f}\")\n",
    "print(latex_table)"
   ]
  },
  {
   "cell_type": "code",
   "execution_count": null,
   "metadata": {},
   "outputs": [],
   "source": []
  }
 ],
 "metadata": {
  "kernelspec": {
   "display_name": "venv",
   "language": "python",
   "name": "python3"
  },
  "language_info": {
   "codemirror_mode": {
    "name": "ipython",
    "version": 3
   },
   "file_extension": ".py",
   "mimetype": "text/x-python",
   "name": "python",
   "nbconvert_exporter": "python",
   "pygments_lexer": "ipython3",
   "version": "3.10.6"
  },
  "orig_nbformat": 4
 },
 "nbformat": 4,
 "nbformat_minor": 2
}
