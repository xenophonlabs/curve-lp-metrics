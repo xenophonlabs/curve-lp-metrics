{
 "cells": [
  {
   "cell_type": "code",
   "execution_count": 1,
   "metadata": {},
   "outputs": [],
   "source": [
    "import pandas as pd\n",
    "import ast"
   ]
  },
  {
   "cell_type": "code",
   "execution_count": 2,
   "metadata": {},
   "outputs": [
    {
     "name": "stdout",
     "output_type": "stream",
     "text": [
      "\\begin{tabular}{llrrrrrr}\n",
      "\\toprule\n",
      " &  & F & P & R & alpha & beta & kappa \\\\\n",
      "pool & metric &  &  &  &  &  &  \\\\\n",
      "\\midrule\n",
      "\\multirow[t]{5}{*}{0xdc24316b9ae028f1497c275eb9192a3ea0f67022} & netSwapFlow & 0.02 & 0.04 & 0.01 & 0.01 & 1000 & 1.00 \\\\\n",
      " & shannonsEntropy & 0.03 & 0.02 & 0.06 & 0.10 & 1000 & 1.00 \\\\\n",
      " & giniCoefficient & 0.00 & 0.00 & 0.00 & 100.00 & 100 & 10000.00 \\\\\n",
      " & 300.Markout & 0.00 & 0.01 & 0.00 & 10.00 & 100 & 0.00 \\\\\n",
      " & netLPFlow & 0.04 & 0.03 & 0.05 & 0.10 & 100 & 1000.00 \\\\\n",
      "\\cline{1-8}\n",
      "\\multirow[t]{5}{*}{0xbebc44782c7db0a1a60cb6fe97d0b483032ff1c7} & netSwapFlow & 0.14 & 0.10 & 0.25 & 0.01 & 1000 & 1.00 \\\\\n",
      " & shannonsEntropy & 0.21 & 0.14 & 0.42 & 0.10 & 1000 & 1.00 \\\\\n",
      " & giniCoefficient & 0.01 & 0.01 & 0.75 & 100.00 & 100 & 10000.00 \\\\\n",
      " & 300.Markout & 0.07 & 0.04 & 0.42 & 10.00 & 100 & 0.00 \\\\\n",
      " & netLPFlow & 0.02 & 0.01 & 0.38 & 0.10 & 100 & 1000.00 \\\\\n",
      "\\cline{1-8}\n",
      "\\multirow[t]{5}{*}{0xdcef968d416a41cdac0ed8702fac8128a64241a2} & netSwapFlow & 0.00 & 0.00 & 0.00 & 0.01 & 1000 & 1.00 \\\\\n",
      " & shannonsEntropy & 0.15 & 0.14 & 0.17 & 0.10 & 1000 & 1.00 \\\\\n",
      " & giniCoefficient & 0.04 & 0.02 & 0.17 & 100.00 & 100 & 10000.00 \\\\\n",
      " & 300.Markout & 0.31 & 0.20 & 0.65 & 10.00 & 100 & 0.00 \\\\\n",
      " & netLPFlow & 0.04 & 0.02 & 0.19 & 0.10 & 100 & 1000.00 \\\\\n",
      "\\cline{1-8}\n",
      "\\multirow[t]{5}{*}{0x0f9cb53ebe405d49a0bbdbd291a65ff571bc83e1} & netSwapFlow & 0.09 & 0.14 & 0.07 & 0.01 & 1000 & 1.00 \\\\\n",
      " & shannonsEntropy & 0.02 & 0.03 & 0.01 & 0.10 & 1000 & 1.00 \\\\\n",
      " & giniCoefficient & 0.02 & 0.01 & 0.10 & 100.00 & 100 & 10000.00 \\\\\n",
      " & 300.Markout & 0.08 & 0.10 & 0.08 & 10.00 & 100 & 0.00 \\\\\n",
      " & netLPFlow & 0.06 & 0.04 & 0.14 & 0.10 & 100 & 1000.00 \\\\\n",
      "\\cline{1-8}\n",
      "\\multirow[t]{5}{*}{0x5a6a4d54456819380173272a5e8e9b9904bdf41b} & netSwapFlow & 0.03 & 0.08 & 0.02 & 0.01 & 1000 & 1.00 \\\\\n",
      " & shannonsEntropy & 0.05 & 0.07 & 0.04 & 0.10 & 1000 & 1.00 \\\\\n",
      " & giniCoefficient & 0.03 & 0.02 & 0.03 & 100.00 & 100 & 10000.00 \\\\\n",
      " & 300.Markout & 0.18 & 0.26 & 0.14 & 10.00 & 100 & 0.00 \\\\\n",
      " & netLPFlow & 0.00 & 0.00 & 0.00 & 0.10 & 100 & 1000.00 \\\\\n",
      "\\cline{1-8}\n",
      "\\multirow[t]{5}{*}{0xa5407eae9ba41422680e2e00537571bcc53efbfd} & netSwapFlow & 0.10 & 0.06 & 0.33 & 0.01 & 1000 & 1.00 \\\\\n",
      " & shannonsEntropy & 0.08 & 0.05 & 0.38 & 0.10 & 1000 & 1.00 \\\\\n",
      " & giniCoefficient & 0.00 & 0.00 & 0.00 & 100.00 & 100 & 10000.00 \\\\\n",
      " & 300.Markout & 0.02 & 0.01 & 0.25 & 10.00 & 100 & 0.00 \\\\\n",
      " & netLPFlow & 0.01 & 0.01 & 0.46 & 0.10 & 100 & 1000.00 \\\\\n",
      "\\cline{1-8}\n",
      "\\multirow[t]{5}{*}{0xa1f8a6807c402e4a15ef4eba36528a3fed24e577} & netSwapFlow & 0.00 & 0.00 & 0.00 & 0.01 & 1000 & 1.00 \\\\\n",
      " & shannonsEntropy & 0.00 & 0.00 & 0.00 & 0.10 & 1000 & 1.00 \\\\\n",
      " & giniCoefficient & 0.00 & 0.00 & 0.00 & 100.00 & 100 & 10000.00 \\\\\n",
      " & 300.Markout & 0.05 & 0.03 & 0.35 & 10.00 & 100 & 0.00 \\\\\n",
      " & netLPFlow & 0.05 & 0.03 & 0.46 & 0.10 & 100 & 1000.00 \\\\\n",
      "\\cline{1-8}\n",
      "\\multirow[t]{5}{*}{0xed279fdd11ca84beef15af5d39bb4d4bee23f0ca} & netSwapFlow & 0.00 & 0.00 & 0.00 & 0.01 & 1000 & 1.00 \\\\\n",
      " & shannonsEntropy & 0.00 & 0.00 & 0.00 & 0.10 & 1000 & 1.00 \\\\\n",
      " & giniCoefficient & 0.00 & 0.00 & 0.00 & 100.00 & 100 & 10000.00 \\\\\n",
      " & 300.Markout & 0.00 & 0.00 & 0.00 & 10.00 & 100 & 0.00 \\\\\n",
      " & netLPFlow & 0.00 & 0.00 & 0.00 & 0.10 & 100 & 1000.00 \\\\\n",
      "\\cline{1-8}\n",
      "\\multirow[t]{5}{*}{0x4807862aa8b2bf68830e4c8dc86d0e9a998e085a} & netSwapFlow & 0.00 & 0.00 & 0.00 & 0.01 & 1000 & 1.00 \\\\\n",
      " & shannonsEntropy & 0.00 & 0.00 & 0.00 & 0.10 & 1000 & 1.00 \\\\\n",
      " & giniCoefficient & 0.00 & 0.00 & 0.00 & 100.00 & 100 & 10000.00 \\\\\n",
      " & 300.Markout & 0.00 & 0.00 & 0.00 & 10.00 & 100 & 0.00 \\\\\n",
      " & netLPFlow & 0.00 & 0.00 & 0.00 & 0.10 & 100 & 1000.00 \\\\\n",
      "\\cline{1-8}\n",
      "\\multirow[t]{5}{*}{0x828b154032950c8ff7cf8085d841723db2696056} & netSwapFlow & 0.15 & 0.86 & 0.08 & 0.01 & 1000 & 1.00 \\\\\n",
      " & shannonsEntropy & 0.00 & 0.00 & 0.00 & 0.10 & 1000 & 1.00 \\\\\n",
      " & giniCoefficient & 0.00 & 0.00 & 0.00 & 100.00 & 100 & 10000.00 \\\\\n",
      " & 300.Markout & 0.17 & 0.22 & 0.13 & 10.00 & 100 & 0.00 \\\\\n",
      " & netLPFlow & 0.19 & 0.30 & 0.13 & 0.10 & 100 & 1000.00 \\\\\n",
      "\\cline{1-8}\n",
      "\\multirow[t]{5}{*}{0x5fae7e604fc3e24fd43a72867cebac94c65b404a} & netSwapFlow & 0.00 & 0.00 & 0.00 & 0.01 & 1000 & 1.00 \\\\\n",
      " & shannonsEntropy & 0.00 & 0.00 & 0.00 & 0.10 & 1000 & 1.00 \\\\\n",
      " & giniCoefficient & 0.00 & 0.00 & 0.00 & 100.00 & 100 & 10000.00 \\\\\n",
      " & 300.Markout & 0.00 & 0.00 & 0.00 & 10.00 & 100 & 0.00 \\\\\n",
      " & netLPFlow & 0.00 & 0.00 & 0.00 & 0.10 & 100 & 1000.00 \\\\\n",
      "\\cline{1-8}\n",
      "\\bottomrule\n",
      "\\end{tabular}\n",
      "\n"
     ]
    }
   ],
   "source": [
    "results = pd.read_csv('../results/pool_results.csv')\n",
    "results = results.set_index(['pool', 'metric'])\n",
    "df = results.copy()\n",
    "df['alpha'] = 0\n",
    "df['beta'] = 0\n",
    "df['kappa'] = 0\n",
    "for idx, row in df.iterrows():\n",
    "    params = ast.literal_eval(row['params'])\n",
    "    row['alpha'] = params['alpha']\n",
    "    row['beta'] =params['beta']\n",
    "    row['kappa'] = params['kappa']\n",
    "    df.loc[idx] = row\n",
    "df = df.drop(['params'], axis=1).round(2)\n",
    "latex_table = df.to_latex(float_format=lambda x: f\"{x:.2f}\")\n",
    "print(latex_table)"
   ]
  },
  {
   "cell_type": "code",
   "execution_count": 3,
   "metadata": {},
   "outputs": [
    {
     "name": "stdout",
     "output_type": "stream",
     "text": [
      "\\begin{tabular}{lllllrrr}\n",
      "\\toprule\n",
      " &  & F & P & R & alpha & beta & kappa \\\\\n",
      "token & metric &  &  &  &  &  &  \\\\\n",
      "\\midrule\n",
      "\\bottomrule\n",
      "\\end{tabular}\n",
      "\n"
     ]
    }
   ],
   "source": [
    "results = pd.read_csv('../results/token_results.csv')\n",
    "results = results.set_index(['token', 'metric'])\n",
    "df = results.copy()\n",
    "df['alpha'] = 0\n",
    "df['beta'] = 0\n",
    "df['kappa'] = 0\n",
    "for idx, row in df.iterrows():\n",
    "    params = ast.literal_eval(row['params'])\n",
    "    row['alpha'] = params['alpha']\n",
    "    row['beta'] =params['beta']\n",
    "    row['kappa'] = params['kappa']\n",
    "    df.loc[idx] = row\n",
    "df = df.drop(['params'], axis=1).round(2)\n",
    "latex_table = df.to_latex(float_format=lambda x: f\"{x:.2f}\")\n",
    "print(latex_table)"
   ]
  },
  {
   "cell_type": "code",
   "execution_count": null,
   "metadata": {},
   "outputs": [],
   "source": []
  }
 ],
 "metadata": {
  "kernelspec": {
   "display_name": "venv",
   "language": "python",
   "name": "python3"
  },
  "language_info": {
   "codemirror_mode": {
    "name": "ipython",
    "version": 3
   },
   "file_extension": ".py",
   "mimetype": "text/x-python",
   "name": "python",
   "nbconvert_exporter": "python",
   "pygments_lexer": "ipython3",
   "version": "3.10.6"
  },
  "orig_nbformat": 4
 },
 "nbformat": 4,
 "nbformat_minor": 2
}
