{
 "cells": [
  {
   "attachments": {},
   "cell_type": "markdown",
   "metadata": {},
   "source": [
    "# Bayesian Online Changepoint Detection\n",
    "\n",
    "This notebook shows `BOCD` in action using the pickled model configs saved in `model_config`. "
   ]
  },
  {
   "cell_type": "code",
   "execution_count": null,
   "metadata": {},
   "outputs": [],
   "source": [
    "%load_ext autoreload\n",
    "%autoreload 2\n",
    "\n",
    "import ast\n",
    "import os\n",
    "import sys\n",
    "import requests as req\n",
    "import json\n",
    "import multiprocessing as mp\n",
    "import time\n",
    "import asyncio\n",
    "import ccxt\n",
    "\n",
    "from datetime import datetime, timedelta\n",
    "\n",
    "import pandas as pd\n",
    "import numpy as np\n",
    "import matplotlib.pyplot as plt\n",
    "\n",
    "new_path = os.getcwd().replace('/notebooks', '')\n",
    "print(f'Adding {new_path} to sys.path')\n",
    "\n",
    "if new_path not in sys.path:\n",
    "    sys.path.append(new_path)\n",
    "\n",
    "plt.rcParams[\"font.family\"] = \"serif\"\n",
    "plt.rcParams.update({'font.size': 10})\n",
    "\n",
    "# Local imports\n",
    "from curvemetrics.src.classes.datahandler import DataHandler\n",
    "from curvemetrics.src.classes.datafetcher import DataFetcher\n",
    "from curvemetrics.src.classes.metricsprocessor import MetricsProcessor\n",
    "from curvemetrics.src.classes.modelsetup import ModelSetup\n",
    "from curvemetrics.src.detection.scorer import early_weight\n",
    "from curvemetrics.src.plotting.plot import bocd_plot_comp\n",
    "from curvemetrics.src.classes.model import BOCD\n",
    "from curvemetrics.src.classes.entities import *"
   ]
  }
 ],
 "metadata": {
  "kernelspec": {
   "display_name": "venv",
   "language": "python",
   "name": "python3"
  },
  "language_info": {
   "codemirror_mode": {
    "name": "ipython",
    "version": 3
   },
   "file_extension": ".py",
   "mimetype": "text/x-python",
   "name": "python",
   "nbconvert_exporter": "python",
   "pygments_lexer": "ipython3",
   "version": "3.10.6"
  },
  "orig_nbformat": 4
 },
 "nbformat": 4,
 "nbformat_minor": 2
}
