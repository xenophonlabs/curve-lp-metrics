{
 "cells": [
  {
   "cell_type": "code",
   "execution_count": null,
   "metadata": {},
   "outputs": [],
   "source": [
    "import os\n",
    "import sys\n",
    "import requests as req\n",
    "import json\n",
    "\n",
    "from datetime import datetime\n",
    "\n",
    "import pandas as pd\n",
    "import matplotlib.pyplot as plt\n",
    "\n",
    "new_path = os.getcwd().replace('/notebooks', '')\n",
    "print(f'Adding {new_path} to sys.path')\n",
    "\n",
    "if new_path not in sys.path:\n",
    "    sys.path.append(new_path)\n",
    "\n",
    "# Local imports\n",
    "from curvemetrics.src.classes.datahandler import DataHandler\n",
    "from curvemetrics.src.classes.datafetcher import DataFetcher\n",
    "from curvemetrics.src.classes.metricsprocessor import MetricsProcessor"
   ]
  },
  {
   "cell_type": "code",
   "execution_count": null,
   "metadata": {},
   "outputs": [],
   "source": [
    "plt.rcParams[\"font.family\"] = \"serif\"\n",
    "plt.rcParams.update({'font.size': 10})"
   ]
  },
  {
   "cell_type": "code",
   "execution_count": null,
   "metadata": {},
   "outputs": [],
   "source": [
    "datahandler = DataHandler()\n",
    "token_metadata = datahandler.get_token_metadata()\n",
    "pool_metadata = datahandler.get_pool_metadata()\n",
    "for p in pool_metadata:\n",
    "    pool_metadata[p]['inputTokens'] = json.loads(pool_metadata[p]['inputTokens'])\n",
    "\n",
    "pool = \"0xbebc44782c7db0a1a60cb6fe97d0b483032ff1c7\" # 3pool\n",
    "\n",
    "start_ts, start_block = DataFetcher.get_block(datetime.fromisoformat(\"2023-03-01\"))\n",
    "end_ts, end_block = DataFetcher.get_block(datetime.fromisoformat(\"2023-03-15\"))"
   ]
  },
  {
   "cell_type": "code",
   "execution_count": null,
   "metadata": {},
   "outputs": [],
   "source": [
    "async def get_snapshots():\n",
    "    datafetcher = DataFetcher(token_metadata=token_metadata)\n",
    "    try:\n",
    "        snapshots = datafetcher.get_snapshots(start_ts, end_ts, pool)\n",
    "    except Exception as e:\n",
    "        print(f'excepted: {e}')\n",
    "        return \n",
    "    finally:\n",
    "        await datafetcher.close()\n",
    "    return snapshots\n",
    "    \n",
    "snapshots = await get_snapshots()"
   ]
  },
  {
   "cell_type": "code",
   "execution_count": null,
   "metadata": {},
   "outputs": [],
   "source": [
    "df = pd.DataFrame.from_dict([x for y in snapshots for x in y])\n",
    "for col in ['A', 'offPegFeeMultiplier', 'timestamp', 'virtualPrice', 'lastPricesTimestamp', 'block_gte', 'block_lt']:\n",
    "    df[col] = df[col].astype(int)\n",
    "for col in ['adminFee', 'fee', 'lpPriceUSD', 'tvl', 'totalDailyFeesUSD', 'lpFeesUSD']:\n",
    "    df[col] = df[col].astype(float)\n",
    "for col in ['normalizedReserves', 'reserves']:\n",
    "    df[col] = df[col].apply(lambda x: [int(y) for y in x])\n",
    "for col in ['reservesUSD']:\n",
    "    df[col] = df[col].apply(lambda x: [float(y) for y in x])\n",
    "df = df.sort_values(by='timestamp')\n",
    "df.index = df['timestamp'].apply(datetime.fromtimestamp)\n",
    "df.head()"
   ]
  }
 ],
 "metadata": {
  "kernelspec": {
   "display_name": "venv",
   "language": "python",
   "name": "python3"
  },
  "language_info": {
   "name": "python",
   "version": "3.10.6"
  },
  "orig_nbformat": 4
 },
 "nbformat": 4,
 "nbformat_minor": 2
}
