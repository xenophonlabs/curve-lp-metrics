{
 "cells": [
  {
   "attachments": {},
   "cell_type": "markdown",
   "metadata": {},
   "source": [
    "# Regime Shift Detection Methods\n",
    "\n",
    "Notebook to explore how we may detect regime shifts in real-time for our timseries data. For example, how do we signal a regime shift in price volatility as new data streams in?"
   ]
  },
  {
   "cell_type": "markdown",
   "metadata": {},
   "source": []
  }
 ],
 "metadata": {
  "language_info": {
   "name": "python"
  },
  "orig_nbformat": 4
 },
 "nbformat": 4,
 "nbformat_minor": 2
}
